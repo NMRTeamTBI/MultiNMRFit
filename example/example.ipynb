{
 "cells": [
  {
   "cell_type": "code",
   "execution_count": 26,
   "id": "41d1b3f2-43a6-46b1-b29c-f8e9585062f2",
   "metadata": {},
   "outputs": [
    {
     "name": "stdout",
     "output_type": "stream",
     "text": [
      "2023-01-07 16:46:50,956 | INFO : Hello world!\n"
     ]
    }
   ],
   "source": []
  },
  {
   "cell_type": "code",
   "execution_count": null,
   "id": "f854638b-36af-4c49-bdee-18ce0465885a",
   "metadata": {},
   "outputs": [],
   "source": []
  },
  {
   "cell_type": "markdown",
   "id": "82e45651-4954-4715-af0c-6e7744f11c43",
   "metadata": {},
   "source": [
    "Initialize logger."
   ]
  },
  {
   "cell_type": "code",
   "execution_count": null,
   "id": "56964584-9076-4298-9831-a03720622e3f",
   "metadata": {},
   "outputs": [],
   "source": [
    "import logging\n",
    "import sys\n",
    "\n",
    "logging.basicConfig(format='%(asctime)s | %(levelname)s : %(message)s', level=logging.DEBUG, stream=sys.stdout)"
   ]
  },
  {
   "cell_type": "markdown",
   "id": "f1f32d21-9b59-4eb0-89a8-ece1dff4fa34",
   "metadata": {},
   "source": [
    "Load multinmrfit."
   ]
  },
  {
   "cell_type": "code",
   "execution_count": 27,
   "id": "e2af57f9-5b2c-41b0-8e2a-08e542dd3755",
   "metadata": {},
   "outputs": [],
   "source": [
    "import multinmrfit.base.spectrum as spectrum\n",
    "import multinmrfit.base.io as io"
   ]
  },
  {
   "cell_type": "markdown",
   "id": "14b945c6-6933-4d33-88d5-2ea829f0b3d6",
   "metadata": {},
   "source": [
    "Load pandas to read data."
   ]
  },
  {
   "cell_type": "markdown",
   "id": "922495cd-ed0c-4f4f-b8e0-40d139c76f02",
   "metadata": {},
   "source": [
    "import pandas as pd"
   ]
  },
  {
   "cell_type": "markdown",
   "id": "17854973-d047-49b2-af96-9209137a6748",
   "metadata": {},
   "source": [
    "Load models of signals implemented in multinmrfit."
   ]
  },
  {
   "cell_type": "code",
   "execution_count": 28,
   "id": "7edeb66d-b53d-43a5-98db-7b7ece01198b",
   "metadata": {},
   "outputs": [
    {
     "name": "stdout",
     "output_type": "stream",
     "text": [
      "2023-01-07 16:46:56,433 | DEBUG : add model from file 'model_doublet.py'\n",
      "2023-01-07 16:46:56,435 | DEBUG : model name: doublet\n",
      "2023-01-07 16:46:56,436 | DEBUG : add model from file 'model_singlet.py'\n",
      "2023-01-07 16:46:56,437 | DEBUG : model name: singlet\n",
      "2023-01-07 16:46:56,438 | DEBUG : add model from file 'model_triplet.py'\n",
      "2023-01-07 16:46:56,440 | DEBUG : model name: triplet\n"
     ]
    }
   ],
   "source": [
    "\n",
    "# load available models\n",
    "available_models = io.IoHandler.get_models()\n"
   ]
  },
  {
   "cell_type": "code",
   "execution_count": null,
   "id": "41aea2ad-96a7-4c6c-a29f-4e43ea591ee4",
   "metadata": {},
   "outputs": [],
   "source": []
  },
  {
   "cell_type": "code",
   "execution_count": 29,
   "id": "5c7fd577-659d-422e-a94e-fa931394c6cf",
   "metadata": {},
   "outputs": [],
   "source": [
    "\n",
    "# data can be provided directly as a pandas dataframe or be loaded from TopSpin files\n",
    "test_synthetic_dataset = pd.read_table(\"./data/data_sim_nmrfit.csv\", sep=\"\\t\")\n",
    "\n",
    "test_topspin_dataset = {\"data_path\":\"C:/Bruker/TopSpin4.0.7/data\",\n",
    "                        \"dataset\":\"CFE_test\",\n",
    "                        \"expno\":\"991\",\n",
    "                        \"procno\":\"1\",\n",
    "                        \"rowno\":\"3\"}\n"
   ]
  },
  {
   "cell_type": "code",
   "execution_count": null,
   "id": "9e2c3620-2ea2-4316-9af0-9c213f6c3438",
   "metadata": {},
   "outputs": [],
   "source": []
  },
  {
   "cell_type": "code",
   "execution_count": 30,
   "id": "79368034-f40d-407d-8add-f4a8e5735285",
   "metadata": {},
   "outputs": [],
   "source": [
    "\n",
    "# window of interest\n",
    "window=(-0.2, 0.2)\n"
   ]
  },
  {
   "cell_type": "code",
   "execution_count": null,
   "id": "3ddc82d5-8717-4b6b-abd2-2ef485c730c1",
   "metadata": {},
   "outputs": [],
   "source": []
  },
  {
   "cell_type": "code",
   "execution_count": 31,
   "id": "470cc00b-35d0-41db-a871-e319e941cfbc",
   "metadata": {},
   "outputs": [
    {
     "name": "stdout",
     "output_type": "stream",
     "text": [
      "2023-01-07 16:47:02,785 | DEBUG : create Spectrum object\n"
     ]
    }
   ],
   "source": [
    "\n",
    "# create Spectrum object\n",
    "sp = spectrum.Spectrum(data=test_synthetic_dataset, window=window)\n"
   ]
  },
  {
   "cell_type": "code",
   "execution_count": null,
   "id": "a95c9b5d-01c1-4e18-948c-de8de3ceba7c",
   "metadata": {},
   "outputs": [],
   "source": []
  },
  {
   "cell_type": "code",
   "execution_count": 33,
   "id": "87e448d5-6445-47d4-bed9-8697067bbffd",
   "metadata": {},
   "outputs": [
    {
     "name": "stdout",
     "output_type": "stream",
     "text": [
      "2023-01-07 16:49:16,442 | DEBUG : peak peaking\n",
      "2023-01-07 16:49:16,449 | DEBUG : peak table\n",
      "      intensity  ppm  X_AXIS  cID  X_LW           VOL\n",
      "0  1.250091e+06  0.0    63.0    1   2.0  3.521388e+06\n"
     ]
    }
   ],
   "source": [
    "\n",
    "# perform peak picking\n",
    "peak_table = sp.peak_picking(1e6)\n",
    "\n",
    "\n"
   ]
  },
  {
   "cell_type": "code",
   "execution_count": null,
   "id": "d06920d9-6082-488f-8237-858decc6c6ec",
   "metadata": {},
   "outputs": [],
   "source": []
  },
  {
   "cell_type": "code",
   "execution_count": 34,
   "id": "e231fbf2-85a6-4bf2-a582-bd7cf27ad7ed",
   "metadata": {},
   "outputs": [
    {
     "name": "stdout",
     "output_type": "stream",
     "text": [
      "2023-01-07 16:49:19,880 | DEBUG : create plot\n"
     ]
    },
    {
     "data": {
      "application/vnd.plotly.v1+json": {
       "config": {
        "plotlyServerURL": "https://plot.ly"
       },
       "data": [
        {
         "marker": {
          "color": "#386CB0"
         },
         "mode": "lines",
         "name": "exp. spectrum",
         "type": "scatter",
         "x": [
          -0.1999999999999999,
          -0.1968253968253968,
          -0.1936507936507936,
          -0.1904761904761904,
          -0.1873015873015873,
          -0.1841269841269841,
          -0.1809523809523809,
          -0.1777777777777778,
          -0.1746031746031746,
          -0.1714285714285713,
          -0.1682539682539682,
          -0.165079365079365,
          -0.1619047619047618,
          -0.1587301587301587,
          -0.1555555555555555,
          -0.1523809523809524,
          -0.1492063492063492,
          -0.146031746031746,
          -0.1428571428571429,
          -0.1396825396825396,
          -0.1365079365079364,
          -0.1333333333333333,
          -0.1301587301587301,
          -0.1269841269841269,
          -0.1238095238095238,
          -0.1206349206349206,
          -0.1174603174603174,
          -0.1142857142857143,
          -0.1111111111111111,
          -0.1079365079365078,
          -0.1047619047619047,
          -0.1015873015873015,
          -0.0984126984126984,
          -0.0952380952380952,
          -0.092063492063492,
          -0.0888888888888889,
          -0.0857142857142857,
          -0.0825396825396825,
          -0.0793650793650794,
          -0.0761904761904761,
          -0.0730158730158729,
          -0.0698412698412698,
          -0.0666666666666666,
          -0.0634920634920634,
          -0.0603174603174603,
          -0.0571428571428571,
          -0.053968253968254,
          -0.0507936507936508,
          -0.0476190476190476,
          -0.0444444444444444,
          -0.0412698412698412,
          -0.038095238095238,
          -0.0349206349206349,
          -0.0317460317460317,
          -0.0285714285714285,
          -0.0253968253968254,
          -0.0222222222222222,
          -0.019047619047619,
          -0.0158730158730159,
          -0.0126984126984126,
          -0.0095238095238094,
          -0.0063492063492063,
          -0.0031746031746031,
          0,
          0.0031746031746031,
          0.0063492063492063,
          0.0095238095238094,
          0.0126984126984126,
          0.0158730158730158,
          0.0190476190476189,
          0.0222222222222221,
          0.0253968253968253,
          0.0285714285714284,
          0.0317460317460318,
          0.034920634920635,
          0.0380952380952381,
          0.0412698412698413,
          0.0444444444444445,
          0.0476190476190476,
          0.0507936507936508,
          0.053968253968254,
          0.0571428571428571,
          0.0603174603174603,
          0.0634920634920634,
          0.0666666666666666,
          0.0698412698412698,
          0.0730158730158729,
          0.0761904761904761,
          0.0793650793650793,
          0.0825396825396824,
          0.0857142857142856,
          0.0888888888888888,
          0.0920634920634919,
          0.0952380952380953,
          0.0984126984126985,
          0.1015873015873016,
          0.1047619047619048,
          0.107936507936508,
          0.1111111111111111,
          0.1142857142857143,
          0.1174603174603174,
          0.1206349206349206,
          0.1238095238095238,
          0.1269841269841269,
          0.1301587301587301,
          0.1333333333333333,
          0.1365079365079364,
          0.1396825396825396,
          0.1428571428571428,
          0.1460317460317459,
          0.1492063492063491,
          0.1523809523809522,
          0.1555555555555554,
          0.1587301587301588,
          0.161904761904762,
          0.1650793650793651,
          0.1682539682539683,
          0.1714285714285714,
          0.1746031746031746,
          0.1777777777777778,
          0.1809523809523809,
          0.1841269841269841,
          0.1873015873015873,
          0.1904761904761904,
          0.1936507936507936,
          0.1968253968253968,
          0.1999999999999999
         ],
         "xaxis": "x",
         "y": [
          3203.8213991064235,
          3304.9953804123325,
          3411.164836862961,
          3522.66404088274,
          3639.8556725481512,
          3763.133763647805,
          3892.927003571289,
          4029.702458698749,
          4173.969765405678,
          4326.285866798944,
          4487.260375182877,
          4657.561656414764,
          4837.9237492355705,
          5029.154252960412,
          5232.14334133612,
          5447.874089860236,
          5677.434339583963,
          5922.030363873389,
          6183.002657652052,
          6461.844233673511,
          6760.2218904118645,
          7080.001015106422,
          7423.274608374431,
          7792.3973701227005,
          8190.025878726982,
          8619.16613773078,
          9083.23007131418,
          9586.102940977684,
          10132.224157308034,
          10726.684607379988,
          11375.344457799236,
          12084.97649050273,
          12863.441472574465,
          13719.903976641106,
          14665.09962882495,
          15711.668212789427,
          16874.57175256134,
          18171.623140802843,
          19624.15981319587,
          21257.90948612848,
          23104.112706328684,
          25200.992377970106,
          27595.697324856184,
          30346.901209590505,
          33528.319082432376,
          37233.52641405797,
          41582.65405017458,
          46731.827531132905,
          52886.68883104754,
          60322.09975150958,
          69411.38272265853,
          80670.56607297751,
          94826.70482754818,
          112925.56782011809,
          136504.71598862327,
          167876.05440175824,
          210589.5700679826,
          270178.87550814607,
          355252.18629190105,
          478560.307797556,
          655560.5845798899,
          890960.0766567012,
          1135648.3899828095,
          1250091.1286377506,
          1135648.5389350115,
          890960.3745614183,
          655561.0314377496,
          478560.9036094988,
          355252.9310591847,
          270179.7692323337,
          210590.6127509561,
          167877.24604571276,
          136506.05659606747,
          112927.0573938728,
          94828.34337075106,
          80672.35358907796,
          69413.31921541966,
          60324.18522500821,
          52888.9232896744,
          46734.210979591975,
          41585.18649348388,
          37236.207857549336,
          33531.14953175147,
          30349.88067069681,
          27598.8258040231,
          25204.269881784952,
          23107.539241692743,
          21261.48506025704,
          19627.88443361832,
          18175.496815362523,
          16878.594489415795,
          15715.840020410382,
          14669.42051599834,
          13724.37395246709,
          12868.060546467656,
          12089.744672192051,
          11380.261757328044,
          10731.75103510613,
          10137.439723903935,
          9591.467657430334,
          9088.743948925265,
          8624.829188116715,
          8195.838113819003,
          7798.358802166903,
          7429.385249931858,
          7086.260879053124,
          6766.630989938982,
          6468.402582287343,
          6189.710269174148,
          5928.88725244059,
          5684.440519648522,
          5455.029576189883,
          5239.448149014146,
          5036.608397385743,
          4845.5272461229,
          4665.314521794594,
          4495.162625401626,
          4334.337518519044,
          4182.170835605667,
          4038.0529646733567,
          3901.4269629315513,
          3771.7831943211554,
          3648.654592778527,
          3531.6124692306844,
          3420.262792205728,
          3314.242881943995,
          3213.2184663379844
         ],
         "yaxis": "y"
        },
        {
         "marker": {
          "color": "#FDC086",
          "line": {
           "width": 1.2
          },
          "size": 9,
          "symbol": "arrow-down"
         },
         "mode": "markers",
         "name": "peaks",
         "type": "scatter",
         "x": [
          0
         ],
         "xaxis": "x",
         "y": [
          1312595.685069638
         ],
         "yaxis": "y"
        }
       ],
       "layout": {
        "autosize": true,
        "plot_bgcolor": "white",
        "template": {
         "data": {
          "bar": [
           {
            "error_x": {
             "color": "#2a3f5f"
            },
            "error_y": {
             "color": "#2a3f5f"
            },
            "marker": {
             "line": {
              "color": "#E5ECF6",
              "width": 0.5
             },
             "pattern": {
              "fillmode": "overlay",
              "size": 10,
              "solidity": 0.2
             }
            },
            "type": "bar"
           }
          ],
          "barpolar": [
           {
            "marker": {
             "line": {
              "color": "#E5ECF6",
              "width": 0.5
             },
             "pattern": {
              "fillmode": "overlay",
              "size": 10,
              "solidity": 0.2
             }
            },
            "type": "barpolar"
           }
          ],
          "carpet": [
           {
            "aaxis": {
             "endlinecolor": "#2a3f5f",
             "gridcolor": "white",
             "linecolor": "white",
             "minorgridcolor": "white",
             "startlinecolor": "#2a3f5f"
            },
            "baxis": {
             "endlinecolor": "#2a3f5f",
             "gridcolor": "white",
             "linecolor": "white",
             "minorgridcolor": "white",
             "startlinecolor": "#2a3f5f"
            },
            "type": "carpet"
           }
          ],
          "choropleth": [
           {
            "colorbar": {
             "outlinewidth": 0,
             "ticks": ""
            },
            "type": "choropleth"
           }
          ],
          "contour": [
           {
            "colorbar": {
             "outlinewidth": 0,
             "ticks": ""
            },
            "colorscale": [
             [
              0,
              "#0d0887"
             ],
             [
              0.1111111111111111,
              "#46039f"
             ],
             [
              0.2222222222222222,
              "#7201a8"
             ],
             [
              0.3333333333333333,
              "#9c179e"
             ],
             [
              0.4444444444444444,
              "#bd3786"
             ],
             [
              0.5555555555555556,
              "#d8576b"
             ],
             [
              0.6666666666666666,
              "#ed7953"
             ],
             [
              0.7777777777777778,
              "#fb9f3a"
             ],
             [
              0.8888888888888888,
              "#fdca26"
             ],
             [
              1,
              "#f0f921"
             ]
            ],
            "type": "contour"
           }
          ],
          "contourcarpet": [
           {
            "colorbar": {
             "outlinewidth": 0,
             "ticks": ""
            },
            "type": "contourcarpet"
           }
          ],
          "heatmap": [
           {
            "colorbar": {
             "outlinewidth": 0,
             "ticks": ""
            },
            "colorscale": [
             [
              0,
              "#0d0887"
             ],
             [
              0.1111111111111111,
              "#46039f"
             ],
             [
              0.2222222222222222,
              "#7201a8"
             ],
             [
              0.3333333333333333,
              "#9c179e"
             ],
             [
              0.4444444444444444,
              "#bd3786"
             ],
             [
              0.5555555555555556,
              "#d8576b"
             ],
             [
              0.6666666666666666,
              "#ed7953"
             ],
             [
              0.7777777777777778,
              "#fb9f3a"
             ],
             [
              0.8888888888888888,
              "#fdca26"
             ],
             [
              1,
              "#f0f921"
             ]
            ],
            "type": "heatmap"
           }
          ],
          "heatmapgl": [
           {
            "colorbar": {
             "outlinewidth": 0,
             "ticks": ""
            },
            "colorscale": [
             [
              0,
              "#0d0887"
             ],
             [
              0.1111111111111111,
              "#46039f"
             ],
             [
              0.2222222222222222,
              "#7201a8"
             ],
             [
              0.3333333333333333,
              "#9c179e"
             ],
             [
              0.4444444444444444,
              "#bd3786"
             ],
             [
              0.5555555555555556,
              "#d8576b"
             ],
             [
              0.6666666666666666,
              "#ed7953"
             ],
             [
              0.7777777777777778,
              "#fb9f3a"
             ],
             [
              0.8888888888888888,
              "#fdca26"
             ],
             [
              1,
              "#f0f921"
             ]
            ],
            "type": "heatmapgl"
           }
          ],
          "histogram": [
           {
            "marker": {
             "pattern": {
              "fillmode": "overlay",
              "size": 10,
              "solidity": 0.2
             }
            },
            "type": "histogram"
           }
          ],
          "histogram2d": [
           {
            "colorbar": {
             "outlinewidth": 0,
             "ticks": ""
            },
            "colorscale": [
             [
              0,
              "#0d0887"
             ],
             [
              0.1111111111111111,
              "#46039f"
             ],
             [
              0.2222222222222222,
              "#7201a8"
             ],
             [
              0.3333333333333333,
              "#9c179e"
             ],
             [
              0.4444444444444444,
              "#bd3786"
             ],
             [
              0.5555555555555556,
              "#d8576b"
             ],
             [
              0.6666666666666666,
              "#ed7953"
             ],
             [
              0.7777777777777778,
              "#fb9f3a"
             ],
             [
              0.8888888888888888,
              "#fdca26"
             ],
             [
              1,
              "#f0f921"
             ]
            ],
            "type": "histogram2d"
           }
          ],
          "histogram2dcontour": [
           {
            "colorbar": {
             "outlinewidth": 0,
             "ticks": ""
            },
            "colorscale": [
             [
              0,
              "#0d0887"
             ],
             [
              0.1111111111111111,
              "#46039f"
             ],
             [
              0.2222222222222222,
              "#7201a8"
             ],
             [
              0.3333333333333333,
              "#9c179e"
             ],
             [
              0.4444444444444444,
              "#bd3786"
             ],
             [
              0.5555555555555556,
              "#d8576b"
             ],
             [
              0.6666666666666666,
              "#ed7953"
             ],
             [
              0.7777777777777778,
              "#fb9f3a"
             ],
             [
              0.8888888888888888,
              "#fdca26"
             ],
             [
              1,
              "#f0f921"
             ]
            ],
            "type": "histogram2dcontour"
           }
          ],
          "mesh3d": [
           {
            "colorbar": {
             "outlinewidth": 0,
             "ticks": ""
            },
            "type": "mesh3d"
           }
          ],
          "parcoords": [
           {
            "line": {
             "colorbar": {
              "outlinewidth": 0,
              "ticks": ""
             }
            },
            "type": "parcoords"
           }
          ],
          "pie": [
           {
            "automargin": true,
            "type": "pie"
           }
          ],
          "scatter": [
           {
            "fillpattern": {
             "fillmode": "overlay",
             "size": 10,
             "solidity": 0.2
            },
            "type": "scatter"
           }
          ],
          "scatter3d": [
           {
            "line": {
             "colorbar": {
              "outlinewidth": 0,
              "ticks": ""
             }
            },
            "marker": {
             "colorbar": {
              "outlinewidth": 0,
              "ticks": ""
             }
            },
            "type": "scatter3d"
           }
          ],
          "scattercarpet": [
           {
            "marker": {
             "colorbar": {
              "outlinewidth": 0,
              "ticks": ""
             }
            },
            "type": "scattercarpet"
           }
          ],
          "scattergeo": [
           {
            "marker": {
             "colorbar": {
              "outlinewidth": 0,
              "ticks": ""
             }
            },
            "type": "scattergeo"
           }
          ],
          "scattergl": [
           {
            "marker": {
             "colorbar": {
              "outlinewidth": 0,
              "ticks": ""
             }
            },
            "type": "scattergl"
           }
          ],
          "scattermapbox": [
           {
            "marker": {
             "colorbar": {
              "outlinewidth": 0,
              "ticks": ""
             }
            },
            "type": "scattermapbox"
           }
          ],
          "scatterpolar": [
           {
            "marker": {
             "colorbar": {
              "outlinewidth": 0,
              "ticks": ""
             }
            },
            "type": "scatterpolar"
           }
          ],
          "scatterpolargl": [
           {
            "marker": {
             "colorbar": {
              "outlinewidth": 0,
              "ticks": ""
             }
            },
            "type": "scatterpolargl"
           }
          ],
          "scatterternary": [
           {
            "marker": {
             "colorbar": {
              "outlinewidth": 0,
              "ticks": ""
             }
            },
            "type": "scatterternary"
           }
          ],
          "surface": [
           {
            "colorbar": {
             "outlinewidth": 0,
             "ticks": ""
            },
            "colorscale": [
             [
              0,
              "#0d0887"
             ],
             [
              0.1111111111111111,
              "#46039f"
             ],
             [
              0.2222222222222222,
              "#7201a8"
             ],
             [
              0.3333333333333333,
              "#9c179e"
             ],
             [
              0.4444444444444444,
              "#bd3786"
             ],
             [
              0.5555555555555556,
              "#d8576b"
             ],
             [
              0.6666666666666666,
              "#ed7953"
             ],
             [
              0.7777777777777778,
              "#fb9f3a"
             ],
             [
              0.8888888888888888,
              "#fdca26"
             ],
             [
              1,
              "#f0f921"
             ]
            ],
            "type": "surface"
           }
          ],
          "table": [
           {
            "cells": {
             "fill": {
              "color": "#EBF0F8"
             },
             "line": {
              "color": "white"
             }
            },
            "header": {
             "fill": {
              "color": "#C8D4E3"
             },
             "line": {
              "color": "white"
             }
            },
            "type": "table"
           }
          ]
         },
         "layout": {
          "annotationdefaults": {
           "arrowcolor": "#2a3f5f",
           "arrowhead": 0,
           "arrowwidth": 1
          },
          "autotypenumbers": "strict",
          "coloraxis": {
           "colorbar": {
            "outlinewidth": 0,
            "ticks": ""
           }
          },
          "colorscale": {
           "diverging": [
            [
             0,
             "#8e0152"
            ],
            [
             0.1,
             "#c51b7d"
            ],
            [
             0.2,
             "#de77ae"
            ],
            [
             0.3,
             "#f1b6da"
            ],
            [
             0.4,
             "#fde0ef"
            ],
            [
             0.5,
             "#f7f7f7"
            ],
            [
             0.6,
             "#e6f5d0"
            ],
            [
             0.7,
             "#b8e186"
            ],
            [
             0.8,
             "#7fbc41"
            ],
            [
             0.9,
             "#4d9221"
            ],
            [
             1,
             "#276419"
            ]
           ],
           "sequential": [
            [
             0,
             "#0d0887"
            ],
            [
             0.1111111111111111,
             "#46039f"
            ],
            [
             0.2222222222222222,
             "#7201a8"
            ],
            [
             0.3333333333333333,
             "#9c179e"
            ],
            [
             0.4444444444444444,
             "#bd3786"
            ],
            [
             0.5555555555555556,
             "#d8576b"
            ],
            [
             0.6666666666666666,
             "#ed7953"
            ],
            [
             0.7777777777777778,
             "#fb9f3a"
            ],
            [
             0.8888888888888888,
             "#fdca26"
            ],
            [
             1,
             "#f0f921"
            ]
           ],
           "sequentialminus": [
            [
             0,
             "#0d0887"
            ],
            [
             0.1111111111111111,
             "#46039f"
            ],
            [
             0.2222222222222222,
             "#7201a8"
            ],
            [
             0.3333333333333333,
             "#9c179e"
            ],
            [
             0.4444444444444444,
             "#bd3786"
            ],
            [
             0.5555555555555556,
             "#d8576b"
            ],
            [
             0.6666666666666666,
             "#ed7953"
            ],
            [
             0.7777777777777778,
             "#fb9f3a"
            ],
            [
             0.8888888888888888,
             "#fdca26"
            ],
            [
             1,
             "#f0f921"
            ]
           ]
          },
          "colorway": [
           "#636efa",
           "#EF553B",
           "#00cc96",
           "#ab63fa",
           "#FFA15A",
           "#19d3f3",
           "#FF6692",
           "#B6E880",
           "#FF97FF",
           "#FECB52"
          ],
          "font": {
           "color": "#2a3f5f"
          },
          "geo": {
           "bgcolor": "white",
           "lakecolor": "white",
           "landcolor": "#E5ECF6",
           "showlakes": true,
           "showland": true,
           "subunitcolor": "white"
          },
          "hoverlabel": {
           "align": "left"
          },
          "hovermode": "closest",
          "mapbox": {
           "style": "light"
          },
          "paper_bgcolor": "white",
          "plot_bgcolor": "#E5ECF6",
          "polar": {
           "angularaxis": {
            "gridcolor": "white",
            "linecolor": "white",
            "ticks": ""
           },
           "bgcolor": "#E5ECF6",
           "radialaxis": {
            "gridcolor": "white",
            "linecolor": "white",
            "ticks": ""
           }
          },
          "scene": {
           "xaxis": {
            "backgroundcolor": "#E5ECF6",
            "gridcolor": "white",
            "gridwidth": 2,
            "linecolor": "white",
            "showbackground": true,
            "ticks": "",
            "zerolinecolor": "white"
           },
           "yaxis": {
            "backgroundcolor": "#E5ECF6",
            "gridcolor": "white",
            "gridwidth": 2,
            "linecolor": "white",
            "showbackground": true,
            "ticks": "",
            "zerolinecolor": "white"
           },
           "zaxis": {
            "backgroundcolor": "#E5ECF6",
            "gridcolor": "white",
            "gridwidth": 2,
            "linecolor": "white",
            "showbackground": true,
            "ticks": "",
            "zerolinecolor": "white"
           }
          },
          "shapedefaults": {
           "line": {
            "color": "#2a3f5f"
           }
          },
          "ternary": {
           "aaxis": {
            "gridcolor": "white",
            "linecolor": "white",
            "ticks": ""
           },
           "baxis": {
            "gridcolor": "white",
            "linecolor": "white",
            "ticks": ""
           },
           "bgcolor": "#E5ECF6",
           "caxis": {
            "gridcolor": "white",
            "linecolor": "white",
            "ticks": ""
           }
          },
          "title": {
           "x": 0.05
          },
          "xaxis": {
           "automargin": true,
           "gridcolor": "white",
           "linecolor": "white",
           "ticks": "",
           "title": {
            "standoff": 15
           },
           "zerolinecolor": "white",
           "zerolinewidth": 2
          },
          "yaxis": {
           "automargin": true,
           "gridcolor": "white",
           "linecolor": "white",
           "ticks": "",
           "title": {
            "standoff": 15
           },
           "zerolinecolor": "white",
           "zerolinewidth": 2
          }
         }
        },
        "xaxis": {
         "anchor": "y",
         "autorange": false,
         "domain": [
          0,
          1
         ],
         "linecolor": "black",
         "mirror": true,
         "range": [
          0.1999999999999999,
          -0.1999999999999999
         ],
         "showline": true,
         "ticks": "outside",
         "title": {
          "text": "chemical shift (ppm)"
         },
         "type": "linear"
        },
        "yaxis": {
         "anchor": "x",
         "autorange": true,
         "domain": [
          0,
          1
         ],
         "exponentformat": "power",
         "linecolor": "black",
         "mirror": true,
         "range": [
          -72156.86140207526,
          1435056.7946215584
         ],
         "showexponent": "last",
         "showline": true,
         "title": {
          "text": "intensity"
         },
         "type": "linear"
        }
       }
      },
      "image/png": "[encoded data removed]",
      "text/html": [
       "<div>                            <div id=\"cf7d76cc-9938-4e90-a190-8b9b3ab674dc\" class=\"plotly-graph-div\" style=\"height:525px; width:100%;\"></div>            <script type=\"text/javascript\">                require([\"plotly\"], function(Plotly) {                    window.PLOTLYENV=window.PLOTLYENV || {};                                    if (document.getElementById(\"cf7d76cc-9938-4e90-a190-8b9b3ab674dc\")) {                    Plotly.newPlot(                        \"cf7d76cc-9938-4e90-a190-8b9b3ab674dc\",                        [{\"marker\":{\"color\":\"#386CB0\"},\"mode\":\"lines\",\"name\":\"exp. spectrum\",\"x\":[-0.1999999999999999,-0.1968253968253968,-0.1936507936507936,-0.1904761904761904,-0.1873015873015873,-0.1841269841269841,-0.1809523809523809,-0.1777777777777778,-0.1746031746031746,-0.1714285714285713,-0.1682539682539682,-0.165079365079365,-0.1619047619047618,-0.1587301587301587,-0.1555555555555555,-0.1523809523809524,-0.1492063492063492,-0.146031746031746,-0.1428571428571429,-0.1396825396825396,-0.1365079365079364,-0.1333333333333333,-0.1301587301587301,-0.1269841269841269,-0.1238095238095238,-0.1206349206349206,-0.1174603174603174,-0.1142857142857143,-0.1111111111111111,-0.1079365079365078,-0.1047619047619047,-0.1015873015873015,-0.0984126984126984,-0.0952380952380952,-0.092063492063492,-0.0888888888888889,-0.0857142857142857,-0.0825396825396825,-0.0793650793650794,-0.0761904761904761,-0.0730158730158729,-0.0698412698412698,-0.0666666666666666,-0.0634920634920634,-0.0603174603174603,-0.0571428571428571,-0.053968253968254,-0.0507936507936508,-0.0476190476190476,-0.0444444444444444,-0.0412698412698412,-0.038095238095238,-0.0349206349206349,-0.0317460317460317,-0.0285714285714285,-0.0253968253968254,-0.0222222222222222,-0.019047619047619,-0.0158730158730159,-0.0126984126984126,-0.0095238095238094,-0.0063492063492063,-0.0031746031746031,0.0,0.0031746031746031,0.0063492063492063,0.0095238095238094,0.0126984126984126,0.0158730158730158,0.0190476190476189,0.0222222222222221,0.0253968253968253,0.0285714285714284,0.0317460317460318,0.034920634920635,0.0380952380952381,0.0412698412698413,0.0444444444444445,0.0476190476190476,0.0507936507936508,0.053968253968254,0.0571428571428571,0.0603174603174603,0.0634920634920634,0.0666666666666666,0.0698412698412698,0.0730158730158729,0.0761904761904761,0.0793650793650793,0.0825396825396824,0.0857142857142856,0.0888888888888888,0.0920634920634919,0.0952380952380953,0.0984126984126985,0.1015873015873016,0.1047619047619048,0.107936507936508,0.1111111111111111,0.1142857142857143,0.1174603174603174,0.1206349206349206,0.1238095238095238,0.1269841269841269,0.1301587301587301,0.1333333333333333,0.1365079365079364,0.1396825396825396,0.1428571428571428,0.1460317460317459,0.1492063492063491,0.1523809523809522,0.1555555555555554,0.1587301587301588,0.161904761904762,0.1650793650793651,0.1682539682539683,0.1714285714285714,0.1746031746031746,0.1777777777777778,0.1809523809523809,0.1841269841269841,0.1873015873015873,0.1904761904761904,0.1936507936507936,0.1968253968253968,0.1999999999999999],\"y\":[3203.8213991064235,3304.9953804123325,3411.164836862961,3522.66404088274,3639.8556725481512,3763.133763647805,3892.927003571289,4029.702458698749,4173.969765405678,4326.285866798944,4487.260375182877,4657.561656414764,4837.9237492355705,5029.154252960412,5232.14334133612,5447.874089860236,5677.434339583963,5922.030363873389,6183.002657652052,6461.844233673511,6760.2218904118645,7080.001015106422,7423.274608374431,7792.3973701227005,8190.025878726982,8619.16613773078,9083.23007131418,9586.102940977684,10132.224157308034,10726.684607379988,11375.344457799236,12084.97649050273,12863.441472574465,13719.903976641106,14665.09962882495,15711.668212789427,16874.57175256134,18171.623140802843,19624.15981319587,21257.90948612848,23104.112706328684,25200.992377970106,27595.697324856184,30346.901209590505,33528.319082432376,37233.52641405797,41582.65405017458,46731.827531132905,52886.68883104754,60322.09975150958,69411.38272265853,80670.56607297751,94826.70482754818,112925.56782011809,136504.71598862327,167876.05440175824,210589.5700679826,270178.87550814607,355252.18629190105,478560.307797556,655560.5845798899,890960.0766567012,1135648.3899828095,1250091.1286377506,1135648.5389350115,890960.3745614183,655561.0314377496,478560.9036094988,355252.9310591847,270179.7692323337,210590.6127509561,167877.24604571276,136506.05659606747,112927.0573938728,94828.34337075106,80672.35358907796,69413.31921541966,60324.18522500821,52888.9232896744,46734.210979591975,41585.18649348388,37236.207857549336,33531.14953175147,30349.88067069681,27598.8258040231,25204.269881784952,23107.539241692743,21261.48506025704,19627.88443361832,18175.496815362523,16878.594489415795,15715.840020410382,14669.42051599834,13724.37395246709,12868.060546467656,12089.744672192051,11380.261757328044,10731.75103510613,10137.439723903935,9591.467657430334,9088.743948925265,8624.829188116715,8195.838113819003,7798.358802166903,7429.385249931858,7086.260879053124,6766.630989938982,6468.402582287343,6189.710269174148,5928.88725244059,5684.440519648522,5455.029576189883,5239.448149014146,5036.608397385743,4845.5272461229,4665.314521794594,4495.162625401626,4334.337518519044,4182.170835605667,4038.0529646733567,3901.4269629315513,3771.7831943211554,3648.654592778527,3531.6124692306844,3420.262792205728,3314.242881943995,3213.2184663379844],\"type\":\"scatter\",\"xaxis\":\"x\",\"yaxis\":\"y\"},{\"marker\":{\"color\":\"#FDC086\",\"line\":{\"width\":1.2},\"size\":9,\"symbol\":\"arrow-down\"},\"mode\":\"markers\",\"name\":\"peaks\",\"x\":[0.0],\"y\":[1312595.685069638],\"type\":\"scatter\",\"xaxis\":\"x\",\"yaxis\":\"y\"}],                        {\"template\":{\"data\":{\"histogram2dcontour\":[{\"type\":\"histogram2dcontour\",\"colorbar\":{\"outlinewidth\":0,\"ticks\":\"\"},\"colorscale\":[[0.0,\"#0d0887\"],[0.1111111111111111,\"#46039f\"],[0.2222222222222222,\"#7201a8\"],[0.3333333333333333,\"#9c179e\"],[0.4444444444444444,\"#bd3786\"],[0.5555555555555556,\"#d8576b\"],[0.6666666666666666,\"#ed7953\"],[0.7777777777777778,\"#fb9f3a\"],[0.8888888888888888,\"#fdca26\"],[1.0,\"#f0f921\"]]}],\"choropleth\":[{\"type\":\"choropleth\",\"colorbar\":{\"outlinewidth\":0,\"ticks\":\"\"}}],\"histogram2d\":[{\"type\":\"histogram2d\",\"colorbar\":{\"outlinewidth\":0,\"ticks\":\"\"},\"colorscale\":[[0.0,\"#0d0887\"],[0.1111111111111111,\"#46039f\"],[0.2222222222222222,\"#7201a8\"],[0.3333333333333333,\"#9c179e\"],[0.4444444444444444,\"#bd3786\"],[0.5555555555555556,\"#d8576b\"],[0.6666666666666666,\"#ed7953\"],[0.7777777777777778,\"#fb9f3a\"],[0.8888888888888888,\"#fdca26\"],[1.0,\"#f0f921\"]]}],\"heatmap\":[{\"type\":\"heatmap\",\"colorbar\":{\"outlinewidth\":0,\"ticks\":\"\"},\"colorscale\":[[0.0,\"#0d0887\"],[0.1111111111111111,\"#46039f\"],[0.2222222222222222,\"#7201a8\"],[0.3333333333333333,\"#9c179e\"],[0.4444444444444444,\"#bd3786\"],[0.5555555555555556,\"#d8576b\"],[0.6666666666666666,\"#ed7953\"],[0.7777777777777778,\"#fb9f3a\"],[0.8888888888888888,\"#fdca26\"],[1.0,\"#f0f921\"]]}],\"heatmapgl\":[{\"type\":\"heatmapgl\",\"colorbar\":{\"outlinewidth\":0,\"ticks\":\"\"},\"colorscale\":[[0.0,\"#0d0887\"],[0.1111111111111111,\"#46039f\"],[0.2222222222222222,\"#7201a8\"],[0.3333333333333333,\"#9c179e\"],[0.4444444444444444,\"#bd3786\"],[0.5555555555555556,\"#d8576b\"],[0.6666666666666666,\"#ed7953\"],[0.7777777777777778,\"#fb9f3a\"],[0.8888888888888888,\"#fdca26\"],[1.0,\"#f0f921\"]]}],\"contourcarpet\":[{\"type\":\"contourcarpet\",\"colorbar\":{\"outlinewidth\":0,\"ticks\":\"\"}}],\"contour\":[{\"type\":\"contour\",\"colorbar\":{\"outlinewidth\":0,\"ticks\":\"\"},\"colorscale\":[[0.0,\"#0d0887\"],[0.1111111111111111,\"#46039f\"],[0.2222222222222222,\"#7201a8\"],[0.3333333333333333,\"#9c179e\"],[0.4444444444444444,\"#bd3786\"],[0.5555555555555556,\"#d8576b\"],[0.6666666666666666,\"#ed7953\"],[0.7777777777777778,\"#fb9f3a\"],[0.8888888888888888,\"#fdca26\"],[1.0,\"#f0f921\"]]}],\"surface\":[{\"type\":\"surface\",\"colorbar\":{\"outlinewidth\":0,\"ticks\":\"\"},\"colorscale\":[[0.0,\"#0d0887\"],[0.1111111111111111,\"#46039f\"],[0.2222222222222222,\"#7201a8\"],[0.3333333333333333,\"#9c179e\"],[0.4444444444444444,\"#bd3786\"],[0.5555555555555556,\"#d8576b\"],[0.6666666666666666,\"#ed7953\"],[0.7777777777777778,\"#fb9f3a\"],[0.8888888888888888,\"#fdca26\"],[1.0,\"#f0f921\"]]}],\"mesh3d\":[{\"type\":\"mesh3d\",\"colorbar\":{\"outlinewidth\":0,\"ticks\":\"\"}}],\"scatter\":[{\"fillpattern\":{\"fillmode\":\"overlay\",\"size\":10,\"solidity\":0.2},\"type\":\"scatter\"}],\"parcoords\":[{\"type\":\"parcoords\",\"line\":{\"colorbar\":{\"outlinewidth\":0,\"ticks\":\"\"}}}],\"scatterpolargl\":[{\"type\":\"scatterpolargl\",\"marker\":{\"colorbar\":{\"outlinewidth\":0,\"ticks\":\"\"}}}],\"bar\":[{\"error_x\":{\"color\":\"#2a3f5f\"},\"error_y\":{\"color\":\"#2a3f5f\"},\"marker\":{\"line\":{\"color\":\"#E5ECF6\",\"width\":0.5},\"pattern\":{\"fillmode\":\"overlay\",\"size\":10,\"solidity\":0.2}},\"type\":\"bar\"}],\"scattergeo\":[{\"type\":\"scattergeo\",\"marker\":{\"colorbar\":{\"outlinewidth\":0,\"ticks\":\"\"}}}],\"scatterpolar\":[{\"type\":\"scatterpolar\",\"marker\":{\"colorbar\":{\"outlinewidth\":0,\"ticks\":\"\"}}}],\"histogram\":[{\"marker\":{\"pattern\":{\"fillmode\":\"overlay\",\"size\":10,\"solidity\":0.2}},\"type\":\"histogram\"}],\"scattergl\":[{\"type\":\"scattergl\",\"marker\":{\"colorbar\":{\"outlinewidth\":0,\"ticks\":\"\"}}}],\"scatter3d\":[{\"type\":\"scatter3d\",\"line\":{\"colorbar\":{\"outlinewidth\":0,\"ticks\":\"\"}},\"marker\":{\"colorbar\":{\"outlinewidth\":0,\"ticks\":\"\"}}}],\"scattermapbox\":[{\"type\":\"scattermapbox\",\"marker\":{\"colorbar\":{\"outlinewidth\":0,\"ticks\":\"\"}}}],\"scatterternary\":[{\"type\":\"scatterternary\",\"marker\":{\"colorbar\":{\"outlinewidth\":0,\"ticks\":\"\"}}}],\"scattercarpet\":[{\"type\":\"scattercarpet\",\"marker\":{\"colorbar\":{\"outlinewidth\":0,\"ticks\":\"\"}}}],\"carpet\":[{\"aaxis\":{\"endlinecolor\":\"#2a3f5f\",\"gridcolor\":\"white\",\"linecolor\":\"white\",\"minorgridcolor\":\"white\",\"startlinecolor\":\"#2a3f5f\"},\"baxis\":{\"endlinecolor\":\"#2a3f5f\",\"gridcolor\":\"white\",\"linecolor\":\"white\",\"minorgridcolor\":\"white\",\"startlinecolor\":\"#2a3f5f\"},\"type\":\"carpet\"}],\"table\":[{\"cells\":{\"fill\":{\"color\":\"#EBF0F8\"},\"line\":{\"color\":\"white\"}},\"header\":{\"fill\":{\"color\":\"#C8D4E3\"},\"line\":{\"color\":\"white\"}},\"type\":\"table\"}],\"barpolar\":[{\"marker\":{\"line\":{\"color\":\"#E5ECF6\",\"width\":0.5},\"pattern\":{\"fillmode\":\"overlay\",\"size\":10,\"solidity\":0.2}},\"type\":\"barpolar\"}],\"pie\":[{\"automargin\":true,\"type\":\"pie\"}]},\"layout\":{\"autotypenumbers\":\"strict\",\"colorway\":[\"#636efa\",\"#EF553B\",\"#00cc96\",\"#ab63fa\",\"#FFA15A\",\"#19d3f3\",\"#FF6692\",\"#B6E880\",\"#FF97FF\",\"#FECB52\"],\"font\":{\"color\":\"#2a3f5f\"},\"hovermode\":\"closest\",\"hoverlabel\":{\"align\":\"left\"},\"paper_bgcolor\":\"white\",\"plot_bgcolor\":\"#E5ECF6\",\"polar\":{\"bgcolor\":\"#E5ECF6\",\"angularaxis\":{\"gridcolor\":\"white\",\"linecolor\":\"white\",\"ticks\":\"\"},\"radialaxis\":{\"gridcolor\":\"white\",\"linecolor\":\"white\",\"ticks\":\"\"}},\"ternary\":{\"bgcolor\":\"#E5ECF6\",\"aaxis\":{\"gridcolor\":\"white\",\"linecolor\":\"white\",\"ticks\":\"\"},\"baxis\":{\"gridcolor\":\"white\",\"linecolor\":\"white\",\"ticks\":\"\"},\"caxis\":{\"gridcolor\":\"white\",\"linecolor\":\"white\",\"ticks\":\"\"}},\"coloraxis\":{\"colorbar\":{\"outlinewidth\":0,\"ticks\":\"\"}},\"colorscale\":{\"sequential\":[[0.0,\"#0d0887\"],[0.1111111111111111,\"#46039f\"],[0.2222222222222222,\"#7201a8\"],[0.3333333333333333,\"#9c179e\"],[0.4444444444444444,\"#bd3786\"],[0.5555555555555556,\"#d8576b\"],[0.6666666666666666,\"#ed7953\"],[0.7777777777777778,\"#fb9f3a\"],[0.8888888888888888,\"#fdca26\"],[1.0,\"#f0f921\"]],\"sequentialminus\":[[0.0,\"#0d0887\"],[0.1111111111111111,\"#46039f\"],[0.2222222222222222,\"#7201a8\"],[0.3333333333333333,\"#9c179e\"],[0.4444444444444444,\"#bd3786\"],[0.5555555555555556,\"#d8576b\"],[0.6666666666666666,\"#ed7953\"],[0.7777777777777778,\"#fb9f3a\"],[0.8888888888888888,\"#fdca26\"],[1.0,\"#f0f921\"]],\"diverging\":[[0,\"#8e0152\"],[0.1,\"#c51b7d\"],[0.2,\"#de77ae\"],[0.3,\"#f1b6da\"],[0.4,\"#fde0ef\"],[0.5,\"#f7f7f7\"],[0.6,\"#e6f5d0\"],[0.7,\"#b8e186\"],[0.8,\"#7fbc41\"],[0.9,\"#4d9221\"],[1,\"#276419\"]]},\"xaxis\":{\"gridcolor\":\"white\",\"linecolor\":\"white\",\"ticks\":\"\",\"title\":{\"standoff\":15},\"zerolinecolor\":\"white\",\"automargin\":true,\"zerolinewidth\":2},\"yaxis\":{\"gridcolor\":\"white\",\"linecolor\":\"white\",\"ticks\":\"\",\"title\":{\"standoff\":15},\"zerolinecolor\":\"white\",\"automargin\":true,\"zerolinewidth\":2},\"scene\":{\"xaxis\":{\"backgroundcolor\":\"#E5ECF6\",\"gridcolor\":\"white\",\"linecolor\":\"white\",\"showbackground\":true,\"ticks\":\"\",\"zerolinecolor\":\"white\",\"gridwidth\":2},\"yaxis\":{\"backgroundcolor\":\"#E5ECF6\",\"gridcolor\":\"white\",\"linecolor\":\"white\",\"showbackground\":true,\"ticks\":\"\",\"zerolinecolor\":\"white\",\"gridwidth\":2},\"zaxis\":{\"backgroundcolor\":\"#E5ECF6\",\"gridcolor\":\"white\",\"linecolor\":\"white\",\"showbackground\":true,\"ticks\":\"\",\"zerolinecolor\":\"white\",\"gridwidth\":2}},\"shapedefaults\":{\"line\":{\"color\":\"#2a3f5f\"}},\"annotationdefaults\":{\"arrowcolor\":\"#2a3f5f\",\"arrowhead\":0,\"arrowwidth\":1},\"geo\":{\"bgcolor\":\"white\",\"landcolor\":\"#E5ECF6\",\"subunitcolor\":\"white\",\"showland\":true,\"showlakes\":true,\"lakecolor\":\"white\"},\"title\":{\"x\":0.05},\"mapbox\":{\"style\":\"light\"}}},\"xaxis\":{\"anchor\":\"y\",\"domain\":[0.0,1.0],\"linecolor\":\"black\",\"mirror\":true,\"showline\":true,\"title\":{\"text\":\"chemical shift (ppm)\"},\"autorange\":false,\"ticks\":\"outside\",\"range\":[0.1999999999999999,-0.1999999999999999]},\"yaxis\":{\"anchor\":\"x\",\"domain\":[0.0,1.0],\"linecolor\":\"black\",\"mirror\":true,\"showline\":true,\"title\":{\"text\":\"intensity\"},\"exponentformat\":\"power\",\"showexponent\":\"last\"},\"plot_bgcolor\":\"white\"},                        {\"responsive\": true}                    ).then(function(){\n",
       "                            \n",
       "var gd = document.getElementById('cf7d76cc-9938-4e90-a190-8b9b3ab674dc');\n",
       "var x = new MutationObserver(function (mutations, observer) {{\n",
       "        var display = window.getComputedStyle(gd).display;\n",
       "        if (!display || display === 'none') {{\n",
       "            console.log([gd, 'removed!']);\n",
       "            Plotly.purge(gd);\n",
       "            observer.disconnect();\n",
       "        }}\n",
       "}});\n",
       "\n",
       "// Listen for the removal of the full notebook cells\n",
       "var notebookContainer = gd.closest('#notebook-container');\n",
       "if (notebookContainer) {{\n",
       "    x.observe(notebookContainer, {childList: true});\n",
       "}}\n",
       "\n",
       "// Listen for the clearing of the current output cell\n",
       "var outputEl = gd.closest('.output');\n",
       "if (outputEl) {{\n",
       "    x.observe(outputEl, {childList: true});\n",
       "}}\n",
       "\n",
       "                        })                };                });            </script>        </div>"
      ]
     },
     "metadata": {},
     "output_type": "display_data"
    }
   ],
   "source": [
    "\n",
    "# plot peak picking results\n",
    "fig = sp.plot(pp=peak_table)\n",
    "fig.show()\n"
   ]
  },
  {
   "cell_type": "code",
   "execution_count": null,
   "id": "8b7e1387-c70b-446b-bf0c-aaf09bdf7fb4",
   "metadata": {},
   "outputs": [],
   "source": [
    "# USER DEFINE SIGNALS WITH HELP OF PEAK TABLE\n"
   ]
  },
  {
   "cell_type": "code",
   "execution_count": 9,
   "id": "ebfb81b4-9aab-4d08-a7fe-35fc4b441a80",
   "metadata": {},
   "outputs": [],
   "source": [
    "\n",
    "signals = {\"singlet_TSP\": {\"model\":\"singlet\", \"par\": {\"x0\": {\"ini\":0.0, \"lb\":-0.05, \"ub\":0.05}}}}\n",
    "\n",
    "#signals = {\"singlet_TSP\": {\"model\":\"singlet\", \"par\": {\"x0\": {\"ini\":0.0, \"lb\":-0.05, \"ub\":0.05}}},\n",
    "#           \"doublet_TSP\": {\"model\":\"doublet\", \"par\": {\"x0\": {\"ini\":-0.01, \"lb\":-0.01, \"ub\":0.01}, \"J\": {\"ini\":0.147, \"lb\":0.14, \"ub\":0.15}, \"lw\": {\"ini\":0.001}}}}\n"
   ]
  },
  {
   "cell_type": "code",
   "execution_count": null,
   "id": "f11009f1-1bbc-4c1e-9ce1-071d61e9d7f1",
   "metadata": {},
   "outputs": [],
   "source": []
  },
  {
   "cell_type": "code",
   "execution_count": 35,
   "id": "65d2b952-0403-4c35-a277-549b4306d7fc",
   "metadata": {},
   "outputs": [
    {
     "name": "stdout",
     "output_type": "stream",
     "text": [
      "2023-01-07 16:49:26,084 | DEBUG : build Model for signal 'singlet_TSP'\n",
      "2023-01-07 16:49:26,088 | DEBUG : parameters\n",
      "     signal_id    model        par         ini     lb            ub\n",
      "0  singlet_TSP  singlet         x0        1.00  0.000  1.000000e+01\n",
      "1  singlet_TSP  singlet  intensity  1000000.00  1.000  1.000000e+15\n",
      "2  singlet_TSP  singlet         lw        0.01  0.001  3.000000e-02\n",
      "3  singlet_TSP  singlet         gl        0.50  0.000  1.000000e+00\n"
     ]
    }
   ],
   "source": [
    "\n",
    "# build model containing all signals\n",
    "sp.build_model(signals=signals, available_models=available_models)\n"
   ]
  },
  {
   "cell_type": "code",
   "execution_count": null,
   "id": "0398fc05-9fcb-4e8c-af95-453e1c3f6999",
   "metadata": {},
   "outputs": [],
   "source": []
  },
  {
   "cell_type": "code",
   "execution_count": 36,
   "id": "88aea3ad-d456-456a-b93b-2a5e7029fbca",
   "metadata": {},
   "outputs": [
    {
     "name": "stdout",
     "output_type": "stream",
     "text": [
      "       signal_id    model        par         ini             lb            ub\n",
      "0    singlet_TSP  singlet         x0        0.00      -0.050000  5.000000e-02\n",
      "1    singlet_TSP  singlet  intensity  1000000.00       1.000000  1.000000e+12\n",
      "2    singlet_TSP  singlet         lw        0.01       0.001000  3.000000e-02\n",
      "3    singlet_TSP  singlet         gl        0.50       0.000000  1.000000e+00\n",
      "4  full_spectrum     None     offset        0.00 -250018.225728  2.500182e+05\n"
     ]
    }
   ],
   "source": [
    "\n",
    "# model parameters can be updated\n",
    "sp.update_params({\"singlet_TSP\": {\"par\": {\"intensity\": {\"ini\":1e6, \"ub\":1e12}}}})\n",
    "#sp.update_params({\"doublet_TSP\": {\"par\": {\"intensity\": {\"ini\":1e8, \"lb\":5e7, \"ub\":1e9}}}})\n",
    "sp.update_offset(offset={})\n",
    "print(sp.params)\n"
   ]
  },
  {
   "cell_type": "code",
   "execution_count": null,
   "id": "9299d87b-ed8d-4555-8156-75b3eaf40933",
   "metadata": {},
   "outputs": [],
   "source": []
  },
  {
   "cell_type": "code",
   "execution_count": 37,
   "id": "0447e993-4eb1-4fe2-8043-a6a54528b89a",
   "metadata": {},
   "outputs": [
    {
     "name": "stdout",
     "output_type": "stream",
     "text": [
      "2023-01-07 16:50:00,311 | DEBUG : fit spectrum\n",
      "2023-01-07 16:50:00,900 | DEBUG : parameters\n",
      "       signal_id    model        par         ini             lb            ub  \\\n",
      "0    singlet_TSP  singlet         x0        0.00      -0.050000  5.000000e-02   \n",
      "1    singlet_TSP  singlet  intensity  1000000.00       1.000000  1.000000e+12   \n",
      "2    singlet_TSP  singlet         lw        0.01       0.001000  3.000000e-02   \n",
      "3    singlet_TSP  singlet         gl        0.50       0.000000  1.000000e+00   \n",
      "4  full_spectrum     None     offset        0.00 -250018.225728  2.500182e+05   \n",
      "\n",
      "            opt       opt_sd      integral  \n",
      "0  2.104864e-09     0.000008  39268.206279  \n",
      "1  1.250001e+06  1109.179365  39268.206279  \n",
      "2  9.999986e-03     0.000006  39268.206279  \n",
      "3  1.000000e+00     0.000088  39268.206279  \n",
      "4  9.126999e+01   102.252934           NaN  \n"
     ]
    }
   ],
   "source": [
    "\n",
    "# fit spectrum\n",
    "sp.fit()\n"
   ]
  },
  {
   "cell_type": "code",
   "execution_count": null,
   "id": "d99b803b-c9a7-4f0d-a9ee-4735ff8f68db",
   "metadata": {},
   "outputs": [],
   "source": []
  },
  {
   "cell_type": "code",
   "execution_count": 13,
   "id": "ee09ffff-ec54-499c-9ad8-43e1624dcd18",
   "metadata": {},
   "outputs": [
    {
     "data": {
      "text/html": [
       "<div>\n",
       "<style scoped>\n",
       "    .dataframe tbody tr th:only-of-type {\n",
       "        vertical-align: middle;\n",
       "    }\n",
       "\n",
       "    .dataframe tbody tr th {\n",
       "        vertical-align: top;\n",
       "    }\n",
       "\n",
       "    .dataframe thead th {\n",
       "        text-align: right;\n",
       "    }\n",
       "</style>\n",
       "<table border=\"1\" class=\"dataframe\">\n",
       "  <thead>\n",
       "    <tr style=\"text-align: right;\">\n",
       "      <th></th>\n",
       "      <th>signal_id</th>\n",
       "      <th>model</th>\n",
       "      <th>par</th>\n",
       "      <th>ini</th>\n",
       "      <th>lb</th>\n",
       "      <th>ub</th>\n",
       "      <th>opt</th>\n",
       "      <th>opt_sd</th>\n",
       "      <th>integral</th>\n",
       "    </tr>\n",
       "  </thead>\n",
       "  <tbody>\n",
       "    <tr>\n",
       "      <th>0</th>\n",
       "      <td>singlet_TSP</td>\n",
       "      <td>singlet</td>\n",
       "      <td>x0</td>\n",
       "      <td>0.00</td>\n",
       "      <td>-0.050000</td>\n",
       "      <td>5.000000e-02</td>\n",
       "      <td>2.104864e-09</td>\n",
       "      <td>0.000008</td>\n",
       "      <td>39268.206279</td>\n",
       "    </tr>\n",
       "    <tr>\n",
       "      <th>1</th>\n",
       "      <td>singlet_TSP</td>\n",
       "      <td>singlet</td>\n",
       "      <td>intensity</td>\n",
       "      <td>1000000.00</td>\n",
       "      <td>1.000000</td>\n",
       "      <td>1.000000e+12</td>\n",
       "      <td>1.250001e+06</td>\n",
       "      <td>1109.179365</td>\n",
       "      <td>39268.206279</td>\n",
       "    </tr>\n",
       "    <tr>\n",
       "      <th>2</th>\n",
       "      <td>singlet_TSP</td>\n",
       "      <td>singlet</td>\n",
       "      <td>lw</td>\n",
       "      <td>0.01</td>\n",
       "      <td>0.001000</td>\n",
       "      <td>3.000000e-02</td>\n",
       "      <td>9.999986e-03</td>\n",
       "      <td>0.000006</td>\n",
       "      <td>39268.206279</td>\n",
       "    </tr>\n",
       "    <tr>\n",
       "      <th>3</th>\n",
       "      <td>singlet_TSP</td>\n",
       "      <td>singlet</td>\n",
       "      <td>gl</td>\n",
       "      <td>0.50</td>\n",
       "      <td>0.000000</td>\n",
       "      <td>1.000000e+00</td>\n",
       "      <td>1.000000e+00</td>\n",
       "      <td>0.000088</td>\n",
       "      <td>39268.206279</td>\n",
       "    </tr>\n",
       "    <tr>\n",
       "      <th>4</th>\n",
       "      <td>full_spectrum</td>\n",
       "      <td>None</td>\n",
       "      <td>offset</td>\n",
       "      <td>0.00</td>\n",
       "      <td>-250018.225728</td>\n",
       "      <td>2.500182e+05</td>\n",
       "      <td>9.126999e+01</td>\n",
       "      <td>102.252934</td>\n",
       "      <td>NaN</td>\n",
       "    </tr>\n",
       "  </tbody>\n",
       "</table>\n",
       "</div>"
      ],
      "text/plain": [
       "       signal_id    model        par         ini             lb            ub  \\\n",
       "0    singlet_TSP  singlet         x0        0.00      -0.050000  5.000000e-02   \n",
       "1    singlet_TSP  singlet  intensity  1000000.00       1.000000  1.000000e+12   \n",
       "2    singlet_TSP  singlet         lw        0.01       0.001000  3.000000e-02   \n",
       "3    singlet_TSP  singlet         gl        0.50       0.000000  1.000000e+00   \n",
       "4  full_spectrum     None     offset        0.00 -250018.225728  2.500182e+05   \n",
       "\n",
       "            opt       opt_sd      integral  \n",
       "0  2.104864e-09     0.000008  39268.206279  \n",
       "1  1.250001e+06  1109.179365  39268.206279  \n",
       "2  9.999986e-03     0.000006  39268.206279  \n",
       "3  1.000000e+00     0.000088  39268.206279  \n",
       "4  9.126999e+01   102.252934           NaN  "
      ]
     },
     "execution_count": 13,
     "metadata": {},
     "output_type": "execute_result"
    }
   ],
   "source": [
    "# display estimated parameters\n",
    "sp.params\n"
   ]
  },
  {
   "cell_type": "code",
   "execution_count": null,
   "id": "e07a38fb-4a9d-466e-8658-9a585b03997d",
   "metadata": {},
   "outputs": [],
   "source": []
  },
  {
   "cell_type": "code",
   "execution_count": 40,
   "id": "98c5753d-a386-4afc-93fc-c39e9ab000af",
   "metadata": {},
   "outputs": [
    {
     "name": "stdout",
     "output_type": "stream",
     "text": [
      "2023-01-07 16:51:23,976 | DEBUG : create plot\n"
     ]
    },
    {
     "data": {
      "application/vnd.plotly.v1+json": {
       "config": {
        "plotlyServerURL": "https://plot.ly"
       },
       "data": [
        {
         "marker": {
          "color": "#386CB0"
         },
         "mode": "markers",
         "name": "exp. spectrum",
         "type": "scatter",
         "x": [
          -0.1999999999999999,
          -0.1968253968253968,
          -0.1936507936507936,
          -0.1904761904761904,
          -0.1873015873015873,
          -0.1841269841269841,
          -0.1809523809523809,
          -0.1777777777777778,
          -0.1746031746031746,
          -0.1714285714285713,
          -0.1682539682539682,
          -0.165079365079365,
          -0.1619047619047618,
          -0.1587301587301587,
          -0.1555555555555555,
          -0.1523809523809524,
          -0.1492063492063492,
          -0.146031746031746,
          -0.1428571428571429,
          -0.1396825396825396,
          -0.1365079365079364,
          -0.1333333333333333,
          -0.1301587301587301,
          -0.1269841269841269,
          -0.1238095238095238,
          -0.1206349206349206,
          -0.1174603174603174,
          -0.1142857142857143,
          -0.1111111111111111,
          -0.1079365079365078,
          -0.1047619047619047,
          -0.1015873015873015,
          -0.0984126984126984,
          -0.0952380952380952,
          -0.092063492063492,
          -0.0888888888888889,
          -0.0857142857142857,
          -0.0825396825396825,
          -0.0793650793650794,
          -0.0761904761904761,
          -0.0730158730158729,
          -0.0698412698412698,
          -0.0666666666666666,
          -0.0634920634920634,
          -0.0603174603174603,
          -0.0571428571428571,
          -0.053968253968254,
          -0.0507936507936508,
          -0.0476190476190476,
          -0.0444444444444444,
          -0.0412698412698412,
          -0.038095238095238,
          -0.0349206349206349,
          -0.0317460317460317,
          -0.0285714285714285,
          -0.0253968253968254,
          -0.0222222222222222,
          -0.019047619047619,
          -0.0158730158730159,
          -0.0126984126984126,
          -0.0095238095238094,
          -0.0063492063492063,
          -0.0031746031746031,
          0,
          0.0031746031746031,
          0.0063492063492063,
          0.0095238095238094,
          0.0126984126984126,
          0.0158730158730158,
          0.0190476190476189,
          0.0222222222222221,
          0.0253968253968253,
          0.0285714285714284,
          0.0317460317460318,
          0.034920634920635,
          0.0380952380952381,
          0.0412698412698413,
          0.0444444444444445,
          0.0476190476190476,
          0.0507936507936508,
          0.053968253968254,
          0.0571428571428571,
          0.0603174603174603,
          0.0634920634920634,
          0.0666666666666666,
          0.0698412698412698,
          0.0730158730158729,
          0.0761904761904761,
          0.0793650793650793,
          0.0825396825396824,
          0.0857142857142856,
          0.0888888888888888,
          0.0920634920634919,
          0.0952380952380953,
          0.0984126984126985,
          0.1015873015873016,
          0.1047619047619048,
          0.107936507936508,
          0.1111111111111111,
          0.1142857142857143,
          0.1174603174603174,
          0.1206349206349206,
          0.1238095238095238,
          0.1269841269841269,
          0.1301587301587301,
          0.1333333333333333,
          0.1365079365079364,
          0.1396825396825396,
          0.1428571428571428,
          0.1460317460317459,
          0.1492063492063491,
          0.1523809523809522,
          0.1555555555555554,
          0.1587301587301588,
          0.161904761904762,
          0.1650793650793651,
          0.1682539682539683,
          0.1714285714285714,
          0.1746031746031746,
          0.1777777777777778,
          0.1809523809523809,
          0.1841269841269841,
          0.1873015873015873,
          0.1904761904761904,
          0.1936507936507936,
          0.1968253968253968,
          0.1999999999999999
         ],
         "xaxis": "x",
         "y": [
          3203.8213991064235,
          3304.9953804123325,
          3411.164836862961,
          3522.66404088274,
          3639.8556725481512,
          3763.133763647805,
          3892.927003571289,
          4029.702458698749,
          4173.969765405678,
          4326.285866798944,
          4487.260375182877,
          4657.561656414764,
          4837.9237492355705,
          5029.154252960412,
          5232.14334133612,
          5447.874089860236,
          5677.434339583963,
          5922.030363873389,
          6183.002657652052,
          6461.844233673511,
          6760.2218904118645,
          7080.001015106422,
          7423.274608374431,
          7792.3973701227005,
          8190.025878726982,
          8619.16613773078,
          9083.23007131418,
          9586.102940977684,
          10132.224157308034,
          10726.684607379988,
          11375.344457799236,
          12084.97649050273,
          12863.441472574465,
          13719.903976641106,
          14665.09962882495,
          15711.668212789427,
          16874.57175256134,
          18171.623140802843,
          19624.15981319587,
          21257.90948612848,
          23104.112706328684,
          25200.992377970106,
          27595.697324856184,
          30346.901209590505,
          33528.319082432376,
          37233.52641405797,
          41582.65405017458,
          46731.827531132905,
          52886.68883104754,
          60322.09975150958,
          69411.38272265853,
          80670.56607297751,
          94826.70482754818,
          112925.56782011809,
          136504.71598862327,
          167876.05440175824,
          210589.5700679826,
          270178.87550814607,
          355252.18629190105,
          478560.307797556,
          655560.5845798899,
          890960.0766567012,
          1135648.3899828095,
          1250091.1286377506,
          1135648.5389350115,
          890960.3745614183,
          655561.0314377496,
          478560.9036094988,
          355252.9310591847,
          270179.7692323337,
          210590.6127509561,
          167877.24604571276,
          136506.05659606747,
          112927.0573938728,
          94828.34337075106,
          80672.35358907796,
          69413.31921541966,
          60324.18522500821,
          52888.9232896744,
          46734.210979591975,
          41585.18649348388,
          37236.207857549336,
          33531.14953175147,
          30349.88067069681,
          27598.8258040231,
          25204.269881784952,
          23107.539241692743,
          21261.48506025704,
          19627.88443361832,
          18175.496815362523,
          16878.594489415795,
          15715.840020410382,
          14669.42051599834,
          13724.37395246709,
          12868.060546467656,
          12089.744672192051,
          11380.261757328044,
          10731.75103510613,
          10137.439723903935,
          9591.467657430334,
          9088.743948925265,
          8624.829188116715,
          8195.838113819003,
          7798.358802166903,
          7429.385249931858,
          7086.260879053124,
          6766.630989938982,
          6468.402582287343,
          6189.710269174148,
          5928.88725244059,
          5684.440519648522,
          5455.029576189883,
          5239.448149014146,
          5036.608397385743,
          4845.5272461229,
          4665.314521794594,
          4495.162625401626,
          4334.337518519044,
          4182.170835605667,
          4038.0529646733567,
          3901.4269629315513,
          3771.7831943211554,
          3648.654592778527,
          3531.6124692306844,
          3420.262792205728,
          3314.242881943995,
          3213.2184663379844
         ],
         "yaxis": "y"
        },
        {
         "marker": {
          "color": "#7FC97F"
         },
         "mode": "lines",
         "name": "initial values",
         "type": "scatter",
         "x": [
          -0.1999999999999999,
          -0.1968253968253968,
          -0.1936507936507936,
          -0.1904761904761904,
          -0.1873015873015873,
          -0.1841269841269841,
          -0.1809523809523809,
          -0.1777777777777778,
          -0.1746031746031746,
          -0.1714285714285713,
          -0.1682539682539682,
          -0.165079365079365,
          -0.1619047619047618,
          -0.1587301587301587,
          -0.1555555555555555,
          -0.1523809523809524,
          -0.1492063492063492,
          -0.146031746031746,
          -0.1428571428571429,
          -0.1396825396825396,
          -0.1365079365079364,
          -0.1333333333333333,
          -0.1301587301587301,
          -0.1269841269841269,
          -0.1238095238095238,
          -0.1206349206349206,
          -0.1174603174603174,
          -0.1142857142857143,
          -0.1111111111111111,
          -0.1079365079365078,
          -0.1047619047619047,
          -0.1015873015873015,
          -0.0984126984126984,
          -0.0952380952380952,
          -0.092063492063492,
          -0.0888888888888889,
          -0.0857142857142857,
          -0.0825396825396825,
          -0.0793650793650794,
          -0.0761904761904761,
          -0.0730158730158729,
          -0.0698412698412698,
          -0.0666666666666666,
          -0.0634920634920634,
          -0.0603174603174603,
          -0.0571428571428571,
          -0.053968253968254,
          -0.0507936507936508,
          -0.0476190476190476,
          -0.0444444444444444,
          -0.0412698412698412,
          -0.038095238095238,
          -0.0349206349206349,
          -0.0317460317460317,
          -0.0285714285714285,
          -0.0253968253968254,
          -0.0222222222222222,
          -0.019047619047619,
          -0.0158730158730159,
          -0.0126984126984126,
          -0.0095238095238094,
          -0.0063492063492063,
          -0.0031746031746031,
          0,
          0.0031746031746031,
          0.0063492063492063,
          0.0095238095238094,
          0.0126984126984126,
          0.0158730158730158,
          0.0190476190476189,
          0.0222222222222221,
          0.0253968253968253,
          0.0285714285714284,
          0.0317460317460318,
          0.034920634920635,
          0.0380952380952381,
          0.0412698412698413,
          0.0444444444444445,
          0.0476190476190476,
          0.0507936507936508,
          0.053968253968254,
          0.0571428571428571,
          0.0603174603174603,
          0.0634920634920634,
          0.0666666666666666,
          0.0698412698412698,
          0.0730158730158729,
          0.0761904761904761,
          0.0793650793650793,
          0.0825396825396824,
          0.0857142857142856,
          0.0888888888888888,
          0.0920634920634919,
          0.0952380952380953,
          0.0984126984126985,
          0.1015873015873016,
          0.1047619047619048,
          0.107936507936508,
          0.1111111111111111,
          0.1142857142857143,
          0.1174603174603174,
          0.1206349206349206,
          0.1238095238095238,
          0.1269841269841269,
          0.1301587301587301,
          0.1333333333333333,
          0.1365079365079364,
          0.1396825396825396,
          0.1428571428571428,
          0.1460317460317459,
          0.1492063492063491,
          0.1523809523809522,
          0.1555555555555554,
          0.1587301587301588,
          0.161904761904762,
          0.1650793650793651,
          0.1682539682539683,
          0.1714285714285714,
          0.1746031746031746,
          0.1777777777777778,
          0.1809523809523809,
          0.1841269841269841,
          0.1873015873015873,
          0.1904761904761904,
          0.1936507936507936,
          0.1968253968253968,
          0.1999999999999999
         ],
         "xaxis": "x",
         "y": [
          1246.8827930174575,
          1287.324797008762,
          1329.7649575942685,
          1374.336983688709,
          1421.1859472675203,
          1470.4694609908795,
          1522.3590005592353,
          1577.0413924691397,
          1634.7204912151797,
          1695.6190739843616,
          1759.9809856425645,
          1828.0735724767399,
          1900.1904499271836,
          1976.6546576637334,
          2057.8222651288056,
          2144.0865024649697,
          2235.88250603615,
          2333.6927851321025,
          2438.053537665438,
          2549.5619686806676,
          2668.8847975103895,
          2796.768178993165,
          2934.04931331862,
          3081.6700803920735,
          3240.6931115062985,
          3412.3208080210625,
          3597.917939550631,
          3799.038610637308,
          4017.458585457792,
          4255.214218783849,
          4514.64957719949,
          4798.473773421129,
          5109.831114223844,
          5452.387428599693,
          5830.43696693883,
          6249.03564264774,
          6714.168265278217,
          7232.959991836624,
          7813.945796544717,
          8467.416765993275,
          9205.86911979737,
          10044.592028746432,
          11002.445099456654,
          12102.898380451275,
          13375.4418605414,
          14857.529980199348,
          16597.348100995736,
          18658.00055377957,
          21124.623364872434,
          24118.484669223726,
          27828.605288180002,
          32585.00962700688,
          39019.07380769631,
          48374.013770952784,
          63005.64363341541,
          86992.22344266638,
          126528.57851084958,
          189530.88582600962,
          283925.178447144,
          414652.85000211746,
          579883.3659658594,
          765074.042211631,
          929651.9426363404,
          1000000,
          929651.9426363404,
          765074.042211631,
          579883.3659658594,
          414652.85000211746,
          283925.17844714754,
          189530.88582601206,
          126528.57851085108,
          86992.22344266735,
          63005.643633416,
          48374.01377095243,
          39019.07380769608,
          32585.009627006708,
          27828.60528817988,
          24118.484669223617,
          21124.623364872434,
          18658.00055377957,
          16597.348100995736,
          14857.529980199348,
          13375.4418605414,
          12102.898380451275,
          11002.445099456654,
          10044.592028746432,
          9205.86911979737,
          8467.416765993275,
          7813.945796544736,
          7232.959991836642,
          6714.168265278231,
          6249.035642647758,
          5830.436966938843,
          5452.38742859968,
          5109.831114223836,
          4798.47377342112,
          4514.649577199481,
          4255.2142187838335,
          4017.458585457792,
          3799.038610637308,
          3597.917939550631,
          3412.3208080210625,
          3240.6931115062985,
          3081.6700803920735,
          2934.04931331862,
          2796.768178993165,
          2668.8847975103895,
          2549.5619686806676,
          2438.0535376654416,
          2333.6927851321057,
          2235.882506036154,
          2144.086502464975,
          2057.822265128809,
          1976.6546576637309,
          1900.1904499271786,
          1828.0735724767376,
          1759.9809856425627,
          1695.6190739843596,
          1634.7204912151797,
          1577.0413924691397,
          1522.3590005592353,
          1470.4694609908795,
          1421.1859472675203,
          1374.336983688709,
          1329.7649575942685,
          1287.324797008762,
          1246.8827930174575
         ],
         "yaxis": "y"
        },
        {
         "marker": {
          "color": "#EF553B"
         },
         "mode": "lines",
         "name": "best fit",
         "type": "scatter",
         "x": [
          -0.1999999999999999,
          -0.1968253968253968,
          -0.1936507936507936,
          -0.1904761904761904,
          -0.1873015873015873,
          -0.1841269841269841,
          -0.1809523809523809,
          -0.1777777777777778,
          -0.1746031746031746,
          -0.1714285714285713,
          -0.1682539682539682,
          -0.165079365079365,
          -0.1619047619047618,
          -0.1587301587301587,
          -0.1555555555555555,
          -0.1523809523809524,
          -0.1492063492063492,
          -0.146031746031746,
          -0.1428571428571429,
          -0.1396825396825396,
          -0.1365079365079364,
          -0.1333333333333333,
          -0.1301587301587301,
          -0.1269841269841269,
          -0.1238095238095238,
          -0.1206349206349206,
          -0.1174603174603174,
          -0.1142857142857143,
          -0.1111111111111111,
          -0.1079365079365078,
          -0.1047619047619047,
          -0.1015873015873015,
          -0.0984126984126984,
          -0.0952380952380952,
          -0.092063492063492,
          -0.0888888888888889,
          -0.0857142857142857,
          -0.0825396825396825,
          -0.0793650793650794,
          -0.0761904761904761,
          -0.0730158730158729,
          -0.0698412698412698,
          -0.0666666666666666,
          -0.0634920634920634,
          -0.0603174603174603,
          -0.0571428571428571,
          -0.053968253968254,
          -0.0507936507936508,
          -0.0476190476190476,
          -0.0444444444444444,
          -0.0412698412698412,
          -0.038095238095238,
          -0.0349206349206349,
          -0.0317460317460317,
          -0.0285714285714285,
          -0.0253968253968254,
          -0.0222222222222222,
          -0.019047619047619,
          -0.0158730158730159,
          -0.0126984126984126,
          -0.0095238095238094,
          -0.0063492063492063,
          -0.0031746031746031,
          0,
          0.0031746031746031,
          0.0063492063492063,
          0.0095238095238094,
          0.0126984126984126,
          0.0158730158730158,
          0.0190476190476189,
          0.0222222222222221,
          0.0253968253968253,
          0.0285714285714284,
          0.0317460317460318,
          0.034920634920635,
          0.0380952380952381,
          0.0412698412698413,
          0.0444444444444445,
          0.0476190476190476,
          0.0507936507936508,
          0.053968253968254,
          0.0571428571428571,
          0.0603174603174603,
          0.0634920634920634,
          0.0666666666666666,
          0.0698412698412698,
          0.0730158730158729,
          0.0761904761904761,
          0.0793650793650793,
          0.0825396825396824,
          0.0857142857142856,
          0.0888888888888888,
          0.0920634920634919,
          0.0952380952380953,
          0.0984126984126985,
          0.1015873015873016,
          0.1047619047619048,
          0.107936507936508,
          0.1111111111111111,
          0.1142857142857143,
          0.1174603174603174,
          0.1206349206349206,
          0.1238095238095238,
          0.1269841269841269,
          0.1301587301587301,
          0.1333333333333333,
          0.1365079365079364,
          0.1396825396825396,
          0.1428571428571428,
          0.1460317460317459,
          0.1492063492063491,
          0.1523809523809522,
          0.1555555555555554,
          0.1587301587301588,
          0.161904761904762,
          0.1650793650793651,
          0.1682539682539683,
          0.1714285714285714,
          0.1746031746031746,
          0.1777777777777778,
          0.1809523809523809,
          0.1841269841269841,
          0.1873015873015873,
          0.1904761904761904,
          0.1936507936507936,
          0.1968253968253968,
          0.1999999999999999
         ],
         "xaxis": "x",
         "y": [
          3208.46982868349,
          3309.574606488123,
          3415.6747643012777,
          3527.104573642271,
          3644.226713617079,
          3767.4352149716897,
          3897.1587659733877,
          4033.864431791848,
          4178.06184749439,
          4330.307954771153,
          4491.212364389002,
          4661.443440533173,
          4841.735220122222,
          5032.89530048059,
          5235.813853175706,
          5451.473951313505,
          5680.963433314544,
          5925.48856964424,
          6186.389852019733,
          6465.160289641169,
          6763.466677034207,
          7083.174397038855,
          7426.376445356985,
          7795.4275163873945,
          8192.98418231526,
          8622.052439704717,
          9086.044204841679,
          9588.844730267803,
          10134.893416367215,
          10729.281138553088,
          11377.86805005119,
          12087.42691738584,
          12865.818489812527,
          13722.207319244613,
          14667.329007628405,
          15713.82331027295,
          16876.652217780196,
          18173.628583197413,
          19626.089794987653,
          21259.76351291746,
          23105.890215384818,
          25202.692723546934,
          27597.319759627328,
          30348.444860995347,
          33529.78292228296,
          37234.90921914958,
          41583.95435078804,
          46733.04354312271,
          52887.818365544575,
          60323.14009400673,
          69412.33047031732,
          80671.41691563775,
          94827.45325543136,
          112926.20674397967,
          136505.2362795755,
          167876.44443760414,
          210589.81562422242,
          270178.9610752039,
          355252.10098310205,
          478560.0642018316,
          655560.2672718407,
          890959.9214431022,
          1135648.73076583,
          1250091.875564795,
          1135649.0064950252,
          890960.2608509916,
          655560.5428787909,
          478560.26001045917,
          355252.23584358953,
          270179.0546643347,
          210589.88194670956,
          167876.4925948574,
          136505.27209125794,
          112926.23396796442,
          94827.4743654666,
          80671.43357666805,
          69412.34382821895,
          60323.15095439161,
          52887.82730614761,
          46733.05098589244,
          41583.960609089365,
          37234.91452928859,
          33529.78746496133,
          30348.448776170724,
          27597.32315697674,
          25202.695689947457,
          23105.892820338042,
          21259.765812534995,
          19626.091834955405,
          18173.630401005263,
          16876.653844417415,
          15713.824771529711,
          14667.330325104376,
          13722.208511137265,
          12865.819571538497,
          12087.42790207396,
          11377.86894893695,
          10729.281961296154,
          10134.89417130878,
          9588.845424640109,
          9086.044844940028,
          8622.053031029089,
          8192.984729687654,
          7795.428024049497,
          7426.376917051842,
          7083.174836079469,
          6763.467086361381,
          6465.1606718725025,
          6186.390209491268,
          5925.488904445955,
          5680.963747320792,
          5451.474246209127,
          5235.81413047852,
          5032.895561560862,
          4841.735466219541,
          4661.443672771094,
          4491.212583787816,
          4330.3081622590635,
          4178.062043917311,
          4033.864617921976,
          3897.1589425167826,
          3767.435382574954,
          3644.226872873254,
          3527.1047250960733,
          3415.674908453739,
          3309.574743800732,
          3208.46995958187
         ],
         "yaxis": "y"
        },
        {
         "marker": {
          "color": "#AB63FA"
         },
         "mode": "lines",
         "name": "residuum",
         "type": "scatter",
         "x": [
          -0.1999999999999999,
          -0.1968253968253968,
          -0.1936507936507936,
          -0.1904761904761904,
          -0.1873015873015873,
          -0.1841269841269841,
          -0.1809523809523809,
          -0.1777777777777778,
          -0.1746031746031746,
          -0.1714285714285713,
          -0.1682539682539682,
          -0.165079365079365,
          -0.1619047619047618,
          -0.1587301587301587,
          -0.1555555555555555,
          -0.1523809523809524,
          -0.1492063492063492,
          -0.146031746031746,
          -0.1428571428571429,
          -0.1396825396825396,
          -0.1365079365079364,
          -0.1333333333333333,
          -0.1301587301587301,
          -0.1269841269841269,
          -0.1238095238095238,
          -0.1206349206349206,
          -0.1174603174603174,
          -0.1142857142857143,
          -0.1111111111111111,
          -0.1079365079365078,
          -0.1047619047619047,
          -0.1015873015873015,
          -0.0984126984126984,
          -0.0952380952380952,
          -0.092063492063492,
          -0.0888888888888889,
          -0.0857142857142857,
          -0.0825396825396825,
          -0.0793650793650794,
          -0.0761904761904761,
          -0.0730158730158729,
          -0.0698412698412698,
          -0.0666666666666666,
          -0.0634920634920634,
          -0.0603174603174603,
          -0.0571428571428571,
          -0.053968253968254,
          -0.0507936507936508,
          -0.0476190476190476,
          -0.0444444444444444,
          -0.0412698412698412,
          -0.038095238095238,
          -0.0349206349206349,
          -0.0317460317460317,
          -0.0285714285714285,
          -0.0253968253968254,
          -0.0222222222222222,
          -0.019047619047619,
          -0.0158730158730159,
          -0.0126984126984126,
          -0.0095238095238094,
          -0.0063492063492063,
          -0.0031746031746031,
          0,
          0.0031746031746031,
          0.0063492063492063,
          0.0095238095238094,
          0.0126984126984126,
          0.0158730158730158,
          0.0190476190476189,
          0.0222222222222221,
          0.0253968253968253,
          0.0285714285714284,
          0.0317460317460318,
          0.034920634920635,
          0.0380952380952381,
          0.0412698412698413,
          0.0444444444444445,
          0.0476190476190476,
          0.0507936507936508,
          0.053968253968254,
          0.0571428571428571,
          0.0603174603174603,
          0.0634920634920634,
          0.0666666666666666,
          0.0698412698412698,
          0.0730158730158729,
          0.0761904761904761,
          0.0793650793650793,
          0.0825396825396824,
          0.0857142857142856,
          0.0888888888888888,
          0.0920634920634919,
          0.0952380952380953,
          0.0984126984126985,
          0.1015873015873016,
          0.1047619047619048,
          0.107936507936508,
          0.1111111111111111,
          0.1142857142857143,
          0.1174603174603174,
          0.1206349206349206,
          0.1238095238095238,
          0.1269841269841269,
          0.1301587301587301,
          0.1333333333333333,
          0.1365079365079364,
          0.1396825396825396,
          0.1428571428571428,
          0.1460317460317459,
          0.1492063492063491,
          0.1523809523809522,
          0.1555555555555554,
          0.1587301587301588,
          0.161904761904762,
          0.1650793650793651,
          0.1682539682539683,
          0.1714285714285714,
          0.1746031746031746,
          0.1777777777777778,
          0.1809523809523809,
          0.1841269841269841,
          0.1873015873015873,
          0.1904761904761904,
          0.1936507936507936,
          0.1968253968253968,
          0.1999999999999999
         ],
         "xaxis": "x2",
         "y": [
          4.6484295770665085,
          4.579226075790757,
          4.509927438316936,
          4.4405327595309245,
          4.371041068927752,
          4.301451323884521,
          4.231762402098866,
          4.161973093098823,
          4.092082088712232,
          4.022087972209192,
          3.951989206124381,
          3.8817841184090867,
          3.8114708866514775,
          3.7410475201777444,
          3.6705118395857426,
          3.599861453268204,
          3.5290937305808256,
          3.458205770850327,
          3.387194367680422,
          3.3160559676580306,
          3.244786622342872,
          3.1733819324335855,
          3.1018369825533227,
          3.03014626469394,
          2.958303588277886,
          2.8863019739383162,
          2.814133527499507,
          2.7417892901194136,
          2.6692590591810585,
          2.59653117309972,
          2.5235922519532323,
          2.450426883109685,
          2.3770172380627628,
          2.30334260350719,
          2.2293788034548925,
          2.1550974835226953,
          2.0804652188562613,
          2.0054423945693998,
          1.9299817917817563,
          1.8540267889802635,
          1.7775090561335674,
          1.7003455768281128,
          1.622434771143162,
          1.543651404841512,
          1.4638398505849182,
          1.3828050916126813,
          1.300300613460422,
          1.216011989803519,
          1.1295344970349106,
          1.0403424971518689,
          0.9477476587926503,
          0.8508426602347754,
          0.7484278831834672,
          0.6389238615811337,
          0.5202909522340633,
          0.390035845892271,
          0.24555623982450925,
          0.08556705783121288,
          -0.08530879899626598,
          -0.24359572440152988,
          -0.3173080491833389,
          -0.15521359897684306,
          0.34078302048146725,
          0.7469270443543792,
          0.46756001375615597,
          -0.11371042672544718,
          -0.48855895875021815,
          -0.6435990396421403,
          -0.6952155951876193,
          -0.714567999006249,
          -0.7308042465301696,
          -0.7534508553508203,
          -0.7845048095332459,
          -0.8234259083837969,
          -0.8690052844613092,
          -0.9200124099152163,
          -0.9753872007131577,
          -1.034270616597496,
          -1.095983526793134,
          -1.1599936995335156,
          -1.22588439451647,
          -1.2933282607482397,
          -1.362066790141398,
          -1.4318945260856708,
          -1.5026470463599253,
          -1.5741918374951638,
          -1.6464213547005784,
          -1.719247722045111,
          -1.7925986629161343,
          -1.8664143572605099,
          -1.9406449983798666,
          -2.015248880670697,
          -2.090190893963154,
          -2.165441329823807,
          -2.2409749291582557,
          -2.316770118091881,
          -2.3928083910941496,
          -2.46907380997618,
          -2.5455525951547315,
          -2.622232790225098,
          -2.699103985236434,
          -2.776157087626416,
          -2.8533841313492303,
          -2.93077811740568,
          -3.0083328800164963,
          -3.086042973654912,
          -3.1639035776006494,
          -3.2419104148402766,
          -3.320059682880128,
          -3.398347994634605,
          -3.476772327730032,
          -3.5553299807561416,
          -3.634018535625728,
          -3.71283582488104,
          -3.7917799033584743,
          -3.870849023500341,
          -3.950041613810754,
          -4.0293562599808865,
          -4.1087916883561775,
          -4.188346751380777,
          -4.268020414768671,
          -4.347811746201387,
          -4.427719905273079,
          -4.50774413461113,
          -4.587883751989011,
          -4.66813814326315,
          -4.748506756114239
         ],
         "yaxis": "y2"
        }
       ],
       "layout": {
        "autosize": false,
        "height": 700,
        "plot_bgcolor": "white",
        "shapes": [
         {
          "line": {
           "color": "black",
           "dash": "dash",
           "width": 1
          },
          "type": "line",
          "x0": -0.1999999999999999,
          "x1": 0.1999999999999999,
          "xref": "x2",
          "y0": 0,
          "y1": 0,
          "yref": "y2"
         }
        ],
        "template": {
         "data": {
          "bar": [
           {
            "error_x": {
             "color": "#2a3f5f"
            },
            "error_y": {
             "color": "#2a3f5f"
            },
            "marker": {
             "line": {
              "color": "#E5ECF6",
              "width": 0.5
             },
             "pattern": {
              "fillmode": "overlay",
              "size": 10,
              "solidity": 0.2
             }
            },
            "type": "bar"
           }
          ],
          "barpolar": [
           {
            "marker": {
             "line": {
              "color": "#E5ECF6",
              "width": 0.5
             },
             "pattern": {
              "fillmode": "overlay",
              "size": 10,
              "solidity": 0.2
             }
            },
            "type": "barpolar"
           }
          ],
          "carpet": [
           {
            "aaxis": {
             "endlinecolor": "#2a3f5f",
             "gridcolor": "white",
             "linecolor": "white",
             "minorgridcolor": "white",
             "startlinecolor": "#2a3f5f"
            },
            "baxis": {
             "endlinecolor": "#2a3f5f",
             "gridcolor": "white",
             "linecolor": "white",
             "minorgridcolor": "white",
             "startlinecolor": "#2a3f5f"
            },
            "type": "carpet"
           }
          ],
          "choropleth": [
           {
            "colorbar": {
             "outlinewidth": 0,
             "ticks": ""
            },
            "type": "choropleth"
           }
          ],
          "contour": [
           {
            "colorbar": {
             "outlinewidth": 0,
             "ticks": ""
            },
            "colorscale": [
             [
              0,
              "#0d0887"
             ],
             [
              0.1111111111111111,
              "#46039f"
             ],
             [
              0.2222222222222222,
              "#7201a8"
             ],
             [
              0.3333333333333333,
              "#9c179e"
             ],
             [
              0.4444444444444444,
              "#bd3786"
             ],
             [
              0.5555555555555556,
              "#d8576b"
             ],
             [
              0.6666666666666666,
              "#ed7953"
             ],
             [
              0.7777777777777778,
              "#fb9f3a"
             ],
             [
              0.8888888888888888,
              "#fdca26"
             ],
             [
              1,
              "#f0f921"
             ]
            ],
            "type": "contour"
           }
          ],
          "contourcarpet": [
           {
            "colorbar": {
             "outlinewidth": 0,
             "ticks": ""
            },
            "type": "contourcarpet"
           }
          ],
          "heatmap": [
           {
            "colorbar": {
             "outlinewidth": 0,
             "ticks": ""
            },
            "colorscale": [
             [
              0,
              "#0d0887"
             ],
             [
              0.1111111111111111,
              "#46039f"
             ],
             [
              0.2222222222222222,
              "#7201a8"
             ],
             [
              0.3333333333333333,
              "#9c179e"
             ],
             [
              0.4444444444444444,
              "#bd3786"
             ],
             [
              0.5555555555555556,
              "#d8576b"
             ],
             [
              0.6666666666666666,
              "#ed7953"
             ],
             [
              0.7777777777777778,
              "#fb9f3a"
             ],
             [
              0.8888888888888888,
              "#fdca26"
             ],
             [
              1,
              "#f0f921"
             ]
            ],
            "type": "heatmap"
           }
          ],
          "heatmapgl": [
           {
            "colorbar": {
             "outlinewidth": 0,
             "ticks": ""
            },
            "colorscale": [
             [
              0,
              "#0d0887"
             ],
             [
              0.1111111111111111,
              "#46039f"
             ],
             [
              0.2222222222222222,
              "#7201a8"
             ],
             [
              0.3333333333333333,
              "#9c179e"
             ],
             [
              0.4444444444444444,
              "#bd3786"
             ],
             [
              0.5555555555555556,
              "#d8576b"
             ],
             [
              0.6666666666666666,
              "#ed7953"
             ],
             [
              0.7777777777777778,
              "#fb9f3a"
             ],
             [
              0.8888888888888888,
              "#fdca26"
             ],
             [
              1,
              "#f0f921"
             ]
            ],
            "type": "heatmapgl"
           }
          ],
          "histogram": [
           {
            "marker": {
             "pattern": {
              "fillmode": "overlay",
              "size": 10,
              "solidity": 0.2
             }
            },
            "type": "histogram"
           }
          ],
          "histogram2d": [
           {
            "colorbar": {
             "outlinewidth": 0,
             "ticks": ""
            },
            "colorscale": [
             [
              0,
              "#0d0887"
             ],
             [
              0.1111111111111111,
              "#46039f"
             ],
             [
              0.2222222222222222,
              "#7201a8"
             ],
             [
              0.3333333333333333,
              "#9c179e"
             ],
             [
              0.4444444444444444,
              "#bd3786"
             ],
             [
              0.5555555555555556,
              "#d8576b"
             ],
             [
              0.6666666666666666,
              "#ed7953"
             ],
             [
              0.7777777777777778,
              "#fb9f3a"
             ],
             [
              0.8888888888888888,
              "#fdca26"
             ],
             [
              1,
              "#f0f921"
             ]
            ],
            "type": "histogram2d"
           }
          ],
          "histogram2dcontour": [
           {
            "colorbar": {
             "outlinewidth": 0,
             "ticks": ""
            },
            "colorscale": [
             [
              0,
              "#0d0887"
             ],
             [
              0.1111111111111111,
              "#46039f"
             ],
             [
              0.2222222222222222,
              "#7201a8"
             ],
             [
              0.3333333333333333,
              "#9c179e"
             ],
             [
              0.4444444444444444,
              "#bd3786"
             ],
             [
              0.5555555555555556,
              "#d8576b"
             ],
             [
              0.6666666666666666,
              "#ed7953"
             ],
             [
              0.7777777777777778,
              "#fb9f3a"
             ],
             [
              0.8888888888888888,
              "#fdca26"
             ],
             [
              1,
              "#f0f921"
             ]
            ],
            "type": "histogram2dcontour"
           }
          ],
          "mesh3d": [
           {
            "colorbar": {
             "outlinewidth": 0,
             "ticks": ""
            },
            "type": "mesh3d"
           }
          ],
          "parcoords": [
           {
            "line": {
             "colorbar": {
              "outlinewidth": 0,
              "ticks": ""
             }
            },
            "type": "parcoords"
           }
          ],
          "pie": [
           {
            "automargin": true,
            "type": "pie"
           }
          ],
          "scatter": [
           {
            "fillpattern": {
             "fillmode": "overlay",
             "size": 10,
             "solidity": 0.2
            },
            "type": "scatter"
           }
          ],
          "scatter3d": [
           {
            "line": {
             "colorbar": {
              "outlinewidth": 0,
              "ticks": ""
             }
            },
            "marker": {
             "colorbar": {
              "outlinewidth": 0,
              "ticks": ""
             }
            },
            "type": "scatter3d"
           }
          ],
          "scattercarpet": [
           {
            "marker": {
             "colorbar": {
              "outlinewidth": 0,
              "ticks": ""
             }
            },
            "type": "scattercarpet"
           }
          ],
          "scattergeo": [
           {
            "marker": {
             "colorbar": {
              "outlinewidth": 0,
              "ticks": ""
             }
            },
            "type": "scattergeo"
           }
          ],
          "scattergl": [
           {
            "marker": {
             "colorbar": {
              "outlinewidth": 0,
              "ticks": ""
             }
            },
            "type": "scattergl"
           }
          ],
          "scattermapbox": [
           {
            "marker": {
             "colorbar": {
              "outlinewidth": 0,
              "ticks": ""
             }
            },
            "type": "scattermapbox"
           }
          ],
          "scatterpolar": [
           {
            "marker": {
             "colorbar": {
              "outlinewidth": 0,
              "ticks": ""
             }
            },
            "type": "scatterpolar"
           }
          ],
          "scatterpolargl": [
           {
            "marker": {
             "colorbar": {
              "outlinewidth": 0,
              "ticks": ""
             }
            },
            "type": "scatterpolargl"
           }
          ],
          "scatterternary": [
           {
            "marker": {
             "colorbar": {
              "outlinewidth": 0,
              "ticks": ""
             }
            },
            "type": "scatterternary"
           }
          ],
          "surface": [
           {
            "colorbar": {
             "outlinewidth": 0,
             "ticks": ""
            },
            "colorscale": [
             [
              0,
              "#0d0887"
             ],
             [
              0.1111111111111111,
              "#46039f"
             ],
             [
              0.2222222222222222,
              "#7201a8"
             ],
             [
              0.3333333333333333,
              "#9c179e"
             ],
             [
              0.4444444444444444,
              "#bd3786"
             ],
             [
              0.5555555555555556,
              "#d8576b"
             ],
             [
              0.6666666666666666,
              "#ed7953"
             ],
             [
              0.7777777777777778,
              "#fb9f3a"
             ],
             [
              0.8888888888888888,
              "#fdca26"
             ],
             [
              1,
              "#f0f921"
             ]
            ],
            "type": "surface"
           }
          ],
          "table": [
           {
            "cells": {
             "fill": {
              "color": "#EBF0F8"
             },
             "line": {
              "color": "white"
             }
            },
            "header": {
             "fill": {
              "color": "#C8D4E3"
             },
             "line": {
              "color": "white"
             }
            },
            "type": "table"
           }
          ]
         },
         "layout": {
          "annotationdefaults": {
           "arrowcolor": "#2a3f5f",
           "arrowhead": 0,
           "arrowwidth": 1
          },
          "autotypenumbers": "strict",
          "coloraxis": {
           "colorbar": {
            "outlinewidth": 0,
            "ticks": ""
           }
          },
          "colorscale": {
           "diverging": [
            [
             0,
             "#8e0152"
            ],
            [
             0.1,
             "#c51b7d"
            ],
            [
             0.2,
             "#de77ae"
            ],
            [
             0.3,
             "#f1b6da"
            ],
            [
             0.4,
             "#fde0ef"
            ],
            [
             0.5,
             "#f7f7f7"
            ],
            [
             0.6,
             "#e6f5d0"
            ],
            [
             0.7,
             "#b8e186"
            ],
            [
             0.8,
             "#7fbc41"
            ],
            [
             0.9,
             "#4d9221"
            ],
            [
             1,
             "#276419"
            ]
           ],
           "sequential": [
            [
             0,
             "#0d0887"
            ],
            [
             0.1111111111111111,
             "#46039f"
            ],
            [
             0.2222222222222222,
             "#7201a8"
            ],
            [
             0.3333333333333333,
             "#9c179e"
            ],
            [
             0.4444444444444444,
             "#bd3786"
            ],
            [
             0.5555555555555556,
             "#d8576b"
            ],
            [
             0.6666666666666666,
             "#ed7953"
            ],
            [
             0.7777777777777778,
             "#fb9f3a"
            ],
            [
             0.8888888888888888,
             "#fdca26"
            ],
            [
             1,
             "#f0f921"
            ]
           ],
           "sequentialminus": [
            [
             0,
             "#0d0887"
            ],
            [
             0.1111111111111111,
             "#46039f"
            ],
            [
             0.2222222222222222,
             "#7201a8"
            ],
            [
             0.3333333333333333,
             "#9c179e"
            ],
            [
             0.4444444444444444,
             "#bd3786"
            ],
            [
             0.5555555555555556,
             "#d8576b"
            ],
            [
             0.6666666666666666,
             "#ed7953"
            ],
            [
             0.7777777777777778,
             "#fb9f3a"
            ],
            [
             0.8888888888888888,
             "#fdca26"
            ],
            [
             1,
             "#f0f921"
            ]
           ]
          },
          "colorway": [
           "#636efa",
           "#EF553B",
           "#00cc96",
           "#ab63fa",
           "#FFA15A",
           "#19d3f3",
           "#FF6692",
           "#B6E880",
           "#FF97FF",
           "#FECB52"
          ],
          "font": {
           "color": "#2a3f5f"
          },
          "geo": {
           "bgcolor": "white",
           "lakecolor": "white",
           "landcolor": "#E5ECF6",
           "showlakes": true,
           "showland": true,
           "subunitcolor": "white"
          },
          "hoverlabel": {
           "align": "left"
          },
          "hovermode": "closest",
          "mapbox": {
           "style": "light"
          },
          "paper_bgcolor": "white",
          "plot_bgcolor": "#E5ECF6",
          "polar": {
           "angularaxis": {
            "gridcolor": "white",
            "linecolor": "white",
            "ticks": ""
           },
           "bgcolor": "#E5ECF6",
           "radialaxis": {
            "gridcolor": "white",
            "linecolor": "white",
            "ticks": ""
           }
          },
          "scene": {
           "xaxis": {
            "backgroundcolor": "#E5ECF6",
            "gridcolor": "white",
            "gridwidth": 2,
            "linecolor": "white",
            "showbackground": true,
            "ticks": "",
            "zerolinecolor": "white"
           },
           "yaxis": {
            "backgroundcolor": "#E5ECF6",
            "gridcolor": "white",
            "gridwidth": 2,
            "linecolor": "white",
            "showbackground": true,
            "ticks": "",
            "zerolinecolor": "white"
           },
           "zaxis": {
            "backgroundcolor": "#E5ECF6",
            "gridcolor": "white",
            "gridwidth": 2,
            "linecolor": "white",
            "showbackground": true,
            "ticks": "",
            "zerolinecolor": "white"
           }
          },
          "shapedefaults": {
           "line": {
            "color": "#2a3f5f"
           }
          },
          "ternary": {
           "aaxis": {
            "gridcolor": "white",
            "linecolor": "white",
            "ticks": ""
           },
           "baxis": {
            "gridcolor": "white",
            "linecolor": "white",
            "ticks": ""
           },
           "bgcolor": "#E5ECF6",
           "caxis": {
            "gridcolor": "white",
            "linecolor": "white",
            "ticks": ""
           }
          },
          "title": {
           "x": 0.05
          },
          "xaxis": {
           "automargin": true,
           "gridcolor": "white",
           "linecolor": "white",
           "ticks": "",
           "title": {
            "standoff": 15
           },
           "zerolinecolor": "white",
           "zerolinewidth": 2
          },
          "yaxis": {
           "automargin": true,
           "gridcolor": "white",
           "linecolor": "white",
           "ticks": "",
           "title": {
            "standoff": 15
           },
           "zerolinecolor": "white",
           "zerolinewidth": 2
          }
         }
        },
        "width": 900,
        "xaxis": {
         "anchor": "y",
         "autorange": false,
         "domain": [
          0,
          1
         ],
         "linecolor": "black",
         "matches": "x2",
         "mirror": true,
         "range": [
          0.1999999999999999,
          -0.1999999999999999
         ],
         "showline": true,
         "showticklabels": false,
         "ticks": "outside",
         "type": "linear"
        },
        "xaxis2": {
         "anchor": "y2",
         "autorange": false,
         "domain": [
          0,
          1
         ],
         "linecolor": "black",
         "mirror": true,
         "range": [
          0.1999999999999999,
          -0.1999999999999999
         ],
         "showline": true,
         "ticks": "outside",
         "title": {
          "text": "chemical shift (ppm)"
         },
         "type": "linear"
        },
        "yaxis": {
         "anchor": "x",
         "autorange": true,
         "domain": [
          0.405,
          1
         ],
         "exponentformat": "power",
         "linecolor": "black",
         "mirror": true,
         "range": [
          -85241.60982737255,
          1338536.5598642295
         ],
         "showexponent": "last",
         "showline": true,
         "title": {
          "text": "intensity"
         },
         "type": "linear"
        },
        "yaxis2": {
         "anchor": "x2",
         "autorange": true,
         "domain": [
          0,
          0.255
         ],
         "exponentformat": "power",
         "linecolor": "black",
         "mirror": true,
         "range": [
          -5.270558774624281,
          5.17048159557655
         ],
         "showexponent": "last",
         "showline": true,
         "title": {
          "text": "residuum"
         },
         "type": "linear"
        }
       }
      },
      "image/png": "[encoded data removed]",
      "text/html": [
       "<div>                            <div id=\"a943e0d8-c805-44cb-87e2-f267f820cd55\" class=\"plotly-graph-div\" style=\"height:700px; width:900px;\"></div>            <script type=\"text/javascript\">                require([\"plotly\"], function(Plotly) {                    window.PLOTLYENV=window.PLOTLYENV || {};                                    if (document.getElementById(\"a943e0d8-c805-44cb-87e2-f267f820cd55\")) {                    Plotly.newPlot(                        \"a943e0d8-c805-44cb-87e2-f267f820cd55\",                        [{\"marker\":{\"color\":\"#386CB0\"},\"mode\":\"markers\",\"name\":\"exp. spectrum\",\"x\":[-0.1999999999999999,-0.1968253968253968,-0.1936507936507936,-0.1904761904761904,-0.1873015873015873,-0.1841269841269841,-0.1809523809523809,-0.1777777777777778,-0.1746031746031746,-0.1714285714285713,-0.1682539682539682,-0.165079365079365,-0.1619047619047618,-0.1587301587301587,-0.1555555555555555,-0.1523809523809524,-0.1492063492063492,-0.146031746031746,-0.1428571428571429,-0.1396825396825396,-0.1365079365079364,-0.1333333333333333,-0.1301587301587301,-0.1269841269841269,-0.1238095238095238,-0.1206349206349206,-0.1174603174603174,-0.1142857142857143,-0.1111111111111111,-0.1079365079365078,-0.1047619047619047,-0.1015873015873015,-0.0984126984126984,-0.0952380952380952,-0.092063492063492,-0.0888888888888889,-0.0857142857142857,-0.0825396825396825,-0.0793650793650794,-0.0761904761904761,-0.0730158730158729,-0.0698412698412698,-0.0666666666666666,-0.0634920634920634,-0.0603174603174603,-0.0571428571428571,-0.053968253968254,-0.0507936507936508,-0.0476190476190476,-0.0444444444444444,-0.0412698412698412,-0.038095238095238,-0.0349206349206349,-0.0317460317460317,-0.0285714285714285,-0.0253968253968254,-0.0222222222222222,-0.019047619047619,-0.0158730158730159,-0.0126984126984126,-0.0095238095238094,-0.0063492063492063,-0.0031746031746031,0.0,0.0031746031746031,0.0063492063492063,0.0095238095238094,0.0126984126984126,0.0158730158730158,0.0190476190476189,0.0222222222222221,0.0253968253968253,0.0285714285714284,0.0317460317460318,0.034920634920635,0.0380952380952381,0.0412698412698413,0.0444444444444445,0.0476190476190476,0.0507936507936508,0.053968253968254,0.0571428571428571,0.0603174603174603,0.0634920634920634,0.0666666666666666,0.0698412698412698,0.0730158730158729,0.0761904761904761,0.0793650793650793,0.0825396825396824,0.0857142857142856,0.0888888888888888,0.0920634920634919,0.0952380952380953,0.0984126984126985,0.1015873015873016,0.1047619047619048,0.107936507936508,0.1111111111111111,0.1142857142857143,0.1174603174603174,0.1206349206349206,0.1238095238095238,0.1269841269841269,0.1301587301587301,0.1333333333333333,0.1365079365079364,0.1396825396825396,0.1428571428571428,0.1460317460317459,0.1492063492063491,0.1523809523809522,0.1555555555555554,0.1587301587301588,0.161904761904762,0.1650793650793651,0.1682539682539683,0.1714285714285714,0.1746031746031746,0.1777777777777778,0.1809523809523809,0.1841269841269841,0.1873015873015873,0.1904761904761904,0.1936507936507936,0.1968253968253968,0.1999999999999999],\"y\":[3203.8213991064235,3304.9953804123325,3411.164836862961,3522.66404088274,3639.8556725481512,3763.133763647805,3892.927003571289,4029.702458698749,4173.969765405678,4326.285866798944,4487.260375182877,4657.561656414764,4837.9237492355705,5029.154252960412,5232.14334133612,5447.874089860236,5677.434339583963,5922.030363873389,6183.002657652052,6461.844233673511,6760.2218904118645,7080.001015106422,7423.274608374431,7792.3973701227005,8190.025878726982,8619.16613773078,9083.23007131418,9586.102940977684,10132.224157308034,10726.684607379988,11375.344457799236,12084.97649050273,12863.441472574465,13719.903976641106,14665.09962882495,15711.668212789427,16874.57175256134,18171.623140802843,19624.15981319587,21257.90948612848,23104.112706328684,25200.992377970106,27595.697324856184,30346.901209590505,33528.319082432376,37233.52641405797,41582.65405017458,46731.827531132905,52886.68883104754,60322.09975150958,69411.38272265853,80670.56607297751,94826.70482754818,112925.56782011809,136504.71598862327,167876.05440175824,210589.5700679826,270178.87550814607,355252.18629190105,478560.307797556,655560.5845798899,890960.0766567012,1135648.3899828095,1250091.1286377506,1135648.5389350115,890960.3745614183,655561.0314377496,478560.9036094988,355252.9310591847,270179.7692323337,210590.6127509561,167877.24604571276,136506.05659606747,112927.0573938728,94828.34337075106,80672.35358907796,69413.31921541966,60324.18522500821,52888.9232896744,46734.210979591975,41585.18649348388,37236.207857549336,33531.14953175147,30349.88067069681,27598.8258040231,25204.269881784952,23107.539241692743,21261.48506025704,19627.88443361832,18175.496815362523,16878.594489415795,15715.840020410382,14669.42051599834,13724.37395246709,12868.060546467656,12089.744672192051,11380.261757328044,10731.75103510613,10137.439723903935,9591.467657430334,9088.743948925265,8624.829188116715,8195.838113819003,7798.358802166903,7429.385249931858,7086.260879053124,6766.630989938982,6468.402582287343,6189.710269174148,5928.88725244059,5684.440519648522,5455.029576189883,5239.448149014146,5036.608397385743,4845.5272461229,4665.314521794594,4495.162625401626,4334.337518519044,4182.170835605667,4038.0529646733567,3901.4269629315513,3771.7831943211554,3648.654592778527,3531.6124692306844,3420.262792205728,3314.242881943995,3213.2184663379844],\"type\":\"scatter\",\"xaxis\":\"x\",\"yaxis\":\"y\"},{\"marker\":{\"color\":\"#7FC97F\"},\"mode\":\"lines\",\"name\":\"initial values\",\"x\":[-0.1999999999999999,-0.1968253968253968,-0.1936507936507936,-0.1904761904761904,-0.1873015873015873,-0.1841269841269841,-0.1809523809523809,-0.1777777777777778,-0.1746031746031746,-0.1714285714285713,-0.1682539682539682,-0.165079365079365,-0.1619047619047618,-0.1587301587301587,-0.1555555555555555,-0.1523809523809524,-0.1492063492063492,-0.146031746031746,-0.1428571428571429,-0.1396825396825396,-0.1365079365079364,-0.1333333333333333,-0.1301587301587301,-0.1269841269841269,-0.1238095238095238,-0.1206349206349206,-0.1174603174603174,-0.1142857142857143,-0.1111111111111111,-0.1079365079365078,-0.1047619047619047,-0.1015873015873015,-0.0984126984126984,-0.0952380952380952,-0.092063492063492,-0.0888888888888889,-0.0857142857142857,-0.0825396825396825,-0.0793650793650794,-0.0761904761904761,-0.0730158730158729,-0.0698412698412698,-0.0666666666666666,-0.0634920634920634,-0.0603174603174603,-0.0571428571428571,-0.053968253968254,-0.0507936507936508,-0.0476190476190476,-0.0444444444444444,-0.0412698412698412,-0.038095238095238,-0.0349206349206349,-0.0317460317460317,-0.0285714285714285,-0.0253968253968254,-0.0222222222222222,-0.019047619047619,-0.0158730158730159,-0.0126984126984126,-0.0095238095238094,-0.0063492063492063,-0.0031746031746031,0.0,0.0031746031746031,0.0063492063492063,0.0095238095238094,0.0126984126984126,0.0158730158730158,0.0190476190476189,0.0222222222222221,0.0253968253968253,0.0285714285714284,0.0317460317460318,0.034920634920635,0.0380952380952381,0.0412698412698413,0.0444444444444445,0.0476190476190476,0.0507936507936508,0.053968253968254,0.0571428571428571,0.0603174603174603,0.0634920634920634,0.0666666666666666,0.0698412698412698,0.0730158730158729,0.0761904761904761,0.0793650793650793,0.0825396825396824,0.0857142857142856,0.0888888888888888,0.0920634920634919,0.0952380952380953,0.0984126984126985,0.1015873015873016,0.1047619047619048,0.107936507936508,0.1111111111111111,0.1142857142857143,0.1174603174603174,0.1206349206349206,0.1238095238095238,0.1269841269841269,0.1301587301587301,0.1333333333333333,0.1365079365079364,0.1396825396825396,0.1428571428571428,0.1460317460317459,0.1492063492063491,0.1523809523809522,0.1555555555555554,0.1587301587301588,0.161904761904762,0.1650793650793651,0.1682539682539683,0.1714285714285714,0.1746031746031746,0.1777777777777778,0.1809523809523809,0.1841269841269841,0.1873015873015873,0.1904761904761904,0.1936507936507936,0.1968253968253968,0.1999999999999999],\"y\":[1246.8827930174575,1287.324797008762,1329.7649575942685,1374.336983688709,1421.1859472675203,1470.4694609908795,1522.3590005592353,1577.0413924691397,1634.7204912151797,1695.6190739843616,1759.9809856425645,1828.0735724767399,1900.1904499271836,1976.6546576637334,2057.8222651288056,2144.0865024649697,2235.88250603615,2333.6927851321025,2438.053537665438,2549.5619686806676,2668.8847975103895,2796.768178993165,2934.04931331862,3081.6700803920735,3240.6931115062985,3412.3208080210625,3597.917939550631,3799.038610637308,4017.458585457792,4255.214218783849,4514.64957719949,4798.473773421129,5109.831114223844,5452.387428599693,5830.43696693883,6249.03564264774,6714.168265278217,7232.959991836624,7813.945796544717,8467.416765993275,9205.86911979737,10044.592028746432,11002.445099456654,12102.898380451275,13375.4418605414,14857.529980199348,16597.348100995736,18658.00055377957,21124.623364872434,24118.484669223726,27828.605288180002,32585.00962700688,39019.07380769631,48374.013770952784,63005.64363341541,86992.22344266638,126528.57851084958,189530.88582600962,283925.178447144,414652.85000211746,579883.3659658594,765074.042211631,929651.9426363404,1000000.0,929651.9426363404,765074.042211631,579883.3659658594,414652.85000211746,283925.17844714754,189530.88582601206,126528.57851085108,86992.22344266735,63005.643633416,48374.01377095243,39019.07380769608,32585.009627006708,27828.60528817988,24118.484669223617,21124.623364872434,18658.00055377957,16597.348100995736,14857.529980199348,13375.4418605414,12102.898380451275,11002.445099456654,10044.592028746432,9205.86911979737,8467.416765993275,7813.945796544736,7232.959991836642,6714.168265278231,6249.035642647758,5830.436966938843,5452.38742859968,5109.831114223836,4798.47377342112,4514.649577199481,4255.2142187838335,4017.458585457792,3799.038610637308,3597.917939550631,3412.3208080210625,3240.6931115062985,3081.6700803920735,2934.04931331862,2796.768178993165,2668.8847975103895,2549.5619686806676,2438.0535376654416,2333.6927851321057,2235.882506036154,2144.086502464975,2057.822265128809,1976.6546576637309,1900.1904499271786,1828.0735724767376,1759.9809856425627,1695.6190739843596,1634.7204912151797,1577.0413924691397,1522.3590005592353,1470.4694609908795,1421.1859472675203,1374.336983688709,1329.7649575942685,1287.324797008762,1246.8827930174575],\"type\":\"scatter\",\"xaxis\":\"x\",\"yaxis\":\"y\"},{\"marker\":{\"color\":\"#EF553B\"},\"mode\":\"lines\",\"name\":\"best fit\",\"x\":[-0.1999999999999999,-0.1968253968253968,-0.1936507936507936,-0.1904761904761904,-0.1873015873015873,-0.1841269841269841,-0.1809523809523809,-0.1777777777777778,-0.1746031746031746,-0.1714285714285713,-0.1682539682539682,-0.165079365079365,-0.1619047619047618,-0.1587301587301587,-0.1555555555555555,-0.1523809523809524,-0.1492063492063492,-0.146031746031746,-0.1428571428571429,-0.1396825396825396,-0.1365079365079364,-0.1333333333333333,-0.1301587301587301,-0.1269841269841269,-0.1238095238095238,-0.1206349206349206,-0.1174603174603174,-0.1142857142857143,-0.1111111111111111,-0.1079365079365078,-0.1047619047619047,-0.1015873015873015,-0.0984126984126984,-0.0952380952380952,-0.092063492063492,-0.0888888888888889,-0.0857142857142857,-0.0825396825396825,-0.0793650793650794,-0.0761904761904761,-0.0730158730158729,-0.0698412698412698,-0.0666666666666666,-0.0634920634920634,-0.0603174603174603,-0.0571428571428571,-0.053968253968254,-0.0507936507936508,-0.0476190476190476,-0.0444444444444444,-0.0412698412698412,-0.038095238095238,-0.0349206349206349,-0.0317460317460317,-0.0285714285714285,-0.0253968253968254,-0.0222222222222222,-0.019047619047619,-0.0158730158730159,-0.0126984126984126,-0.0095238095238094,-0.0063492063492063,-0.0031746031746031,0.0,0.0031746031746031,0.0063492063492063,0.0095238095238094,0.0126984126984126,0.0158730158730158,0.0190476190476189,0.0222222222222221,0.0253968253968253,0.0285714285714284,0.0317460317460318,0.034920634920635,0.0380952380952381,0.0412698412698413,0.0444444444444445,0.0476190476190476,0.0507936507936508,0.053968253968254,0.0571428571428571,0.0603174603174603,0.0634920634920634,0.0666666666666666,0.0698412698412698,0.0730158730158729,0.0761904761904761,0.0793650793650793,0.0825396825396824,0.0857142857142856,0.0888888888888888,0.0920634920634919,0.0952380952380953,0.0984126984126985,0.1015873015873016,0.1047619047619048,0.107936507936508,0.1111111111111111,0.1142857142857143,0.1174603174603174,0.1206349206349206,0.1238095238095238,0.1269841269841269,0.1301587301587301,0.1333333333333333,0.1365079365079364,0.1396825396825396,0.1428571428571428,0.1460317460317459,0.1492063492063491,0.1523809523809522,0.1555555555555554,0.1587301587301588,0.161904761904762,0.1650793650793651,0.1682539682539683,0.1714285714285714,0.1746031746031746,0.1777777777777778,0.1809523809523809,0.1841269841269841,0.1873015873015873,0.1904761904761904,0.1936507936507936,0.1968253968253968,0.1999999999999999],\"y\":[3208.46982868349,3309.574606488123,3415.6747643012777,3527.104573642271,3644.226713617079,3767.4352149716897,3897.1587659733877,4033.864431791848,4178.06184749439,4330.307954771153,4491.212364389002,4661.443440533173,4841.735220122222,5032.89530048059,5235.813853175706,5451.473951313505,5680.963433314544,5925.48856964424,6186.389852019733,6465.160289641169,6763.466677034207,7083.174397038855,7426.376445356985,7795.4275163873945,8192.98418231526,8622.052439704717,9086.044204841679,9588.844730267803,10134.893416367215,10729.281138553088,11377.86805005119,12087.42691738584,12865.818489812527,13722.207319244613,14667.329007628405,15713.82331027295,16876.652217780196,18173.628583197413,19626.089794987653,21259.76351291746,23105.890215384818,25202.692723546934,27597.319759627328,30348.444860995347,33529.78292228296,37234.90921914958,41583.95435078804,46733.04354312271,52887.818365544575,60323.14009400673,69412.33047031732,80671.41691563775,94827.45325543136,112926.20674397967,136505.2362795755,167876.44443760414,210589.81562422242,270178.9610752039,355252.10098310205,478560.0642018316,655560.2672718407,890959.9214431022,1135648.73076583,1250091.875564795,1135649.0064950252,890960.2608509916,655560.5428787909,478560.26001045917,355252.23584358953,270179.0546643347,210589.88194670956,167876.4925948574,136505.27209125794,112926.23396796442,94827.4743654666,80671.43357666805,69412.34382821895,60323.15095439161,52887.82730614761,46733.05098589244,41583.960609089365,37234.91452928859,33529.78746496133,30348.448776170724,27597.32315697674,25202.695689947457,23105.892820338042,21259.765812534995,19626.091834955405,18173.630401005263,16876.653844417415,15713.824771529711,14667.330325104376,13722.208511137265,12865.819571538497,12087.42790207396,11377.86894893695,10729.281961296154,10134.89417130878,9588.845424640109,9086.044844940028,8622.053031029089,8192.984729687654,7795.428024049497,7426.376917051842,7083.174836079469,6763.467086361381,6465.1606718725025,6186.390209491268,5925.488904445955,5680.963747320792,5451.474246209127,5235.81413047852,5032.895561560862,4841.735466219541,4661.443672771094,4491.212583787816,4330.3081622590635,4178.062043917311,4033.864617921976,3897.1589425167826,3767.435382574954,3644.226872873254,3527.1047250960733,3415.674908453739,3309.574743800732,3208.46995958187],\"type\":\"scatter\",\"xaxis\":\"x\",\"yaxis\":\"y\"},{\"marker\":{\"color\":\"#AB63FA\"},\"mode\":\"lines\",\"name\":\"residuum\",\"x\":[-0.1999999999999999,-0.1968253968253968,-0.1936507936507936,-0.1904761904761904,-0.1873015873015873,-0.1841269841269841,-0.1809523809523809,-0.1777777777777778,-0.1746031746031746,-0.1714285714285713,-0.1682539682539682,-0.165079365079365,-0.1619047619047618,-0.1587301587301587,-0.1555555555555555,-0.1523809523809524,-0.1492063492063492,-0.146031746031746,-0.1428571428571429,-0.1396825396825396,-0.1365079365079364,-0.1333333333333333,-0.1301587301587301,-0.1269841269841269,-0.1238095238095238,-0.1206349206349206,-0.1174603174603174,-0.1142857142857143,-0.1111111111111111,-0.1079365079365078,-0.1047619047619047,-0.1015873015873015,-0.0984126984126984,-0.0952380952380952,-0.092063492063492,-0.0888888888888889,-0.0857142857142857,-0.0825396825396825,-0.0793650793650794,-0.0761904761904761,-0.0730158730158729,-0.0698412698412698,-0.0666666666666666,-0.0634920634920634,-0.0603174603174603,-0.0571428571428571,-0.053968253968254,-0.0507936507936508,-0.0476190476190476,-0.0444444444444444,-0.0412698412698412,-0.038095238095238,-0.0349206349206349,-0.0317460317460317,-0.0285714285714285,-0.0253968253968254,-0.0222222222222222,-0.019047619047619,-0.0158730158730159,-0.0126984126984126,-0.0095238095238094,-0.0063492063492063,-0.0031746031746031,0.0,0.0031746031746031,0.0063492063492063,0.0095238095238094,0.0126984126984126,0.0158730158730158,0.0190476190476189,0.0222222222222221,0.0253968253968253,0.0285714285714284,0.0317460317460318,0.034920634920635,0.0380952380952381,0.0412698412698413,0.0444444444444445,0.0476190476190476,0.0507936507936508,0.053968253968254,0.0571428571428571,0.0603174603174603,0.0634920634920634,0.0666666666666666,0.0698412698412698,0.0730158730158729,0.0761904761904761,0.0793650793650793,0.0825396825396824,0.0857142857142856,0.0888888888888888,0.0920634920634919,0.0952380952380953,0.0984126984126985,0.1015873015873016,0.1047619047619048,0.107936507936508,0.1111111111111111,0.1142857142857143,0.1174603174603174,0.1206349206349206,0.1238095238095238,0.1269841269841269,0.1301587301587301,0.1333333333333333,0.1365079365079364,0.1396825396825396,0.1428571428571428,0.1460317460317459,0.1492063492063491,0.1523809523809522,0.1555555555555554,0.1587301587301588,0.161904761904762,0.1650793650793651,0.1682539682539683,0.1714285714285714,0.1746031746031746,0.1777777777777778,0.1809523809523809,0.1841269841269841,0.1873015873015873,0.1904761904761904,0.1936507936507936,0.1968253968253968,0.1999999999999999],\"y\":[4.6484295770665085,4.579226075790757,4.509927438316936,4.4405327595309245,4.371041068927752,4.301451323884521,4.231762402098866,4.161973093098823,4.092082088712232,4.022087972209192,3.951989206124381,3.8817841184090867,3.8114708866514775,3.7410475201777444,3.6705118395857426,3.599861453268204,3.5290937305808256,3.458205770850327,3.387194367680422,3.3160559676580306,3.244786622342872,3.1733819324335855,3.1018369825533227,3.03014626469394,2.958303588277886,2.8863019739383162,2.814133527499507,2.7417892901194136,2.6692590591810585,2.59653117309972,2.5235922519532323,2.450426883109685,2.3770172380627628,2.30334260350719,2.2293788034548925,2.1550974835226953,2.0804652188562613,2.0054423945693998,1.9299817917817563,1.8540267889802635,1.7775090561335674,1.7003455768281128,1.622434771143162,1.543651404841512,1.4638398505849182,1.3828050916126813,1.300300613460422,1.216011989803519,1.1295344970349106,1.0403424971518689,0.9477476587926503,0.8508426602347754,0.7484278831834672,0.6389238615811337,0.5202909522340633,0.390035845892271,0.24555623982450925,0.08556705783121288,-0.08530879899626598,-0.24359572440152988,-0.3173080491833389,-0.15521359897684306,0.34078302048146725,0.7469270443543792,0.46756001375615597,-0.11371042672544718,-0.48855895875021815,-0.6435990396421403,-0.6952155951876193,-0.714567999006249,-0.7308042465301696,-0.7534508553508203,-0.7845048095332459,-0.8234259083837969,-0.8690052844613092,-0.9200124099152163,-0.9753872007131577,-1.034270616597496,-1.095983526793134,-1.1599936995335156,-1.22588439451647,-1.2933282607482397,-1.362066790141398,-1.4318945260856708,-1.5026470463599253,-1.5741918374951638,-1.6464213547005784,-1.719247722045111,-1.7925986629161343,-1.8664143572605099,-1.9406449983798666,-2.015248880670697,-2.090190893963154,-2.165441329823807,-2.2409749291582557,-2.316770118091881,-2.3928083910941496,-2.46907380997618,-2.5455525951547315,-2.622232790225098,-2.699103985236434,-2.776157087626416,-2.8533841313492303,-2.93077811740568,-3.0083328800164963,-3.086042973654912,-3.1639035776006494,-3.2419104148402766,-3.320059682880128,-3.398347994634605,-3.476772327730032,-3.5553299807561416,-3.634018535625728,-3.71283582488104,-3.7917799033584743,-3.870849023500341,-3.950041613810754,-4.0293562599808865,-4.1087916883561775,-4.188346751380777,-4.268020414768671,-4.347811746201387,-4.427719905273079,-4.50774413461113,-4.587883751989011,-4.66813814326315,-4.748506756114239],\"type\":\"scatter\",\"xaxis\":\"x2\",\"yaxis\":\"y2\"}],                        {\"template\":{\"data\":{\"histogram2dcontour\":[{\"type\":\"histogram2dcontour\",\"colorbar\":{\"outlinewidth\":0,\"ticks\":\"\"},\"colorscale\":[[0.0,\"#0d0887\"],[0.1111111111111111,\"#46039f\"],[0.2222222222222222,\"#7201a8\"],[0.3333333333333333,\"#9c179e\"],[0.4444444444444444,\"#bd3786\"],[0.5555555555555556,\"#d8576b\"],[0.6666666666666666,\"#ed7953\"],[0.7777777777777778,\"#fb9f3a\"],[0.8888888888888888,\"#fdca26\"],[1.0,\"#f0f921\"]]}],\"choropleth\":[{\"type\":\"choropleth\",\"colorbar\":{\"outlinewidth\":0,\"ticks\":\"\"}}],\"histogram2d\":[{\"type\":\"histogram2d\",\"colorbar\":{\"outlinewidth\":0,\"ticks\":\"\"},\"colorscale\":[[0.0,\"#0d0887\"],[0.1111111111111111,\"#46039f\"],[0.2222222222222222,\"#7201a8\"],[0.3333333333333333,\"#9c179e\"],[0.4444444444444444,\"#bd3786\"],[0.5555555555555556,\"#d8576b\"],[0.6666666666666666,\"#ed7953\"],[0.7777777777777778,\"#fb9f3a\"],[0.8888888888888888,\"#fdca26\"],[1.0,\"#f0f921\"]]}],\"heatmap\":[{\"type\":\"heatmap\",\"colorbar\":{\"outlinewidth\":0,\"ticks\":\"\"},\"colorscale\":[[0.0,\"#0d0887\"],[0.1111111111111111,\"#46039f\"],[0.2222222222222222,\"#7201a8\"],[0.3333333333333333,\"#9c179e\"],[0.4444444444444444,\"#bd3786\"],[0.5555555555555556,\"#d8576b\"],[0.6666666666666666,\"#ed7953\"],[0.7777777777777778,\"#fb9f3a\"],[0.8888888888888888,\"#fdca26\"],[1.0,\"#f0f921\"]]}],\"heatmapgl\":[{\"type\":\"heatmapgl\",\"colorbar\":{\"outlinewidth\":0,\"ticks\":\"\"},\"colorscale\":[[0.0,\"#0d0887\"],[0.1111111111111111,\"#46039f\"],[0.2222222222222222,\"#7201a8\"],[0.3333333333333333,\"#9c179e\"],[0.4444444444444444,\"#bd3786\"],[0.5555555555555556,\"#d8576b\"],[0.6666666666666666,\"#ed7953\"],[0.7777777777777778,\"#fb9f3a\"],[0.8888888888888888,\"#fdca26\"],[1.0,\"#f0f921\"]]}],\"contourcarpet\":[{\"type\":\"contourcarpet\",\"colorbar\":{\"outlinewidth\":0,\"ticks\":\"\"}}],\"contour\":[{\"type\":\"contour\",\"colorbar\":{\"outlinewidth\":0,\"ticks\":\"\"},\"colorscale\":[[0.0,\"#0d0887\"],[0.1111111111111111,\"#46039f\"],[0.2222222222222222,\"#7201a8\"],[0.3333333333333333,\"#9c179e\"],[0.4444444444444444,\"#bd3786\"],[0.5555555555555556,\"#d8576b\"],[0.6666666666666666,\"#ed7953\"],[0.7777777777777778,\"#fb9f3a\"],[0.8888888888888888,\"#fdca26\"],[1.0,\"#f0f921\"]]}],\"surface\":[{\"type\":\"surface\",\"colorbar\":{\"outlinewidth\":0,\"ticks\":\"\"},\"colorscale\":[[0.0,\"#0d0887\"],[0.1111111111111111,\"#46039f\"],[0.2222222222222222,\"#7201a8\"],[0.3333333333333333,\"#9c179e\"],[0.4444444444444444,\"#bd3786\"],[0.5555555555555556,\"#d8576b\"],[0.6666666666666666,\"#ed7953\"],[0.7777777777777778,\"#fb9f3a\"],[0.8888888888888888,\"#fdca26\"],[1.0,\"#f0f921\"]]}],\"mesh3d\":[{\"type\":\"mesh3d\",\"colorbar\":{\"outlinewidth\":0,\"ticks\":\"\"}}],\"scatter\":[{\"fillpattern\":{\"fillmode\":\"overlay\",\"size\":10,\"solidity\":0.2},\"type\":\"scatter\"}],\"parcoords\":[{\"type\":\"parcoords\",\"line\":{\"colorbar\":{\"outlinewidth\":0,\"ticks\":\"\"}}}],\"scatterpolargl\":[{\"type\":\"scatterpolargl\",\"marker\":{\"colorbar\":{\"outlinewidth\":0,\"ticks\":\"\"}}}],\"bar\":[{\"error_x\":{\"color\":\"#2a3f5f\"},\"error_y\":{\"color\":\"#2a3f5f\"},\"marker\":{\"line\":{\"color\":\"#E5ECF6\",\"width\":0.5},\"pattern\":{\"fillmode\":\"overlay\",\"size\":10,\"solidity\":0.2}},\"type\":\"bar\"}],\"scattergeo\":[{\"type\":\"scattergeo\",\"marker\":{\"colorbar\":{\"outlinewidth\":0,\"ticks\":\"\"}}}],\"scatterpolar\":[{\"type\":\"scatterpolar\",\"marker\":{\"colorbar\":{\"outlinewidth\":0,\"ticks\":\"\"}}}],\"histogram\":[{\"marker\":{\"pattern\":{\"fillmode\":\"overlay\",\"size\":10,\"solidity\":0.2}},\"type\":\"histogram\"}],\"scattergl\":[{\"type\":\"scattergl\",\"marker\":{\"colorbar\":{\"outlinewidth\":0,\"ticks\":\"\"}}}],\"scatter3d\":[{\"type\":\"scatter3d\",\"line\":{\"colorbar\":{\"outlinewidth\":0,\"ticks\":\"\"}},\"marker\":{\"colorbar\":{\"outlinewidth\":0,\"ticks\":\"\"}}}],\"scattermapbox\":[{\"type\":\"scattermapbox\",\"marker\":{\"colorbar\":{\"outlinewidth\":0,\"ticks\":\"\"}}}],\"scatterternary\":[{\"type\":\"scatterternary\",\"marker\":{\"colorbar\":{\"outlinewidth\":0,\"ticks\":\"\"}}}],\"scattercarpet\":[{\"type\":\"scattercarpet\",\"marker\":{\"colorbar\":{\"outlinewidth\":0,\"ticks\":\"\"}}}],\"carpet\":[{\"aaxis\":{\"endlinecolor\":\"#2a3f5f\",\"gridcolor\":\"white\",\"linecolor\":\"white\",\"minorgridcolor\":\"white\",\"startlinecolor\":\"#2a3f5f\"},\"baxis\":{\"endlinecolor\":\"#2a3f5f\",\"gridcolor\":\"white\",\"linecolor\":\"white\",\"minorgridcolor\":\"white\",\"startlinecolor\":\"#2a3f5f\"},\"type\":\"carpet\"}],\"table\":[{\"cells\":{\"fill\":{\"color\":\"#EBF0F8\"},\"line\":{\"color\":\"white\"}},\"header\":{\"fill\":{\"color\":\"#C8D4E3\"},\"line\":{\"color\":\"white\"}},\"type\":\"table\"}],\"barpolar\":[{\"marker\":{\"line\":{\"color\":\"#E5ECF6\",\"width\":0.5},\"pattern\":{\"fillmode\":\"overlay\",\"size\":10,\"solidity\":0.2}},\"type\":\"barpolar\"}],\"pie\":[{\"automargin\":true,\"type\":\"pie\"}]},\"layout\":{\"autotypenumbers\":\"strict\",\"colorway\":[\"#636efa\",\"#EF553B\",\"#00cc96\",\"#ab63fa\",\"#FFA15A\",\"#19d3f3\",\"#FF6692\",\"#B6E880\",\"#FF97FF\",\"#FECB52\"],\"font\":{\"color\":\"#2a3f5f\"},\"hovermode\":\"closest\",\"hoverlabel\":{\"align\":\"left\"},\"paper_bgcolor\":\"white\",\"plot_bgcolor\":\"#E5ECF6\",\"polar\":{\"bgcolor\":\"#E5ECF6\",\"angularaxis\":{\"gridcolor\":\"white\",\"linecolor\":\"white\",\"ticks\":\"\"},\"radialaxis\":{\"gridcolor\":\"white\",\"linecolor\":\"white\",\"ticks\":\"\"}},\"ternary\":{\"bgcolor\":\"#E5ECF6\",\"aaxis\":{\"gridcolor\":\"white\",\"linecolor\":\"white\",\"ticks\":\"\"},\"baxis\":{\"gridcolor\":\"white\",\"linecolor\":\"white\",\"ticks\":\"\"},\"caxis\":{\"gridcolor\":\"white\",\"linecolor\":\"white\",\"ticks\":\"\"}},\"coloraxis\":{\"colorbar\":{\"outlinewidth\":0,\"ticks\":\"\"}},\"colorscale\":{\"sequential\":[[0.0,\"#0d0887\"],[0.1111111111111111,\"#46039f\"],[0.2222222222222222,\"#7201a8\"],[0.3333333333333333,\"#9c179e\"],[0.4444444444444444,\"#bd3786\"],[0.5555555555555556,\"#d8576b\"],[0.6666666666666666,\"#ed7953\"],[0.7777777777777778,\"#fb9f3a\"],[0.8888888888888888,\"#fdca26\"],[1.0,\"#f0f921\"]],\"sequentialminus\":[[0.0,\"#0d0887\"],[0.1111111111111111,\"#46039f\"],[0.2222222222222222,\"#7201a8\"],[0.3333333333333333,\"#9c179e\"],[0.4444444444444444,\"#bd3786\"],[0.5555555555555556,\"#d8576b\"],[0.6666666666666666,\"#ed7953\"],[0.7777777777777778,\"#fb9f3a\"],[0.8888888888888888,\"#fdca26\"],[1.0,\"#f0f921\"]],\"diverging\":[[0,\"#8e0152\"],[0.1,\"#c51b7d\"],[0.2,\"#de77ae\"],[0.3,\"#f1b6da\"],[0.4,\"#fde0ef\"],[0.5,\"#f7f7f7\"],[0.6,\"#e6f5d0\"],[0.7,\"#b8e186\"],[0.8,\"#7fbc41\"],[0.9,\"#4d9221\"],[1,\"#276419\"]]},\"xaxis\":{\"gridcolor\":\"white\",\"linecolor\":\"white\",\"ticks\":\"\",\"title\":{\"standoff\":15},\"zerolinecolor\":\"white\",\"automargin\":true,\"zerolinewidth\":2},\"yaxis\":{\"gridcolor\":\"white\",\"linecolor\":\"white\",\"ticks\":\"\",\"title\":{\"standoff\":15},\"zerolinecolor\":\"white\",\"automargin\":true,\"zerolinewidth\":2},\"scene\":{\"xaxis\":{\"backgroundcolor\":\"#E5ECF6\",\"gridcolor\":\"white\",\"linecolor\":\"white\",\"showbackground\":true,\"ticks\":\"\",\"zerolinecolor\":\"white\",\"gridwidth\":2},\"yaxis\":{\"backgroundcolor\":\"#E5ECF6\",\"gridcolor\":\"white\",\"linecolor\":\"white\",\"showbackground\":true,\"ticks\":\"\",\"zerolinecolor\":\"white\",\"gridwidth\":2},\"zaxis\":{\"backgroundcolor\":\"#E5ECF6\",\"gridcolor\":\"white\",\"linecolor\":\"white\",\"showbackground\":true,\"ticks\":\"\",\"zerolinecolor\":\"white\",\"gridwidth\":2}},\"shapedefaults\":{\"line\":{\"color\":\"#2a3f5f\"}},\"annotationdefaults\":{\"arrowcolor\":\"#2a3f5f\",\"arrowhead\":0,\"arrowwidth\":1},\"geo\":{\"bgcolor\":\"white\",\"landcolor\":\"#E5ECF6\",\"subunitcolor\":\"white\",\"showland\":true,\"showlakes\":true,\"lakecolor\":\"white\"},\"title\":{\"x\":0.05},\"mapbox\":{\"style\":\"light\"}}},\"xaxis\":{\"anchor\":\"y\",\"domain\":[0.0,1.0],\"matches\":\"x2\",\"showticklabels\":false,\"linecolor\":\"black\",\"mirror\":true,\"showline\":true,\"autorange\":false,\"ticks\":\"outside\",\"range\":[0.1999999999999999,-0.1999999999999999]},\"yaxis\":{\"anchor\":\"x\",\"domain\":[0.405,1.0],\"linecolor\":\"black\",\"mirror\":true,\"showline\":true,\"title\":{\"text\":\"intensity\"},\"exponentformat\":\"power\",\"showexponent\":\"last\"},\"xaxis2\":{\"anchor\":\"y2\",\"domain\":[0.0,1.0],\"linecolor\":\"black\",\"mirror\":true,\"showline\":true,\"title\":{\"text\":\"chemical shift (ppm)\"},\"autorange\":false,\"ticks\":\"outside\",\"range\":[0.1999999999999999,-0.1999999999999999]},\"yaxis2\":{\"anchor\":\"x2\",\"domain\":[0.0,0.255],\"linecolor\":\"black\",\"mirror\":true,\"showline\":true,\"title\":{\"text\":\"residuum\"},\"exponentformat\":\"power\",\"showexponent\":\"last\"},\"plot_bgcolor\":\"white\",\"shapes\":[{\"line\":{\"color\":\"black\",\"dash\":\"dash\",\"width\":1.0},\"type\":\"line\",\"x0\":-0.1999999999999999,\"x1\":0.1999999999999999,\"xref\":\"x2\",\"y0\":0,\"y1\":0,\"yref\":\"y2\"}],\"autosize\":false,\"width\":900,\"height\":700},                        {\"responsive\": true}                    ).then(function(){\n",
       "                            \n",
       "var gd = document.getElementById('a943e0d8-c805-44cb-87e2-f267f820cd55');\n",
       "var x = new MutationObserver(function (mutations, observer) {{\n",
       "        var display = window.getComputedStyle(gd).display;\n",
       "        if (!display || display === 'none') {{\n",
       "            console.log([gd, 'removed!']);\n",
       "            Plotly.purge(gd);\n",
       "            observer.disconnect();\n",
       "        }}\n",
       "}});\n",
       "\n",
       "// Listen for the removal of the full notebook cells\n",
       "var notebookContainer = gd.closest('#notebook-container');\n",
       "if (notebookContainer) {{\n",
       "    x.observe(notebookContainer, {childList: true});\n",
       "}}\n",
       "\n",
       "// Listen for the clearing of the current output cell\n",
       "var outputEl = gd.closest('.output');\n",
       "if (outputEl) {{\n",
       "    x.observe(outputEl, {childList: true});\n",
       "}}\n",
       "\n",
       "                        })                };                });            </script>        </div>"
      ]
     },
     "metadata": {},
     "output_type": "display_data"
    }
   ],
   "source": [
    "\n",
    "# plot sim vs meas\n",
    "fig = sp.plot(ini=True, fit=True)\n",
    "fig.update_layout(autosize=False, width=900, height=700)\n",
    "fig.show()\n",
    "\n"
   ]
  },
  {
   "cell_type": "code",
   "execution_count": null,
   "id": "36bbb06c-1c11-4b2c-817d-7148eece6fc5",
   "metadata": {},
   "outputs": [],
   "source": []
  },
  {
   "cell_type": "markdown",
   "id": "14421317-15c8-46e9-b84f-b12c9fa8c45c",
   "metadata": {},
   "source": [
    "\n",
    "Documentation of Spectrum object\n",
    "\n",
    "        \n",
    "Arguments\n",
    "\n",
    "        data_path : str\n",
    "            path of TopSpin data folder\n",
    "        dataset : str\n",
    "            dataset name\n",
    "        expno : str\n",
    "            expno\n",
    "        procno : str\n",
    "            procno\n",
    "        rowno : str | None (optional, default=None)\n",
    "            rowno (default: None)\n",
    "#             note: assume 1D data if None, otherwise 2D data expected\n",
    "#         window : tuple | None (optional, default=None)\n",
    "#             lower and upper chemical shifts of the window of interest (in ppm)\n",
    "#             provided as numeric, full spectrum if None\n",
    "#        \n",
    "#         Attributes\n",
    "#         ----------\n",
    "#         data_path : str\n",
    "#             path of TopSpin data folder\n",
    "#         dataset : str\n",
    "#             dataset name\n",
    "#         expno : str\n",
    "#             expno\n",
    "#         procno : str\n",
    "#             procno\n",
    "#         rowno : str\n",
    "#             rowno\n",
    "#         window : tuple | None\n",
    "#             lower and upper chemical shifts of the window of interest (in ppm)\n",
    "#             provided as numeric, full spectrum if None\n",
    "#         ppm : list\n",
    "#             experimental chemical shifts (in ppm), provided as numeric\n",
    "#         intensity : str\n",
    "#             chemical shifts (in ppm), provided as numeric\n",
    "#         offset : bool\n",
    "#             True if the spectrum model has an offset, otherwise False,\n",
    "#             set by build_models()\n",
    "#         models : dict\n",
    "#             with signal names as key and the corresponding Model objects as values,\n",
    "#             set by build_models()\n",
    "#         params : pd.DataFrame\n",
    "#             pandas DataFrame containing all parameters of the full spectrum,\n",
    "#             set by build_models()\n",
    "#         fit_results : object\n",
    "#             OptimizeResult object returned by scipy.optimize.minimize, with an \n",
    "#             additional 'best_fit' attribute (a list of intensities for the best fit),\n",
    "#             set by fit()\n",
    "#        \n",
    "#         Methods\n",
    "#         -------\n",
    "#         __init__(data_path: str, dataset: str, expno: str, procno: str, rowno: str | None, window: tuple | None, data: pd.DataFrame | None)\n",
    "#             Initialize attributes and load NMR data (from data if not None, otherwise reads \n",
    "#             TopSpin files given in data_path, dataset, expno, procno, rowno).\n",
    "#         peak_picking(threshold: numeric)\n",
    "#             Performs peak picking using the threshold provided.\n",
    "#             Returns the peak table as a pandas.DataFrame.\n",
    "#         build_model(signals: dict, available_models: dict, offset: dict | None)\n",
    "#             Build the complete model of the spectrum by initializing a model for each \n",
    "#             signal (in 'model' attribute), parameters (initial value and lower & upper \n",
    "#             bounds, in 'params' attribute) and offset (in 'offset' and 'params' attributes).\n",
    "#         update_params(signals: dict)\n",
    "#             Update the value (initial, lower and/or upper bound) of one or several parameters \n",
    "#             of one or several signals in 'params' attribute.\n",
    "#         update_offset(offset: dict | None)\n",
    "#             Update the value of the offset (in 'offset' and 'params' attributes). Offset is\n",
    "#             removed is set to None.\n",
    "#         simulate(params: dict | None)\n",
    "#             Simulate spectrum. If params is None (default), initial values (in 'params' attribute) \n",
    "#             are used for simulation.\n",
    "#             Returns a list of simulated intensities.\n",
    "#         fit(method: str)\n",
    "#             Fit experimental spectrum using the 'L-BFGS-B' (default) or 'differential_evolution' \n",
    "#             optimization methods & calculate integral of each signal, update 'params' and \n",
    "#             'fit_results' attributes.\n",
    "#             Returns an OptimizeResult object generated by scipy.optimize.minimize.\n",
    "#         integrate(params: dict | None, bounds: list)\n",
    "#             Integrate each signal of the full spectrum over the range given in 'bounds' \n",
    "#             (default: [-100.0, 300.0]).\n",
    "#             If params is None, initial values (in 'params' attribute) are used for simulation.\n",
    "#             Returns integrals as a dict.\n",
    "#         plot(exp: bool, ini: bool, fit: bool, pp: pd.DataFrame | None)\n",
    "#             Plot the following data: experimental spectrum (exp, default: True), spectrum simulated from \n",
    "#             initial parameters values (see 'params' attribute) (ini, default: False), spectrum simulated \n",
    "#             for the best fit (fit, default: False), and peak picking results (pp, default: None).\n",
    "#             Returns the figure as a pyplot.subplots.make_subplots object.\n",
    "#         \"\"\"\n",
    "\n"
   ]
  }
 ],
 "metadata": {
  "kernelspec": {
   "display_name": "Python 3 (ipykernel)",
   "language": "python",
   "name": "python3"
  },
  "language_info": {
   "codemirror_mode": {
    "name": "ipython",
    "version": 3
   },
   "file_extension": ".py",
   "mimetype": "text/x-python",
   "name": "python",
   "nbconvert_exporter": "python",
   "pygments_lexer": "ipython3",
   "version": "3.9.13"
  }
 },
 "nbformat": 4,
 "nbformat_minor": 5
}

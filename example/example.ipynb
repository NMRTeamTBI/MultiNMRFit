{
 "cells": [
  {
   "cell_type": "markdown",
   "id": "1f783f7c-b79c-42dd-945f-e5942b4d43fe",
   "metadata": {},
   "source": [
    "# Usage of multinmrfit package"
   ]
  },
  {
   "cell_type": "markdown",
   "id": "8a875d9c-0886-46a1-a3e5-6dc2f6a9a7c1",
   "metadata": {},
   "source": [
    "## 1. General information\n",
    "\n",
    "This notebook showcases usage of the Spectrum object of multinmrfit.\n",
    "\n",
    "### Content\n",
    "\n",
    "- [Prepare environment](#2.-Prepare-environment)\n",
    "- [Load models of NMR signals](#3.-Load-models)\n",
    "- [Load NMR data](#4.-Load-NMR-data)\n",
    "- [Peak picking](#5.-Peak-picking)\n",
    "- [Spectrum simulation and fitting](#6.-Spectrum-simulation-and-fitting)\n",
    "  - [Model construction](#6.1.-Model-construction)\n",
    "  - [Simulation](#6.2.-Simulation)\n",
    "  - [Fitting](#6.3.-Fitting)"
   ]
  },
  {
   "cell_type": "markdown",
   "id": "48ef990f-51e5-4d82-957b-551db9a7184f",
   "metadata": {},
   "source": [
    "## 2. Prepare environment\n",
    "\n",
    "- Download and install Anaconda (>= 3.7) on your computer: https://www.anaconda.com/distribution/\n",
    "- Install `multinmrfit`:\n",
    "  - run `Anaconda prompt` from the start menu\n",
    "  - install multinmrfit with: `python -m pip install git+https://github.com/NMRTeamTBI/MultiNMRFit.git@branch_name` (where `branch_name` is the git branch you want to install)\n",
    "- Start Jupyter from the start menu\n",
    "- Open the jupyter notbook\n"
   ]
  },
  {
   "cell_type": "markdown",
   "id": "82e45651-4954-4715-af0c-6e7744f11c43",
   "metadata": {},
   "source": [
    "Import required packages."
   ]
  },
  {
   "cell_type": "code",
   "execution_count": 110,
   "id": "56964584-9076-4298-9831-a03720622e3f",
   "metadata": {},
   "outputs": [],
   "source": [
    "import logging\n",
    "import sys\n",
    "import pandas as pd"
   ]
  },
  {
   "cell_type": "markdown",
   "id": "6af36e5f-c9ac-44e8-af52-9de7364e487c",
   "metadata": {},
   "source": [
    "Initialize logger."
   ]
  },
  {
   "cell_type": "code",
   "execution_count": 111,
   "id": "17914892-bb8b-41a1-81bb-af4b280f78a7",
   "metadata": {},
   "outputs": [],
   "source": [
    "logging.basicConfig(format='%(asctime)s | %(levelname)s : %(message)s', level=logging.DEBUG, stream=sys.stdout)"
   ]
  },
  {
   "cell_type": "markdown",
   "id": "f1f32d21-9b59-4eb0-89a8-ece1dff4fa34",
   "metadata": {},
   "source": [
    "Load multinmrfit."
   ]
  },
  {
   "cell_type": "code",
   "execution_count": 112,
   "id": "e2af57f9-5b2c-41b0-8e2a-08e542dd3755",
   "metadata": {},
   "outputs": [],
   "source": [
    "import multinmrfit.base.spectrum as spectrum\n",
    "import multinmrfit.base.io as io"
   ]
  },
  {
   "cell_type": "markdown",
   "id": "617de8d6-11bb-419f-b3ea-b18fed825a78",
   "metadata": {},
   "source": [
    "## 3. Load models"
   ]
  },
  {
   "cell_type": "markdown",
   "id": "17854973-d047-49b2-af96-9209137a6748",
   "metadata": {},
   "source": [
    "Load models of signals implemented in multinmrfit."
   ]
  },
  {
   "cell_type": "code",
   "execution_count": 113,
   "id": "7edeb66d-b53d-43a5-98db-7b7ece01198b",
   "metadata": {},
   "outputs": [
    {
     "name": "stdout",
     "output_type": "stream",
     "text": [
      "2023-01-10 11:43:08,919 | DEBUG : add model from file 'model_doublet.py'\n",
      "2023-01-10 11:43:08,921 | DEBUG : model name: doublet\n",
      "2023-01-10 11:43:08,922 | DEBUG : add model from file 'model_singlet.py'\n",
      "2023-01-10 11:43:08,922 | DEBUG : model name: singlet\n",
      "2023-01-10 11:43:08,923 | DEBUG : add model from file 'model_triplet.py'\n",
      "2023-01-10 11:43:08,924 | DEBUG : model name: triplet\n"
     ]
    }
   ],
   "source": [
    "available_models = io.IoHandler.get_models()"
   ]
  },
  {
   "cell_type": "markdown",
   "id": "16cc3755-6dcf-4283-b4f0-ae1a9849573e",
   "metadata": {},
   "source": [
    "`io.IoHandler.get_models()` returns a dict with model_name-model_object as key-value pairs."
   ]
  },
  {
   "cell_type": "code",
   "execution_count": 114,
   "id": "2c4f0a8c-f0a8-4443-8b57-2781abc9a66f",
   "metadata": {},
   "outputs": [
    {
     "data": {
      "text/plain": [
       "dict_keys(['doublet', 'singlet', 'triplet'])"
      ]
     },
     "execution_count": 114,
     "metadata": {},
     "output_type": "execute_result"
    }
   ],
   "source": [
    "available_models.keys()"
   ]
  },
  {
   "cell_type": "code",
   "execution_count": 115,
   "id": "4d45ba42-ffaa-457b-8700-cf3bb214cfbd",
   "metadata": {},
   "outputs": [
    {
     "data": {
      "text/plain": [
       "multinmrfit.models.model_doublet.SignalModel"
      ]
     },
     "execution_count": 115,
     "metadata": {},
     "output_type": "execute_result"
    }
   ],
   "source": [
    "available_models[\"doublet\"]"
   ]
  },
  {
   "cell_type": "markdown",
   "id": "7ad3b339-8e9a-422b-8dbf-f9d0e9aceb40",
   "metadata": {},
   "source": [
    "## 4. Load NMR data"
   ]
  },
  {
   "cell_type": "markdown",
   "id": "0e226f40-31f7-43ff-90ac-472cce42df55",
   "metadata": {},
   "source": [
    "Data can be loaded from a TSV file containing columns 'ppm' and 'intensity'."
   ]
  },
  {
   "cell_type": "code",
   "execution_count": 116,
   "id": "5c7fd577-659d-422e-a94e-fa931394c6cf",
   "metadata": {},
   "outputs": [],
   "source": [
    "test_synthetic_dataset = pd.read_table(\"./data/data_sim_nmrfit.csv\", sep=\"\\t\")"
   ]
  },
  {
   "cell_type": "code",
   "execution_count": 117,
   "id": "20c51f23-ce0e-4e97-bfb3-65b24382f1c4",
   "metadata": {},
   "outputs": [
    {
     "data": {
      "text/plain": [
       "Index(['ppm', 'intensity'], dtype='object')"
      ]
     },
     "execution_count": 117,
     "metadata": {},
     "output_type": "execute_result"
    }
   ],
   "source": [
    "test_synthetic_dataset.columns"
   ]
  },
  {
   "cell_type": "markdown",
   "id": "a3803ec6-b54d-4d8d-b9a8-8bf6b4f78702",
   "metadata": {},
   "source": [
    "Data can also be loaded from TopSpin files by providing all required information in a dictionnary, assuming one-dimensional spectrum if rowno is None or two-dimensional spectrum if rowno is provided."
   ]
  },
  {
   "cell_type": "code",
   "execution_count": 118,
   "id": "047de85f-106f-45f6-b6d5-86daf0166e04",
   "metadata": {},
   "outputs": [],
   "source": [
    "test_topspin_dataset = {\"data_path\":\"C:/Bruker/TopSpin4.0.7/data\",\n",
    "                        \"dataset\":\"CFE_test\",\n",
    "                        \"expno\":\"991\",\n",
    "                        \"procno\":\"1\",\n",
    "                        \"rowno\":\"3\"}"
   ]
  },
  {
   "cell_type": "markdown",
   "id": "8c60b318-b861-41ac-a131-bae396e7901a",
   "metadata": {},
   "source": [
    "The window of interest can be provided as a tuple containing lower and upper boundaries."
   ]
  },
  {
   "cell_type": "code",
   "execution_count": 119,
   "id": "79368034-f40d-407d-8add-f4a8e5735285",
   "metadata": {},
   "outputs": [],
   "source": [
    "window = (-0.2, 0.2)"
   ]
  },
  {
   "cell_type": "markdown",
   "id": "7e9793ad-f820-4841-a677-bbcd48a1fa4e",
   "metadata": {},
   "source": [
    "We can then load the data in a `Spectrum` object."
   ]
  },
  {
   "cell_type": "code",
   "execution_count": 120,
   "id": "470cc00b-35d0-41db-a871-e319e941cfbc",
   "metadata": {},
   "outputs": [
    {
     "name": "stdout",
     "output_type": "stream",
     "text": [
      "2023-01-10 11:43:09,047 | DEBUG : create Spectrum object\n"
     ]
    }
   ],
   "source": [
    "sp = spectrum.Spectrum(data=test_synthetic_dataset, window=window)"
   ]
  },
  {
   "cell_type": "markdown",
   "id": "d4dd004b-f145-4bba-a9b6-57893ec7a018",
   "metadata": {},
   "source": [
    "We can then work directly with the spectrum object. For instance, to view the experimental spectrum, use the `plot()` method with exp=True."
   ]
  },
  {
   "cell_type": "code",
   "execution_count": 121,
   "id": "4d51675e-5447-4acc-9431-885e82383baf",
   "metadata": {},
   "outputs": [
    {
     "name": "stdout",
     "output_type": "stream",
     "text": [
      "2023-01-10 11:43:09,063 | DEBUG : create plot\n"
     ]
    }
   ],
   "source": [
    "fig = sp.plot(exp=True)"
   ]
  },
  {
   "cell_type": "markdown",
   "id": "67ea44a5-1d61-4d9f-9918-b7fa125c98b6",
   "metadata": {},
   "source": [
    "This method returns a `plotly.graph_objects.Figure` object that can be updated (e.g. to change the layout) and plotted."
   ]
  },
  {
   "cell_type": "code",
   "execution_count": 122,
   "id": "a1f0f818-7230-4490-bca5-43bb04a7c8fa",
   "metadata": {},
   "outputs": [
    {
     "data": {
      "text/plain": [
       "plotly.graph_objs._figure.Figure"
      ]
     },
     "execution_count": 122,
     "metadata": {},
     "output_type": "execute_result"
    }
   ],
   "source": [
    "type(fig)"
   ]
  },
  {
   "cell_type": "code",
   "execution_count": 123,
   "id": "8bdd5bc6-fdd0-4cd3-b2ff-2315762ea010",
   "metadata": {},
   "outputs": [
    {
     "data": {
      "application/vnd.plotly.v1+json": {
       "config": {
        "plotlyServerURL": "https://plot.ly"
       },
       "data": [
        {
         "marker": {
          "color": "#386CB0"
         },
         "mode": "lines",
         "name": "exp. spectrum",
         "type": "scatter",
         "x": [
          -0.1999999999999999,
          -0.1968253968253968,
          -0.1936507936507936,
          -0.1904761904761904,
          -0.1873015873015873,
          -0.1841269841269841,
          -0.1809523809523809,
          -0.1777777777777778,
          -0.1746031746031746,
          -0.1714285714285713,
          -0.1682539682539682,
          -0.165079365079365,
          -0.1619047619047618,
          -0.1587301587301587,
          -0.1555555555555555,
          -0.1523809523809524,
          -0.1492063492063492,
          -0.146031746031746,
          -0.1428571428571429,
          -0.1396825396825396,
          -0.1365079365079364,
          -0.1333333333333333,
          -0.1301587301587301,
          -0.1269841269841269,
          -0.1238095238095238,
          -0.1206349206349206,
          -0.1174603174603174,
          -0.1142857142857143,
          -0.1111111111111111,
          -0.1079365079365078,
          -0.1047619047619047,
          -0.1015873015873015,
          -0.0984126984126984,
          -0.0952380952380952,
          -0.092063492063492,
          -0.0888888888888889,
          -0.0857142857142857,
          -0.0825396825396825,
          -0.0793650793650794,
          -0.0761904761904761,
          -0.0730158730158729,
          -0.0698412698412698,
          -0.0666666666666666,
          -0.0634920634920634,
          -0.0603174603174603,
          -0.0571428571428571,
          -0.053968253968254,
          -0.0507936507936508,
          -0.0476190476190476,
          -0.0444444444444444,
          -0.0412698412698412,
          -0.038095238095238,
          -0.0349206349206349,
          -0.0317460317460317,
          -0.0285714285714285,
          -0.0253968253968254,
          -0.0222222222222222,
          -0.019047619047619,
          -0.0158730158730159,
          -0.0126984126984126,
          -0.0095238095238094,
          -0.0063492063492063,
          -0.0031746031746031,
          0,
          0.0031746031746031,
          0.0063492063492063,
          0.0095238095238094,
          0.0126984126984126,
          0.0158730158730158,
          0.0190476190476189,
          0.0222222222222221,
          0.0253968253968253,
          0.0285714285714284,
          0.0317460317460318,
          0.034920634920635,
          0.0380952380952381,
          0.0412698412698413,
          0.0444444444444445,
          0.0476190476190476,
          0.0507936507936508,
          0.053968253968254,
          0.0571428571428571,
          0.0603174603174603,
          0.0634920634920634,
          0.0666666666666666,
          0.0698412698412698,
          0.0730158730158729,
          0.0761904761904761,
          0.0793650793650793,
          0.0825396825396824,
          0.0857142857142856,
          0.0888888888888888,
          0.0920634920634919,
          0.0952380952380953,
          0.0984126984126985,
          0.1015873015873016,
          0.1047619047619048,
          0.107936507936508,
          0.1111111111111111,
          0.1142857142857143,
          0.1174603174603174,
          0.1206349206349206,
          0.1238095238095238,
          0.1269841269841269,
          0.1301587301587301,
          0.1333333333333333,
          0.1365079365079364,
          0.1396825396825396,
          0.1428571428571428,
          0.1460317460317459,
          0.1492063492063491,
          0.1523809523809522,
          0.1555555555555554,
          0.1587301587301588,
          0.161904761904762,
          0.1650793650793651,
          0.1682539682539683,
          0.1714285714285714,
          0.1746031746031746,
          0.1777777777777778,
          0.1809523809523809,
          0.1841269841269841,
          0.1873015873015873,
          0.1904761904761904,
          0.1936507936507936,
          0.1968253968253968,
          0.1999999999999999
         ],
         "xaxis": "x",
         "y": [
          3203.8213991064235,
          3304.9953804123325,
          3411.164836862961,
          3522.66404088274,
          3639.8556725481512,
          3763.133763647805,
          3892.927003571289,
          4029.702458698749,
          4173.969765405678,
          4326.285866798944,
          4487.260375182877,
          4657.561656414764,
          4837.9237492355705,
          5029.154252960412,
          5232.14334133612,
          5447.874089860236,
          5677.434339583963,
          5922.030363873389,
          6183.002657652052,
          6461.844233673511,
          6760.2218904118645,
          7080.001015106422,
          7423.274608374431,
          7792.3973701227005,
          8190.025878726982,
          8619.16613773078,
          9083.23007131418,
          9586.102940977684,
          10132.224157308034,
          10726.684607379988,
          11375.344457799236,
          12084.97649050273,
          12863.441472574465,
          13719.903976641106,
          14665.09962882495,
          15711.668212789427,
          16874.57175256134,
          18171.623140802843,
          19624.15981319587,
          21257.90948612848,
          23104.112706328684,
          25200.992377970106,
          27595.697324856184,
          30346.901209590505,
          33528.319082432376,
          37233.52641405797,
          41582.65405017458,
          46731.827531132905,
          52886.68883104754,
          60322.09975150958,
          69411.38272265853,
          80670.56607297751,
          94826.70482754818,
          112925.56782011809,
          136504.71598862327,
          167876.05440175824,
          210589.5700679826,
          270178.87550814607,
          355252.18629190105,
          478560.307797556,
          655560.5845798899,
          890960.0766567012,
          1135648.3899828095,
          1250091.1286377506,
          1135648.5389350115,
          890960.3745614183,
          655561.0314377496,
          478560.9036094988,
          355252.9310591847,
          270179.7692323337,
          210590.6127509561,
          167877.24604571276,
          136506.05659606747,
          112927.0573938728,
          94828.34337075106,
          80672.35358907796,
          69413.31921541966,
          60324.18522500821,
          52888.9232896744,
          46734.210979591975,
          41585.18649348388,
          37236.207857549336,
          33531.14953175147,
          30349.88067069681,
          27598.8258040231,
          25204.269881784952,
          23107.539241692743,
          21261.48506025704,
          19627.88443361832,
          18175.496815362523,
          16878.594489415795,
          15715.840020410382,
          14669.42051599834,
          13724.37395246709,
          12868.060546467656,
          12089.744672192051,
          11380.261757328044,
          10731.75103510613,
          10137.439723903935,
          9591.467657430334,
          9088.743948925265,
          8624.829188116715,
          8195.838113819003,
          7798.358802166903,
          7429.385249931858,
          7086.260879053124,
          6766.630989938982,
          6468.402582287343,
          6189.710269174148,
          5928.88725244059,
          5684.440519648522,
          5455.029576189883,
          5239.448149014146,
          5036.608397385743,
          4845.5272461229,
          4665.314521794594,
          4495.162625401626,
          4334.337518519044,
          4182.170835605667,
          4038.0529646733567,
          3901.4269629315513,
          3771.7831943211554,
          3648.654592778527,
          3531.6124692306844,
          3420.262792205728,
          3314.242881943995,
          3213.2184663379844
         ],
         "yaxis": "y"
        }
       ],
       "layout": {
        "autosize": false,
        "height": 400,
        "plot_bgcolor": "white",
        "template": {
         "data": {
          "bar": [
           {
            "error_x": {
             "color": "#2a3f5f"
            },
            "error_y": {
             "color": "#2a3f5f"
            },
            "marker": {
             "line": {
              "color": "#E5ECF6",
              "width": 0.5
             },
             "pattern": {
              "fillmode": "overlay",
              "size": 10,
              "solidity": 0.2
             }
            },
            "type": "bar"
           }
          ],
          "barpolar": [
           {
            "marker": {
             "line": {
              "color": "#E5ECF6",
              "width": 0.5
             },
             "pattern": {
              "fillmode": "overlay",
              "size": 10,
              "solidity": 0.2
             }
            },
            "type": "barpolar"
           }
          ],
          "carpet": [
           {
            "aaxis": {
             "endlinecolor": "#2a3f5f",
             "gridcolor": "white",
             "linecolor": "white",
             "minorgridcolor": "white",
             "startlinecolor": "#2a3f5f"
            },
            "baxis": {
             "endlinecolor": "#2a3f5f",
             "gridcolor": "white",
             "linecolor": "white",
             "minorgridcolor": "white",
             "startlinecolor": "#2a3f5f"
            },
            "type": "carpet"
           }
          ],
          "choropleth": [
           {
            "colorbar": {
             "outlinewidth": 0,
             "ticks": ""
            },
            "type": "choropleth"
           }
          ],
          "contour": [
           {
            "colorbar": {
             "outlinewidth": 0,
             "ticks": ""
            },
            "colorscale": [
             [
              0,
              "#0d0887"
             ],
             [
              0.1111111111111111,
              "#46039f"
             ],
             [
              0.2222222222222222,
              "#7201a8"
             ],
             [
              0.3333333333333333,
              "#9c179e"
             ],
             [
              0.4444444444444444,
              "#bd3786"
             ],
             [
              0.5555555555555556,
              "#d8576b"
             ],
             [
              0.6666666666666666,
              "#ed7953"
             ],
             [
              0.7777777777777778,
              "#fb9f3a"
             ],
             [
              0.8888888888888888,
              "#fdca26"
             ],
             [
              1,
              "#f0f921"
             ]
            ],
            "type": "contour"
           }
          ],
          "contourcarpet": [
           {
            "colorbar": {
             "outlinewidth": 0,
             "ticks": ""
            },
            "type": "contourcarpet"
           }
          ],
          "heatmap": [
           {
            "colorbar": {
             "outlinewidth": 0,
             "ticks": ""
            },
            "colorscale": [
             [
              0,
              "#0d0887"
             ],
             [
              0.1111111111111111,
              "#46039f"
             ],
             [
              0.2222222222222222,
              "#7201a8"
             ],
             [
              0.3333333333333333,
              "#9c179e"
             ],
             [
              0.4444444444444444,
              "#bd3786"
             ],
             [
              0.5555555555555556,
              "#d8576b"
             ],
             [
              0.6666666666666666,
              "#ed7953"
             ],
             [
              0.7777777777777778,
              "#fb9f3a"
             ],
             [
              0.8888888888888888,
              "#fdca26"
             ],
             [
              1,
              "#f0f921"
             ]
            ],
            "type": "heatmap"
           }
          ],
          "heatmapgl": [
           {
            "colorbar": {
             "outlinewidth": 0,
             "ticks": ""
            },
            "colorscale": [
             [
              0,
              "#0d0887"
             ],
             [
              0.1111111111111111,
              "#46039f"
             ],
             [
              0.2222222222222222,
              "#7201a8"
             ],
             [
              0.3333333333333333,
              "#9c179e"
             ],
             [
              0.4444444444444444,
              "#bd3786"
             ],
             [
              0.5555555555555556,
              "#d8576b"
             ],
             [
              0.6666666666666666,
              "#ed7953"
             ],
             [
              0.7777777777777778,
              "#fb9f3a"
             ],
             [
              0.8888888888888888,
              "#fdca26"
             ],
             [
              1,
              "#f0f921"
             ]
            ],
            "type": "heatmapgl"
           }
          ],
          "histogram": [
           {
            "marker": {
             "pattern": {
              "fillmode": "overlay",
              "size": 10,
              "solidity": 0.2
             }
            },
            "type": "histogram"
           }
          ],
          "histogram2d": [
           {
            "colorbar": {
             "outlinewidth": 0,
             "ticks": ""
            },
            "colorscale": [
             [
              0,
              "#0d0887"
             ],
             [
              0.1111111111111111,
              "#46039f"
             ],
             [
              0.2222222222222222,
              "#7201a8"
             ],
             [
              0.3333333333333333,
              "#9c179e"
             ],
             [
              0.4444444444444444,
              "#bd3786"
             ],
             [
              0.5555555555555556,
              "#d8576b"
             ],
             [
              0.6666666666666666,
              "#ed7953"
             ],
             [
              0.7777777777777778,
              "#fb9f3a"
             ],
             [
              0.8888888888888888,
              "#fdca26"
             ],
             [
              1,
              "#f0f921"
             ]
            ],
            "type": "histogram2d"
           }
          ],
          "histogram2dcontour": [
           {
            "colorbar": {
             "outlinewidth": 0,
             "ticks": ""
            },
            "colorscale": [
             [
              0,
              "#0d0887"
             ],
             [
              0.1111111111111111,
              "#46039f"
             ],
             [
              0.2222222222222222,
              "#7201a8"
             ],
             [
              0.3333333333333333,
              "#9c179e"
             ],
             [
              0.4444444444444444,
              "#bd3786"
             ],
             [
              0.5555555555555556,
              "#d8576b"
             ],
             [
              0.6666666666666666,
              "#ed7953"
             ],
             [
              0.7777777777777778,
              "#fb9f3a"
             ],
             [
              0.8888888888888888,
              "#fdca26"
             ],
             [
              1,
              "#f0f921"
             ]
            ],
            "type": "histogram2dcontour"
           }
          ],
          "mesh3d": [
           {
            "colorbar": {
             "outlinewidth": 0,
             "ticks": ""
            },
            "type": "mesh3d"
           }
          ],
          "parcoords": [
           {
            "line": {
             "colorbar": {
              "outlinewidth": 0,
              "ticks": ""
             }
            },
            "type": "parcoords"
           }
          ],
          "pie": [
           {
            "automargin": true,
            "type": "pie"
           }
          ],
          "scatter": [
           {
            "fillpattern": {
             "fillmode": "overlay",
             "size": 10,
             "solidity": 0.2
            },
            "type": "scatter"
           }
          ],
          "scatter3d": [
           {
            "line": {
             "colorbar": {
              "outlinewidth": 0,
              "ticks": ""
             }
            },
            "marker": {
             "colorbar": {
              "outlinewidth": 0,
              "ticks": ""
             }
            },
            "type": "scatter3d"
           }
          ],
          "scattercarpet": [
           {
            "marker": {
             "colorbar": {
              "outlinewidth": 0,
              "ticks": ""
             }
            },
            "type": "scattercarpet"
           }
          ],
          "scattergeo": [
           {
            "marker": {
             "colorbar": {
              "outlinewidth": 0,
              "ticks": ""
             }
            },
            "type": "scattergeo"
           }
          ],
          "scattergl": [
           {
            "marker": {
             "colorbar": {
              "outlinewidth": 0,
              "ticks": ""
             }
            },
            "type": "scattergl"
           }
          ],
          "scattermapbox": [
           {
            "marker": {
             "colorbar": {
              "outlinewidth": 0,
              "ticks": ""
             }
            },
            "type": "scattermapbox"
           }
          ],
          "scatterpolar": [
           {
            "marker": {
             "colorbar": {
              "outlinewidth": 0,
              "ticks": ""
             }
            },
            "type": "scatterpolar"
           }
          ],
          "scatterpolargl": [
           {
            "marker": {
             "colorbar": {
              "outlinewidth": 0,
              "ticks": ""
             }
            },
            "type": "scatterpolargl"
           }
          ],
          "scatterternary": [
           {
            "marker": {
             "colorbar": {
              "outlinewidth": 0,
              "ticks": ""
             }
            },
            "type": "scatterternary"
           }
          ],
          "surface": [
           {
            "colorbar": {
             "outlinewidth": 0,
             "ticks": ""
            },
            "colorscale": [
             [
              0,
              "#0d0887"
             ],
             [
              0.1111111111111111,
              "#46039f"
             ],
             [
              0.2222222222222222,
              "#7201a8"
             ],
             [
              0.3333333333333333,
              "#9c179e"
             ],
             [
              0.4444444444444444,
              "#bd3786"
             ],
             [
              0.5555555555555556,
              "#d8576b"
             ],
             [
              0.6666666666666666,
              "#ed7953"
             ],
             [
              0.7777777777777778,
              "#fb9f3a"
             ],
             [
              0.8888888888888888,
              "#fdca26"
             ],
             [
              1,
              "#f0f921"
             ]
            ],
            "type": "surface"
           }
          ],
          "table": [
           {
            "cells": {
             "fill": {
              "color": "#EBF0F8"
             },
             "line": {
              "color": "white"
             }
            },
            "header": {
             "fill": {
              "color": "#C8D4E3"
             },
             "line": {
              "color": "white"
             }
            },
            "type": "table"
           }
          ]
         },
         "layout": {
          "annotationdefaults": {
           "arrowcolor": "#2a3f5f",
           "arrowhead": 0,
           "arrowwidth": 1
          },
          "autotypenumbers": "strict",
          "coloraxis": {
           "colorbar": {
            "outlinewidth": 0,
            "ticks": ""
           }
          },
          "colorscale": {
           "diverging": [
            [
             0,
             "#8e0152"
            ],
            [
             0.1,
             "#c51b7d"
            ],
            [
             0.2,
             "#de77ae"
            ],
            [
             0.3,
             "#f1b6da"
            ],
            [
             0.4,
             "#fde0ef"
            ],
            [
             0.5,
             "#f7f7f7"
            ],
            [
             0.6,
             "#e6f5d0"
            ],
            [
             0.7,
             "#b8e186"
            ],
            [
             0.8,
             "#7fbc41"
            ],
            [
             0.9,
             "#4d9221"
            ],
            [
             1,
             "#276419"
            ]
           ],
           "sequential": [
            [
             0,
             "#0d0887"
            ],
            [
             0.1111111111111111,
             "#46039f"
            ],
            [
             0.2222222222222222,
             "#7201a8"
            ],
            [
             0.3333333333333333,
             "#9c179e"
            ],
            [
             0.4444444444444444,
             "#bd3786"
            ],
            [
             0.5555555555555556,
             "#d8576b"
            ],
            [
             0.6666666666666666,
             "#ed7953"
            ],
            [
             0.7777777777777778,
             "#fb9f3a"
            ],
            [
             0.8888888888888888,
             "#fdca26"
            ],
            [
             1,
             "#f0f921"
            ]
           ],
           "sequentialminus": [
            [
             0,
             "#0d0887"
            ],
            [
             0.1111111111111111,
             "#46039f"
            ],
            [
             0.2222222222222222,
             "#7201a8"
            ],
            [
             0.3333333333333333,
             "#9c179e"
            ],
            [
             0.4444444444444444,
             "#bd3786"
            ],
            [
             0.5555555555555556,
             "#d8576b"
            ],
            [
             0.6666666666666666,
             "#ed7953"
            ],
            [
             0.7777777777777778,
             "#fb9f3a"
            ],
            [
             0.8888888888888888,
             "#fdca26"
            ],
            [
             1,
             "#f0f921"
            ]
           ]
          },
          "colorway": [
           "#636efa",
           "#EF553B",
           "#00cc96",
           "#ab63fa",
           "#FFA15A",
           "#19d3f3",
           "#FF6692",
           "#B6E880",
           "#FF97FF",
           "#FECB52"
          ],
          "font": {
           "color": "#2a3f5f"
          },
          "geo": {
           "bgcolor": "white",
           "lakecolor": "white",
           "landcolor": "#E5ECF6",
           "showlakes": true,
           "showland": true,
           "subunitcolor": "white"
          },
          "hoverlabel": {
           "align": "left"
          },
          "hovermode": "closest",
          "mapbox": {
           "style": "light"
          },
          "paper_bgcolor": "white",
          "plot_bgcolor": "#E5ECF6",
          "polar": {
           "angularaxis": {
            "gridcolor": "white",
            "linecolor": "white",
            "ticks": ""
           },
           "bgcolor": "#E5ECF6",
           "radialaxis": {
            "gridcolor": "white",
            "linecolor": "white",
            "ticks": ""
           }
          },
          "scene": {
           "xaxis": {
            "backgroundcolor": "#E5ECF6",
            "gridcolor": "white",
            "gridwidth": 2,
            "linecolor": "white",
            "showbackground": true,
            "ticks": "",
            "zerolinecolor": "white"
           },
           "yaxis": {
            "backgroundcolor": "#E5ECF6",
            "gridcolor": "white",
            "gridwidth": 2,
            "linecolor": "white",
            "showbackground": true,
            "ticks": "",
            "zerolinecolor": "white"
           },
           "zaxis": {
            "backgroundcolor": "#E5ECF6",
            "gridcolor": "white",
            "gridwidth": 2,
            "linecolor": "white",
            "showbackground": true,
            "ticks": "",
            "zerolinecolor": "white"
           }
          },
          "shapedefaults": {
           "line": {
            "color": "#2a3f5f"
           }
          },
          "ternary": {
           "aaxis": {
            "gridcolor": "white",
            "linecolor": "white",
            "ticks": ""
           },
           "baxis": {
            "gridcolor": "white",
            "linecolor": "white",
            "ticks": ""
           },
           "bgcolor": "#E5ECF6",
           "caxis": {
            "gridcolor": "white",
            "linecolor": "white",
            "ticks": ""
           }
          },
          "title": {
           "x": 0.05
          },
          "xaxis": {
           "automargin": true,
           "gridcolor": "white",
           "linecolor": "white",
           "ticks": "",
           "title": {
            "standoff": 15
           },
           "zerolinecolor": "white",
           "zerolinewidth": 2
          },
          "yaxis": {
           "automargin": true,
           "gridcolor": "white",
           "linecolor": "white",
           "ticks": "",
           "title": {
            "standoff": 15
           },
           "zerolinecolor": "white",
           "zerolinewidth": 2
          }
         }
        },
        "width": 900,
        "xaxis": {
         "anchor": "y",
         "autorange": false,
         "domain": [
          0,
          1
         ],
         "linecolor": "black",
         "mirror": true,
         "range": [
          0.1999999999999999,
          -0.1999999999999999
         ],
         "showline": true,
         "ticks": "outside",
         "title": {
          "text": "chemical shift (ppm)"
         },
         "type": "linear"
        },
        "yaxis": {
         "anchor": "x",
         "autorange": true,
         "domain": [
          0,
          1
         ],
         "exponentformat": "power",
         "linecolor": "black",
         "mirror": true,
         "range": [
          -66067.69566970714,
          1319362.6457065642
         ],
         "showexponent": "last",
         "showline": true,
         "title": {
          "text": "intensity"
         },
         "type": "linear"
        }
       }
      },
      "image/png": "[encoded data removed]",
      "text/html": [
       "<div>                            <div id=\"c7942065-2a80-4acf-b1a6-8364d57a7210\" class=\"plotly-graph-div\" style=\"height:400px; width:900px;\"></div>            <script type=\"text/javascript\">                require([\"plotly\"], function(Plotly) {                    window.PLOTLYENV=window.PLOTLYENV || {};                                    if (document.getElementById(\"c7942065-2a80-4acf-b1a6-8364d57a7210\")) {                    Plotly.newPlot(                        \"c7942065-2a80-4acf-b1a6-8364d57a7210\",                        [{\"marker\":{\"color\":\"#386CB0\"},\"mode\":\"lines\",\"name\":\"exp. spectrum\",\"x\":[-0.1999999999999999,-0.1968253968253968,-0.1936507936507936,-0.1904761904761904,-0.1873015873015873,-0.1841269841269841,-0.1809523809523809,-0.1777777777777778,-0.1746031746031746,-0.1714285714285713,-0.1682539682539682,-0.165079365079365,-0.1619047619047618,-0.1587301587301587,-0.1555555555555555,-0.1523809523809524,-0.1492063492063492,-0.146031746031746,-0.1428571428571429,-0.1396825396825396,-0.1365079365079364,-0.1333333333333333,-0.1301587301587301,-0.1269841269841269,-0.1238095238095238,-0.1206349206349206,-0.1174603174603174,-0.1142857142857143,-0.1111111111111111,-0.1079365079365078,-0.1047619047619047,-0.1015873015873015,-0.0984126984126984,-0.0952380952380952,-0.092063492063492,-0.0888888888888889,-0.0857142857142857,-0.0825396825396825,-0.0793650793650794,-0.0761904761904761,-0.0730158730158729,-0.0698412698412698,-0.0666666666666666,-0.0634920634920634,-0.0603174603174603,-0.0571428571428571,-0.053968253968254,-0.0507936507936508,-0.0476190476190476,-0.0444444444444444,-0.0412698412698412,-0.038095238095238,-0.0349206349206349,-0.0317460317460317,-0.0285714285714285,-0.0253968253968254,-0.0222222222222222,-0.019047619047619,-0.0158730158730159,-0.0126984126984126,-0.0095238095238094,-0.0063492063492063,-0.0031746031746031,0.0,0.0031746031746031,0.0063492063492063,0.0095238095238094,0.0126984126984126,0.0158730158730158,0.0190476190476189,0.0222222222222221,0.0253968253968253,0.0285714285714284,0.0317460317460318,0.034920634920635,0.0380952380952381,0.0412698412698413,0.0444444444444445,0.0476190476190476,0.0507936507936508,0.053968253968254,0.0571428571428571,0.0603174603174603,0.0634920634920634,0.0666666666666666,0.0698412698412698,0.0730158730158729,0.0761904761904761,0.0793650793650793,0.0825396825396824,0.0857142857142856,0.0888888888888888,0.0920634920634919,0.0952380952380953,0.0984126984126985,0.1015873015873016,0.1047619047619048,0.107936507936508,0.1111111111111111,0.1142857142857143,0.1174603174603174,0.1206349206349206,0.1238095238095238,0.1269841269841269,0.1301587301587301,0.1333333333333333,0.1365079365079364,0.1396825396825396,0.1428571428571428,0.1460317460317459,0.1492063492063491,0.1523809523809522,0.1555555555555554,0.1587301587301588,0.161904761904762,0.1650793650793651,0.1682539682539683,0.1714285714285714,0.1746031746031746,0.1777777777777778,0.1809523809523809,0.1841269841269841,0.1873015873015873,0.1904761904761904,0.1936507936507936,0.1968253968253968,0.1999999999999999],\"y\":[3203.8213991064235,3304.9953804123325,3411.164836862961,3522.66404088274,3639.8556725481512,3763.133763647805,3892.927003571289,4029.702458698749,4173.969765405678,4326.285866798944,4487.260375182877,4657.561656414764,4837.9237492355705,5029.154252960412,5232.14334133612,5447.874089860236,5677.434339583963,5922.030363873389,6183.002657652052,6461.844233673511,6760.2218904118645,7080.001015106422,7423.274608374431,7792.3973701227005,8190.025878726982,8619.16613773078,9083.23007131418,9586.102940977684,10132.224157308034,10726.684607379988,11375.344457799236,12084.97649050273,12863.441472574465,13719.903976641106,14665.09962882495,15711.668212789427,16874.57175256134,18171.623140802843,19624.15981319587,21257.90948612848,23104.112706328684,25200.992377970106,27595.697324856184,30346.901209590505,33528.319082432376,37233.52641405797,41582.65405017458,46731.827531132905,52886.68883104754,60322.09975150958,69411.38272265853,80670.56607297751,94826.70482754818,112925.56782011809,136504.71598862327,167876.05440175824,210589.5700679826,270178.87550814607,355252.18629190105,478560.307797556,655560.5845798899,890960.0766567012,1135648.3899828095,1250091.1286377506,1135648.5389350115,890960.3745614183,655561.0314377496,478560.9036094988,355252.9310591847,270179.7692323337,210590.6127509561,167877.24604571276,136506.05659606747,112927.0573938728,94828.34337075106,80672.35358907796,69413.31921541966,60324.18522500821,52888.9232896744,46734.210979591975,41585.18649348388,37236.207857549336,33531.14953175147,30349.88067069681,27598.8258040231,25204.269881784952,23107.539241692743,21261.48506025704,19627.88443361832,18175.496815362523,16878.594489415795,15715.840020410382,14669.42051599834,13724.37395246709,12868.060546467656,12089.744672192051,11380.261757328044,10731.75103510613,10137.439723903935,9591.467657430334,9088.743948925265,8624.829188116715,8195.838113819003,7798.358802166903,7429.385249931858,7086.260879053124,6766.630989938982,6468.402582287343,6189.710269174148,5928.88725244059,5684.440519648522,5455.029576189883,5239.448149014146,5036.608397385743,4845.5272461229,4665.314521794594,4495.162625401626,4334.337518519044,4182.170835605667,4038.0529646733567,3901.4269629315513,3771.7831943211554,3648.654592778527,3531.6124692306844,3420.262792205728,3314.242881943995,3213.2184663379844],\"type\":\"scatter\",\"xaxis\":\"x\",\"yaxis\":\"y\"}],                        {\"template\":{\"data\":{\"histogram2dcontour\":[{\"type\":\"histogram2dcontour\",\"colorbar\":{\"outlinewidth\":0,\"ticks\":\"\"},\"colorscale\":[[0.0,\"#0d0887\"],[0.1111111111111111,\"#46039f\"],[0.2222222222222222,\"#7201a8\"],[0.3333333333333333,\"#9c179e\"],[0.4444444444444444,\"#bd3786\"],[0.5555555555555556,\"#d8576b\"],[0.6666666666666666,\"#ed7953\"],[0.7777777777777778,\"#fb9f3a\"],[0.8888888888888888,\"#fdca26\"],[1.0,\"#f0f921\"]]}],\"choropleth\":[{\"type\":\"choropleth\",\"colorbar\":{\"outlinewidth\":0,\"ticks\":\"\"}}],\"histogram2d\":[{\"type\":\"histogram2d\",\"colorbar\":{\"outlinewidth\":0,\"ticks\":\"\"},\"colorscale\":[[0.0,\"#0d0887\"],[0.1111111111111111,\"#46039f\"],[0.2222222222222222,\"#7201a8\"],[0.3333333333333333,\"#9c179e\"],[0.4444444444444444,\"#bd3786\"],[0.5555555555555556,\"#d8576b\"],[0.6666666666666666,\"#ed7953\"],[0.7777777777777778,\"#fb9f3a\"],[0.8888888888888888,\"#fdca26\"],[1.0,\"#f0f921\"]]}],\"heatmap\":[{\"type\":\"heatmap\",\"colorbar\":{\"outlinewidth\":0,\"ticks\":\"\"},\"colorscale\":[[0.0,\"#0d0887\"],[0.1111111111111111,\"#46039f\"],[0.2222222222222222,\"#7201a8\"],[0.3333333333333333,\"#9c179e\"],[0.4444444444444444,\"#bd3786\"],[0.5555555555555556,\"#d8576b\"],[0.6666666666666666,\"#ed7953\"],[0.7777777777777778,\"#fb9f3a\"],[0.8888888888888888,\"#fdca26\"],[1.0,\"#f0f921\"]]}],\"heatmapgl\":[{\"type\":\"heatmapgl\",\"colorbar\":{\"outlinewidth\":0,\"ticks\":\"\"},\"colorscale\":[[0.0,\"#0d0887\"],[0.1111111111111111,\"#46039f\"],[0.2222222222222222,\"#7201a8\"],[0.3333333333333333,\"#9c179e\"],[0.4444444444444444,\"#bd3786\"],[0.5555555555555556,\"#d8576b\"],[0.6666666666666666,\"#ed7953\"],[0.7777777777777778,\"#fb9f3a\"],[0.8888888888888888,\"#fdca26\"],[1.0,\"#f0f921\"]]}],\"contourcarpet\":[{\"type\":\"contourcarpet\",\"colorbar\":{\"outlinewidth\":0,\"ticks\":\"\"}}],\"contour\":[{\"type\":\"contour\",\"colorbar\":{\"outlinewidth\":0,\"ticks\":\"\"},\"colorscale\":[[0.0,\"#0d0887\"],[0.1111111111111111,\"#46039f\"],[0.2222222222222222,\"#7201a8\"],[0.3333333333333333,\"#9c179e\"],[0.4444444444444444,\"#bd3786\"],[0.5555555555555556,\"#d8576b\"],[0.6666666666666666,\"#ed7953\"],[0.7777777777777778,\"#fb9f3a\"],[0.8888888888888888,\"#fdca26\"],[1.0,\"#f0f921\"]]}],\"surface\":[{\"type\":\"surface\",\"colorbar\":{\"outlinewidth\":0,\"ticks\":\"\"},\"colorscale\":[[0.0,\"#0d0887\"],[0.1111111111111111,\"#46039f\"],[0.2222222222222222,\"#7201a8\"],[0.3333333333333333,\"#9c179e\"],[0.4444444444444444,\"#bd3786\"],[0.5555555555555556,\"#d8576b\"],[0.6666666666666666,\"#ed7953\"],[0.7777777777777778,\"#fb9f3a\"],[0.8888888888888888,\"#fdca26\"],[1.0,\"#f0f921\"]]}],\"mesh3d\":[{\"type\":\"mesh3d\",\"colorbar\":{\"outlinewidth\":0,\"ticks\":\"\"}}],\"scatter\":[{\"fillpattern\":{\"fillmode\":\"overlay\",\"size\":10,\"solidity\":0.2},\"type\":\"scatter\"}],\"parcoords\":[{\"type\":\"parcoords\",\"line\":{\"colorbar\":{\"outlinewidth\":0,\"ticks\":\"\"}}}],\"scatterpolargl\":[{\"type\":\"scatterpolargl\",\"marker\":{\"colorbar\":{\"outlinewidth\":0,\"ticks\":\"\"}}}],\"bar\":[{\"error_x\":{\"color\":\"#2a3f5f\"},\"error_y\":{\"color\":\"#2a3f5f\"},\"marker\":{\"line\":{\"color\":\"#E5ECF6\",\"width\":0.5},\"pattern\":{\"fillmode\":\"overlay\",\"size\":10,\"solidity\":0.2}},\"type\":\"bar\"}],\"scattergeo\":[{\"type\":\"scattergeo\",\"marker\":{\"colorbar\":{\"outlinewidth\":0,\"ticks\":\"\"}}}],\"scatterpolar\":[{\"type\":\"scatterpolar\",\"marker\":{\"colorbar\":{\"outlinewidth\":0,\"ticks\":\"\"}}}],\"histogram\":[{\"marker\":{\"pattern\":{\"fillmode\":\"overlay\",\"size\":10,\"solidity\":0.2}},\"type\":\"histogram\"}],\"scattergl\":[{\"type\":\"scattergl\",\"marker\":{\"colorbar\":{\"outlinewidth\":0,\"ticks\":\"\"}}}],\"scatter3d\":[{\"type\":\"scatter3d\",\"line\":{\"colorbar\":{\"outlinewidth\":0,\"ticks\":\"\"}},\"marker\":{\"colorbar\":{\"outlinewidth\":0,\"ticks\":\"\"}}}],\"scattermapbox\":[{\"type\":\"scattermapbox\",\"marker\":{\"colorbar\":{\"outlinewidth\":0,\"ticks\":\"\"}}}],\"scatterternary\":[{\"type\":\"scatterternary\",\"marker\":{\"colorbar\":{\"outlinewidth\":0,\"ticks\":\"\"}}}],\"scattercarpet\":[{\"type\":\"scattercarpet\",\"marker\":{\"colorbar\":{\"outlinewidth\":0,\"ticks\":\"\"}}}],\"carpet\":[{\"aaxis\":{\"endlinecolor\":\"#2a3f5f\",\"gridcolor\":\"white\",\"linecolor\":\"white\",\"minorgridcolor\":\"white\",\"startlinecolor\":\"#2a3f5f\"},\"baxis\":{\"endlinecolor\":\"#2a3f5f\",\"gridcolor\":\"white\",\"linecolor\":\"white\",\"minorgridcolor\":\"white\",\"startlinecolor\":\"#2a3f5f\"},\"type\":\"carpet\"}],\"table\":[{\"cells\":{\"fill\":{\"color\":\"#EBF0F8\"},\"line\":{\"color\":\"white\"}},\"header\":{\"fill\":{\"color\":\"#C8D4E3\"},\"line\":{\"color\":\"white\"}},\"type\":\"table\"}],\"barpolar\":[{\"marker\":{\"line\":{\"color\":\"#E5ECF6\",\"width\":0.5},\"pattern\":{\"fillmode\":\"overlay\",\"size\":10,\"solidity\":0.2}},\"type\":\"barpolar\"}],\"pie\":[{\"automargin\":true,\"type\":\"pie\"}]},\"layout\":{\"autotypenumbers\":\"strict\",\"colorway\":[\"#636efa\",\"#EF553B\",\"#00cc96\",\"#ab63fa\",\"#FFA15A\",\"#19d3f3\",\"#FF6692\",\"#B6E880\",\"#FF97FF\",\"#FECB52\"],\"font\":{\"color\":\"#2a3f5f\"},\"hovermode\":\"closest\",\"hoverlabel\":{\"align\":\"left\"},\"paper_bgcolor\":\"white\",\"plot_bgcolor\":\"#E5ECF6\",\"polar\":{\"bgcolor\":\"#E5ECF6\",\"angularaxis\":{\"gridcolor\":\"white\",\"linecolor\":\"white\",\"ticks\":\"\"},\"radialaxis\":{\"gridcolor\":\"white\",\"linecolor\":\"white\",\"ticks\":\"\"}},\"ternary\":{\"bgcolor\":\"#E5ECF6\",\"aaxis\":{\"gridcolor\":\"white\",\"linecolor\":\"white\",\"ticks\":\"\"},\"baxis\":{\"gridcolor\":\"white\",\"linecolor\":\"white\",\"ticks\":\"\"},\"caxis\":{\"gridcolor\":\"white\",\"linecolor\":\"white\",\"ticks\":\"\"}},\"coloraxis\":{\"colorbar\":{\"outlinewidth\":0,\"ticks\":\"\"}},\"colorscale\":{\"sequential\":[[0.0,\"#0d0887\"],[0.1111111111111111,\"#46039f\"],[0.2222222222222222,\"#7201a8\"],[0.3333333333333333,\"#9c179e\"],[0.4444444444444444,\"#bd3786\"],[0.5555555555555556,\"#d8576b\"],[0.6666666666666666,\"#ed7953\"],[0.7777777777777778,\"#fb9f3a\"],[0.8888888888888888,\"#fdca26\"],[1.0,\"#f0f921\"]],\"sequentialminus\":[[0.0,\"#0d0887\"],[0.1111111111111111,\"#46039f\"],[0.2222222222222222,\"#7201a8\"],[0.3333333333333333,\"#9c179e\"],[0.4444444444444444,\"#bd3786\"],[0.5555555555555556,\"#d8576b\"],[0.6666666666666666,\"#ed7953\"],[0.7777777777777778,\"#fb9f3a\"],[0.8888888888888888,\"#fdca26\"],[1.0,\"#f0f921\"]],\"diverging\":[[0,\"#8e0152\"],[0.1,\"#c51b7d\"],[0.2,\"#de77ae\"],[0.3,\"#f1b6da\"],[0.4,\"#fde0ef\"],[0.5,\"#f7f7f7\"],[0.6,\"#e6f5d0\"],[0.7,\"#b8e186\"],[0.8,\"#7fbc41\"],[0.9,\"#4d9221\"],[1,\"#276419\"]]},\"xaxis\":{\"gridcolor\":\"white\",\"linecolor\":\"white\",\"ticks\":\"\",\"title\":{\"standoff\":15},\"zerolinecolor\":\"white\",\"automargin\":true,\"zerolinewidth\":2},\"yaxis\":{\"gridcolor\":\"white\",\"linecolor\":\"white\",\"ticks\":\"\",\"title\":{\"standoff\":15},\"zerolinecolor\":\"white\",\"automargin\":true,\"zerolinewidth\":2},\"scene\":{\"xaxis\":{\"backgroundcolor\":\"#E5ECF6\",\"gridcolor\":\"white\",\"linecolor\":\"white\",\"showbackground\":true,\"ticks\":\"\",\"zerolinecolor\":\"white\",\"gridwidth\":2},\"yaxis\":{\"backgroundcolor\":\"#E5ECF6\",\"gridcolor\":\"white\",\"linecolor\":\"white\",\"showbackground\":true,\"ticks\":\"\",\"zerolinecolor\":\"white\",\"gridwidth\":2},\"zaxis\":{\"backgroundcolor\":\"#E5ECF6\",\"gridcolor\":\"white\",\"linecolor\":\"white\",\"showbackground\":true,\"ticks\":\"\",\"zerolinecolor\":\"white\",\"gridwidth\":2}},\"shapedefaults\":{\"line\":{\"color\":\"#2a3f5f\"}},\"annotationdefaults\":{\"arrowcolor\":\"#2a3f5f\",\"arrowhead\":0,\"arrowwidth\":1},\"geo\":{\"bgcolor\":\"white\",\"landcolor\":\"#E5ECF6\",\"subunitcolor\":\"white\",\"showland\":true,\"showlakes\":true,\"lakecolor\":\"white\"},\"title\":{\"x\":0.05},\"mapbox\":{\"style\":\"light\"}}},\"xaxis\":{\"anchor\":\"y\",\"domain\":[0.0,1.0],\"linecolor\":\"black\",\"mirror\":true,\"showline\":true,\"title\":{\"text\":\"chemical shift (ppm)\"},\"autorange\":false,\"ticks\":\"outside\",\"range\":[0.1999999999999999,-0.1999999999999999]},\"yaxis\":{\"anchor\":\"x\",\"domain\":[0.0,1.0],\"linecolor\":\"black\",\"mirror\":true,\"showline\":true,\"title\":{\"text\":\"intensity\"},\"exponentformat\":\"power\",\"showexponent\":\"last\"},\"plot_bgcolor\":\"white\",\"autosize\":false,\"width\":900,\"height\":400},                        {\"responsive\": true}                    ).then(function(){\n",
       "                            \n",
       "var gd = document.getElementById('c7942065-2a80-4acf-b1a6-8364d57a7210');\n",
       "var x = new MutationObserver(function (mutations, observer) {{\n",
       "        var display = window.getComputedStyle(gd).display;\n",
       "        if (!display || display === 'none') {{\n",
       "            console.log([gd, 'removed!']);\n",
       "            Plotly.purge(gd);\n",
       "            observer.disconnect();\n",
       "        }}\n",
       "}});\n",
       "\n",
       "// Listen for the removal of the full notebook cells\n",
       "var notebookContainer = gd.closest('#notebook-container');\n",
       "if (notebookContainer) {{\n",
       "    x.observe(notebookContainer, {childList: true});\n",
       "}}\n",
       "\n",
       "// Listen for the clearing of the current output cell\n",
       "var outputEl = gd.closest('.output');\n",
       "if (outputEl) {{\n",
       "    x.observe(outputEl, {childList: true});\n",
       "}}\n",
       "\n",
       "                        })                };                });            </script>        </div>"
      ]
     },
     "metadata": {},
     "output_type": "display_data"
    }
   ],
   "source": [
    "fig.update_layout(autosize=False, width=900, height=400)\n",
    "fig.show()"
   ]
  },
  {
   "cell_type": "markdown",
   "id": "b56e11aa-32a5-46aa-aaa6-de04deaaae17",
   "metadata": {},
   "source": [
    "## 5. Peak picking"
   ]
  },
  {
   "cell_type": "markdown",
   "id": "7c8659e6-ad50-47cb-a0ae-f64ad58bdb0b",
   "metadata": {},
   "source": [
    "Use the `peak_picking()` method with the `threshold` provided as argument."
   ]
  },
  {
   "cell_type": "code",
   "execution_count": 124,
   "id": "87e448d5-6445-47d4-bed9-8697067bbffd",
   "metadata": {},
   "outputs": [
    {
     "name": "stdout",
     "output_type": "stream",
     "text": [
      "2023-01-10 11:43:09,141 | DEBUG : peak peaking\n",
      "2023-01-10 11:43:09,153 | DEBUG : peak table\n",
      "      intensity  ppm  X_AXIS  cID  X_LW           VOL\n",
      "0  1.250091e+06  0.0    63.0    1   2.0  3.521388e+06\n"
     ]
    }
   ],
   "source": [
    "peak_table = sp.peak_picking(1e6)"
   ]
  },
  {
   "cell_type": "markdown",
   "id": "61bb57c6-0c0c-46a9-95cc-623f4eadc6de",
   "metadata": {},
   "source": [
    "To visualize the spectrum and the identified peaks, use the `plot()` method with the `peak_table` provided as argument `pp`."
   ]
  },
  {
   "cell_type": "code",
   "execution_count": 125,
   "id": "e231fbf2-85a6-4bf2-a582-bd7cf27ad7ed",
   "metadata": {},
   "outputs": [
    {
     "name": "stdout",
     "output_type": "stream",
     "text": [
      "2023-01-10 11:43:09,162 | DEBUG : create plot\n"
     ]
    }
   ],
   "source": [
    "fig = sp.plot(pp=peak_table)"
   ]
  },
  {
   "cell_type": "code",
   "execution_count": 126,
   "id": "1f211d65-4143-45c6-bf05-6d11c9e36277",
   "metadata": {},
   "outputs": [
    {
     "data": {
      "application/vnd.plotly.v1+json": {
       "config": {
        "plotlyServerURL": "https://plot.ly"
       },
       "data": [
        {
         "marker": {
          "color": "#386CB0"
         },
         "mode": "lines",
         "name": "exp. spectrum",
         "type": "scatter",
         "x": [
          -0.1999999999999999,
          -0.1968253968253968,
          -0.1936507936507936,
          -0.1904761904761904,
          -0.1873015873015873,
          -0.1841269841269841,
          -0.1809523809523809,
          -0.1777777777777778,
          -0.1746031746031746,
          -0.1714285714285713,
          -0.1682539682539682,
          -0.165079365079365,
          -0.1619047619047618,
          -0.1587301587301587,
          -0.1555555555555555,
          -0.1523809523809524,
          -0.1492063492063492,
          -0.146031746031746,
          -0.1428571428571429,
          -0.1396825396825396,
          -0.1365079365079364,
          -0.1333333333333333,
          -0.1301587301587301,
          -0.1269841269841269,
          -0.1238095238095238,
          -0.1206349206349206,
          -0.1174603174603174,
          -0.1142857142857143,
          -0.1111111111111111,
          -0.1079365079365078,
          -0.1047619047619047,
          -0.1015873015873015,
          -0.0984126984126984,
          -0.0952380952380952,
          -0.092063492063492,
          -0.0888888888888889,
          -0.0857142857142857,
          -0.0825396825396825,
          -0.0793650793650794,
          -0.0761904761904761,
          -0.0730158730158729,
          -0.0698412698412698,
          -0.0666666666666666,
          -0.0634920634920634,
          -0.0603174603174603,
          -0.0571428571428571,
          -0.053968253968254,
          -0.0507936507936508,
          -0.0476190476190476,
          -0.0444444444444444,
          -0.0412698412698412,
          -0.038095238095238,
          -0.0349206349206349,
          -0.0317460317460317,
          -0.0285714285714285,
          -0.0253968253968254,
          -0.0222222222222222,
          -0.019047619047619,
          -0.0158730158730159,
          -0.0126984126984126,
          -0.0095238095238094,
          -0.0063492063492063,
          -0.0031746031746031,
          0,
          0.0031746031746031,
          0.0063492063492063,
          0.0095238095238094,
          0.0126984126984126,
          0.0158730158730158,
          0.0190476190476189,
          0.0222222222222221,
          0.0253968253968253,
          0.0285714285714284,
          0.0317460317460318,
          0.034920634920635,
          0.0380952380952381,
          0.0412698412698413,
          0.0444444444444445,
          0.0476190476190476,
          0.0507936507936508,
          0.053968253968254,
          0.0571428571428571,
          0.0603174603174603,
          0.0634920634920634,
          0.0666666666666666,
          0.0698412698412698,
          0.0730158730158729,
          0.0761904761904761,
          0.0793650793650793,
          0.0825396825396824,
          0.0857142857142856,
          0.0888888888888888,
          0.0920634920634919,
          0.0952380952380953,
          0.0984126984126985,
          0.1015873015873016,
          0.1047619047619048,
          0.107936507936508,
          0.1111111111111111,
          0.1142857142857143,
          0.1174603174603174,
          0.1206349206349206,
          0.1238095238095238,
          0.1269841269841269,
          0.1301587301587301,
          0.1333333333333333,
          0.1365079365079364,
          0.1396825396825396,
          0.1428571428571428,
          0.1460317460317459,
          0.1492063492063491,
          0.1523809523809522,
          0.1555555555555554,
          0.1587301587301588,
          0.161904761904762,
          0.1650793650793651,
          0.1682539682539683,
          0.1714285714285714,
          0.1746031746031746,
          0.1777777777777778,
          0.1809523809523809,
          0.1841269841269841,
          0.1873015873015873,
          0.1904761904761904,
          0.1936507936507936,
          0.1968253968253968,
          0.1999999999999999
         ],
         "xaxis": "x",
         "y": [
          3203.8213991064235,
          3304.9953804123325,
          3411.164836862961,
          3522.66404088274,
          3639.8556725481512,
          3763.133763647805,
          3892.927003571289,
          4029.702458698749,
          4173.969765405678,
          4326.285866798944,
          4487.260375182877,
          4657.561656414764,
          4837.9237492355705,
          5029.154252960412,
          5232.14334133612,
          5447.874089860236,
          5677.434339583963,
          5922.030363873389,
          6183.002657652052,
          6461.844233673511,
          6760.2218904118645,
          7080.001015106422,
          7423.274608374431,
          7792.3973701227005,
          8190.025878726982,
          8619.16613773078,
          9083.23007131418,
          9586.102940977684,
          10132.224157308034,
          10726.684607379988,
          11375.344457799236,
          12084.97649050273,
          12863.441472574465,
          13719.903976641106,
          14665.09962882495,
          15711.668212789427,
          16874.57175256134,
          18171.623140802843,
          19624.15981319587,
          21257.90948612848,
          23104.112706328684,
          25200.992377970106,
          27595.697324856184,
          30346.901209590505,
          33528.319082432376,
          37233.52641405797,
          41582.65405017458,
          46731.827531132905,
          52886.68883104754,
          60322.09975150958,
          69411.38272265853,
          80670.56607297751,
          94826.70482754818,
          112925.56782011809,
          136504.71598862327,
          167876.05440175824,
          210589.5700679826,
          270178.87550814607,
          355252.18629190105,
          478560.307797556,
          655560.5845798899,
          890960.0766567012,
          1135648.3899828095,
          1250091.1286377506,
          1135648.5389350115,
          890960.3745614183,
          655561.0314377496,
          478560.9036094988,
          355252.9310591847,
          270179.7692323337,
          210590.6127509561,
          167877.24604571276,
          136506.05659606747,
          112927.0573938728,
          94828.34337075106,
          80672.35358907796,
          69413.31921541966,
          60324.18522500821,
          52888.9232896744,
          46734.210979591975,
          41585.18649348388,
          37236.207857549336,
          33531.14953175147,
          30349.88067069681,
          27598.8258040231,
          25204.269881784952,
          23107.539241692743,
          21261.48506025704,
          19627.88443361832,
          18175.496815362523,
          16878.594489415795,
          15715.840020410382,
          14669.42051599834,
          13724.37395246709,
          12868.060546467656,
          12089.744672192051,
          11380.261757328044,
          10731.75103510613,
          10137.439723903935,
          9591.467657430334,
          9088.743948925265,
          8624.829188116715,
          8195.838113819003,
          7798.358802166903,
          7429.385249931858,
          7086.260879053124,
          6766.630989938982,
          6468.402582287343,
          6189.710269174148,
          5928.88725244059,
          5684.440519648522,
          5455.029576189883,
          5239.448149014146,
          5036.608397385743,
          4845.5272461229,
          4665.314521794594,
          4495.162625401626,
          4334.337518519044,
          4182.170835605667,
          4038.0529646733567,
          3901.4269629315513,
          3771.7831943211554,
          3648.654592778527,
          3531.6124692306844,
          3420.262792205728,
          3314.242881943995,
          3213.2184663379844
         ],
         "yaxis": "y"
        },
        {
         "marker": {
          "color": "#FDC086",
          "line": {
           "width": 1.2
          },
          "size": 9,
          "symbol": "arrow-down"
         },
         "mode": "markers",
         "name": "peaks detected",
         "type": "scatter",
         "x": [
          0
         ],
         "xaxis": "x",
         "y": [
          1312595.685069638
         ],
         "yaxis": "y"
        }
       ],
       "layout": {
        "autosize": false,
        "height": 400,
        "plot_bgcolor": "white",
        "template": {
         "data": {
          "bar": [
           {
            "error_x": {
             "color": "#2a3f5f"
            },
            "error_y": {
             "color": "#2a3f5f"
            },
            "marker": {
             "line": {
              "color": "#E5ECF6",
              "width": 0.5
             },
             "pattern": {
              "fillmode": "overlay",
              "size": 10,
              "solidity": 0.2
             }
            },
            "type": "bar"
           }
          ],
          "barpolar": [
           {
            "marker": {
             "line": {
              "color": "#E5ECF6",
              "width": 0.5
             },
             "pattern": {
              "fillmode": "overlay",
              "size": 10,
              "solidity": 0.2
             }
            },
            "type": "barpolar"
           }
          ],
          "carpet": [
           {
            "aaxis": {
             "endlinecolor": "#2a3f5f",
             "gridcolor": "white",
             "linecolor": "white",
             "minorgridcolor": "white",
             "startlinecolor": "#2a3f5f"
            },
            "baxis": {
             "endlinecolor": "#2a3f5f",
             "gridcolor": "white",
             "linecolor": "white",
             "minorgridcolor": "white",
             "startlinecolor": "#2a3f5f"
            },
            "type": "carpet"
           }
          ],
          "choropleth": [
           {
            "colorbar": {
             "outlinewidth": 0,
             "ticks": ""
            },
            "type": "choropleth"
           }
          ],
          "contour": [
           {
            "colorbar": {
             "outlinewidth": 0,
             "ticks": ""
            },
            "colorscale": [
             [
              0,
              "#0d0887"
             ],
             [
              0.1111111111111111,
              "#46039f"
             ],
             [
              0.2222222222222222,
              "#7201a8"
             ],
             [
              0.3333333333333333,
              "#9c179e"
             ],
             [
              0.4444444444444444,
              "#bd3786"
             ],
             [
              0.5555555555555556,
              "#d8576b"
             ],
             [
              0.6666666666666666,
              "#ed7953"
             ],
             [
              0.7777777777777778,
              "#fb9f3a"
             ],
             [
              0.8888888888888888,
              "#fdca26"
             ],
             [
              1,
              "#f0f921"
             ]
            ],
            "type": "contour"
           }
          ],
          "contourcarpet": [
           {
            "colorbar": {
             "outlinewidth": 0,
             "ticks": ""
            },
            "type": "contourcarpet"
           }
          ],
          "heatmap": [
           {
            "colorbar": {
             "outlinewidth": 0,
             "ticks": ""
            },
            "colorscale": [
             [
              0,
              "#0d0887"
             ],
             [
              0.1111111111111111,
              "#46039f"
             ],
             [
              0.2222222222222222,
              "#7201a8"
             ],
             [
              0.3333333333333333,
              "#9c179e"
             ],
             [
              0.4444444444444444,
              "#bd3786"
             ],
             [
              0.5555555555555556,
              "#d8576b"
             ],
             [
              0.6666666666666666,
              "#ed7953"
             ],
             [
              0.7777777777777778,
              "#fb9f3a"
             ],
             [
              0.8888888888888888,
              "#fdca26"
             ],
             [
              1,
              "#f0f921"
             ]
            ],
            "type": "heatmap"
           }
          ],
          "heatmapgl": [
           {
            "colorbar": {
             "outlinewidth": 0,
             "ticks": ""
            },
            "colorscale": [
             [
              0,
              "#0d0887"
             ],
             [
              0.1111111111111111,
              "#46039f"
             ],
             [
              0.2222222222222222,
              "#7201a8"
             ],
             [
              0.3333333333333333,
              "#9c179e"
             ],
             [
              0.4444444444444444,
              "#bd3786"
             ],
             [
              0.5555555555555556,
              "#d8576b"
             ],
             [
              0.6666666666666666,
              "#ed7953"
             ],
             [
              0.7777777777777778,
              "#fb9f3a"
             ],
             [
              0.8888888888888888,
              "#fdca26"
             ],
             [
              1,
              "#f0f921"
             ]
            ],
            "type": "heatmapgl"
           }
          ],
          "histogram": [
           {
            "marker": {
             "pattern": {
              "fillmode": "overlay",
              "size": 10,
              "solidity": 0.2
             }
            },
            "type": "histogram"
           }
          ],
          "histogram2d": [
           {
            "colorbar": {
             "outlinewidth": 0,
             "ticks": ""
            },
            "colorscale": [
             [
              0,
              "#0d0887"
             ],
             [
              0.1111111111111111,
              "#46039f"
             ],
             [
              0.2222222222222222,
              "#7201a8"
             ],
             [
              0.3333333333333333,
              "#9c179e"
             ],
             [
              0.4444444444444444,
              "#bd3786"
             ],
             [
              0.5555555555555556,
              "#d8576b"
             ],
             [
              0.6666666666666666,
              "#ed7953"
             ],
             [
              0.7777777777777778,
              "#fb9f3a"
             ],
             [
              0.8888888888888888,
              "#fdca26"
             ],
             [
              1,
              "#f0f921"
             ]
            ],
            "type": "histogram2d"
           }
          ],
          "histogram2dcontour": [
           {
            "colorbar": {
             "outlinewidth": 0,
             "ticks": ""
            },
            "colorscale": [
             [
              0,
              "#0d0887"
             ],
             [
              0.1111111111111111,
              "#46039f"
             ],
             [
              0.2222222222222222,
              "#7201a8"
             ],
             [
              0.3333333333333333,
              "#9c179e"
             ],
             [
              0.4444444444444444,
              "#bd3786"
             ],
             [
              0.5555555555555556,
              "#d8576b"
             ],
             [
              0.6666666666666666,
              "#ed7953"
             ],
             [
              0.7777777777777778,
              "#fb9f3a"
             ],
             [
              0.8888888888888888,
              "#fdca26"
             ],
             [
              1,
              "#f0f921"
             ]
            ],
            "type": "histogram2dcontour"
           }
          ],
          "mesh3d": [
           {
            "colorbar": {
             "outlinewidth": 0,
             "ticks": ""
            },
            "type": "mesh3d"
           }
          ],
          "parcoords": [
           {
            "line": {
             "colorbar": {
              "outlinewidth": 0,
              "ticks": ""
             }
            },
            "type": "parcoords"
           }
          ],
          "pie": [
           {
            "automargin": true,
            "type": "pie"
           }
          ],
          "scatter": [
           {
            "fillpattern": {
             "fillmode": "overlay",
             "size": 10,
             "solidity": 0.2
            },
            "type": "scatter"
           }
          ],
          "scatter3d": [
           {
            "line": {
             "colorbar": {
              "outlinewidth": 0,
              "ticks": ""
             }
            },
            "marker": {
             "colorbar": {
              "outlinewidth": 0,
              "ticks": ""
             }
            },
            "type": "scatter3d"
           }
          ],
          "scattercarpet": [
           {
            "marker": {
             "colorbar": {
              "outlinewidth": 0,
              "ticks": ""
             }
            },
            "type": "scattercarpet"
           }
          ],
          "scattergeo": [
           {
            "marker": {
             "colorbar": {
              "outlinewidth": 0,
              "ticks": ""
             }
            },
            "type": "scattergeo"
           }
          ],
          "scattergl": [
           {
            "marker": {
             "colorbar": {
              "outlinewidth": 0,
              "ticks": ""
             }
            },
            "type": "scattergl"
           }
          ],
          "scattermapbox": [
           {
            "marker": {
             "colorbar": {
              "outlinewidth": 0,
              "ticks": ""
             }
            },
            "type": "scattermapbox"
           }
          ],
          "scatterpolar": [
           {
            "marker": {
             "colorbar": {
              "outlinewidth": 0,
              "ticks": ""
             }
            },
            "type": "scatterpolar"
           }
          ],
          "scatterpolargl": [
           {
            "marker": {
             "colorbar": {
              "outlinewidth": 0,
              "ticks": ""
             }
            },
            "type": "scatterpolargl"
           }
          ],
          "scatterternary": [
           {
            "marker": {
             "colorbar": {
              "outlinewidth": 0,
              "ticks": ""
             }
            },
            "type": "scatterternary"
           }
          ],
          "surface": [
           {
            "colorbar": {
             "outlinewidth": 0,
             "ticks": ""
            },
            "colorscale": [
             [
              0,
              "#0d0887"
             ],
             [
              0.1111111111111111,
              "#46039f"
             ],
             [
              0.2222222222222222,
              "#7201a8"
             ],
             [
              0.3333333333333333,
              "#9c179e"
             ],
             [
              0.4444444444444444,
              "#bd3786"
             ],
             [
              0.5555555555555556,
              "#d8576b"
             ],
             [
              0.6666666666666666,
              "#ed7953"
             ],
             [
              0.7777777777777778,
              "#fb9f3a"
             ],
             [
              0.8888888888888888,
              "#fdca26"
             ],
             [
              1,
              "#f0f921"
             ]
            ],
            "type": "surface"
           }
          ],
          "table": [
           {
            "cells": {
             "fill": {
              "color": "#EBF0F8"
             },
             "line": {
              "color": "white"
             }
            },
            "header": {
             "fill": {
              "color": "#C8D4E3"
             },
             "line": {
              "color": "white"
             }
            },
            "type": "table"
           }
          ]
         },
         "layout": {
          "annotationdefaults": {
           "arrowcolor": "#2a3f5f",
           "arrowhead": 0,
           "arrowwidth": 1
          },
          "autotypenumbers": "strict",
          "coloraxis": {
           "colorbar": {
            "outlinewidth": 0,
            "ticks": ""
           }
          },
          "colorscale": {
           "diverging": [
            [
             0,
             "#8e0152"
            ],
            [
             0.1,
             "#c51b7d"
            ],
            [
             0.2,
             "#de77ae"
            ],
            [
             0.3,
             "#f1b6da"
            ],
            [
             0.4,
             "#fde0ef"
            ],
            [
             0.5,
             "#f7f7f7"
            ],
            [
             0.6,
             "#e6f5d0"
            ],
            [
             0.7,
             "#b8e186"
            ],
            [
             0.8,
             "#7fbc41"
            ],
            [
             0.9,
             "#4d9221"
            ],
            [
             1,
             "#276419"
            ]
           ],
           "sequential": [
            [
             0,
             "#0d0887"
            ],
            [
             0.1111111111111111,
             "#46039f"
            ],
            [
             0.2222222222222222,
             "#7201a8"
            ],
            [
             0.3333333333333333,
             "#9c179e"
            ],
            [
             0.4444444444444444,
             "#bd3786"
            ],
            [
             0.5555555555555556,
             "#d8576b"
            ],
            [
             0.6666666666666666,
             "#ed7953"
            ],
            [
             0.7777777777777778,
             "#fb9f3a"
            ],
            [
             0.8888888888888888,
             "#fdca26"
            ],
            [
             1,
             "#f0f921"
            ]
           ],
           "sequentialminus": [
            [
             0,
             "#0d0887"
            ],
            [
             0.1111111111111111,
             "#46039f"
            ],
            [
             0.2222222222222222,
             "#7201a8"
            ],
            [
             0.3333333333333333,
             "#9c179e"
            ],
            [
             0.4444444444444444,
             "#bd3786"
            ],
            [
             0.5555555555555556,
             "#d8576b"
            ],
            [
             0.6666666666666666,
             "#ed7953"
            ],
            [
             0.7777777777777778,
             "#fb9f3a"
            ],
            [
             0.8888888888888888,
             "#fdca26"
            ],
            [
             1,
             "#f0f921"
            ]
           ]
          },
          "colorway": [
           "#636efa",
           "#EF553B",
           "#00cc96",
           "#ab63fa",
           "#FFA15A",
           "#19d3f3",
           "#FF6692",
           "#B6E880",
           "#FF97FF",
           "#FECB52"
          ],
          "font": {
           "color": "#2a3f5f"
          },
          "geo": {
           "bgcolor": "white",
           "lakecolor": "white",
           "landcolor": "#E5ECF6",
           "showlakes": true,
           "showland": true,
           "subunitcolor": "white"
          },
          "hoverlabel": {
           "align": "left"
          },
          "hovermode": "closest",
          "mapbox": {
           "style": "light"
          },
          "paper_bgcolor": "white",
          "plot_bgcolor": "#E5ECF6",
          "polar": {
           "angularaxis": {
            "gridcolor": "white",
            "linecolor": "white",
            "ticks": ""
           },
           "bgcolor": "#E5ECF6",
           "radialaxis": {
            "gridcolor": "white",
            "linecolor": "white",
            "ticks": ""
           }
          },
          "scene": {
           "xaxis": {
            "backgroundcolor": "#E5ECF6",
            "gridcolor": "white",
            "gridwidth": 2,
            "linecolor": "white",
            "showbackground": true,
            "ticks": "",
            "zerolinecolor": "white"
           },
           "yaxis": {
            "backgroundcolor": "#E5ECF6",
            "gridcolor": "white",
            "gridwidth": 2,
            "linecolor": "white",
            "showbackground": true,
            "ticks": "",
            "zerolinecolor": "white"
           },
           "zaxis": {
            "backgroundcolor": "#E5ECF6",
            "gridcolor": "white",
            "gridwidth": 2,
            "linecolor": "white",
            "showbackground": true,
            "ticks": "",
            "zerolinecolor": "white"
           }
          },
          "shapedefaults": {
           "line": {
            "color": "#2a3f5f"
           }
          },
          "ternary": {
           "aaxis": {
            "gridcolor": "white",
            "linecolor": "white",
            "ticks": ""
           },
           "baxis": {
            "gridcolor": "white",
            "linecolor": "white",
            "ticks": ""
           },
           "bgcolor": "#E5ECF6",
           "caxis": {
            "gridcolor": "white",
            "linecolor": "white",
            "ticks": ""
           }
          },
          "title": {
           "x": 0.05
          },
          "xaxis": {
           "automargin": true,
           "gridcolor": "white",
           "linecolor": "white",
           "ticks": "",
           "title": {
            "standoff": 15
           },
           "zerolinecolor": "white",
           "zerolinewidth": 2
          },
          "yaxis": {
           "automargin": true,
           "gridcolor": "white",
           "linecolor": "white",
           "ticks": "",
           "title": {
            "standoff": 15
           },
           "zerolinecolor": "white",
           "zerolinewidth": 2
          }
         }
        },
        "width": 900,
        "xaxis": {
         "anchor": "y",
         "autorange": false,
         "domain": [
          0,
          1
         ],
         "linecolor": "black",
         "mirror": true,
         "range": [
          0.1999999999999999,
          -0.1999999999999999
         ],
         "showline": true,
         "ticks": "outside",
         "title": {
          "text": "chemical shift (ppm)"
         },
         "type": "linear"
        },
        "yaxis": {
         "anchor": "x",
         "autorange": true,
         "domain": [
          0,
          1
         ],
         "exponentformat": "power",
         "linecolor": "black",
         "mirror": true,
         "range": [
          -71667.188349436,
          1425753.0066214125
         ],
         "showexponent": "last",
         "showline": true,
         "title": {
          "text": "intensity"
         },
         "type": "linear"
        }
       }
      },
      "image/png": "[encoded data removed]",
      "text/html": [
       "<div>                            <div id=\"f3c097ae-d960-4727-82e6-f9b7be83c907\" class=\"plotly-graph-div\" style=\"height:400px; width:900px;\"></div>            <script type=\"text/javascript\">                require([\"plotly\"], function(Plotly) {                    window.PLOTLYENV=window.PLOTLYENV || {};                                    if (document.getElementById(\"f3c097ae-d960-4727-82e6-f9b7be83c907\")) {                    Plotly.newPlot(                        \"f3c097ae-d960-4727-82e6-f9b7be83c907\",                        [{\"marker\":{\"color\":\"#386CB0\"},\"mode\":\"lines\",\"name\":\"exp. spectrum\",\"x\":[-0.1999999999999999,-0.1968253968253968,-0.1936507936507936,-0.1904761904761904,-0.1873015873015873,-0.1841269841269841,-0.1809523809523809,-0.1777777777777778,-0.1746031746031746,-0.1714285714285713,-0.1682539682539682,-0.165079365079365,-0.1619047619047618,-0.1587301587301587,-0.1555555555555555,-0.1523809523809524,-0.1492063492063492,-0.146031746031746,-0.1428571428571429,-0.1396825396825396,-0.1365079365079364,-0.1333333333333333,-0.1301587301587301,-0.1269841269841269,-0.1238095238095238,-0.1206349206349206,-0.1174603174603174,-0.1142857142857143,-0.1111111111111111,-0.1079365079365078,-0.1047619047619047,-0.1015873015873015,-0.0984126984126984,-0.0952380952380952,-0.092063492063492,-0.0888888888888889,-0.0857142857142857,-0.0825396825396825,-0.0793650793650794,-0.0761904761904761,-0.0730158730158729,-0.0698412698412698,-0.0666666666666666,-0.0634920634920634,-0.0603174603174603,-0.0571428571428571,-0.053968253968254,-0.0507936507936508,-0.0476190476190476,-0.0444444444444444,-0.0412698412698412,-0.038095238095238,-0.0349206349206349,-0.0317460317460317,-0.0285714285714285,-0.0253968253968254,-0.0222222222222222,-0.019047619047619,-0.0158730158730159,-0.0126984126984126,-0.0095238095238094,-0.0063492063492063,-0.0031746031746031,0.0,0.0031746031746031,0.0063492063492063,0.0095238095238094,0.0126984126984126,0.0158730158730158,0.0190476190476189,0.0222222222222221,0.0253968253968253,0.0285714285714284,0.0317460317460318,0.034920634920635,0.0380952380952381,0.0412698412698413,0.0444444444444445,0.0476190476190476,0.0507936507936508,0.053968253968254,0.0571428571428571,0.0603174603174603,0.0634920634920634,0.0666666666666666,0.0698412698412698,0.0730158730158729,0.0761904761904761,0.0793650793650793,0.0825396825396824,0.0857142857142856,0.0888888888888888,0.0920634920634919,0.0952380952380953,0.0984126984126985,0.1015873015873016,0.1047619047619048,0.107936507936508,0.1111111111111111,0.1142857142857143,0.1174603174603174,0.1206349206349206,0.1238095238095238,0.1269841269841269,0.1301587301587301,0.1333333333333333,0.1365079365079364,0.1396825396825396,0.1428571428571428,0.1460317460317459,0.1492063492063491,0.1523809523809522,0.1555555555555554,0.1587301587301588,0.161904761904762,0.1650793650793651,0.1682539682539683,0.1714285714285714,0.1746031746031746,0.1777777777777778,0.1809523809523809,0.1841269841269841,0.1873015873015873,0.1904761904761904,0.1936507936507936,0.1968253968253968,0.1999999999999999],\"y\":[3203.8213991064235,3304.9953804123325,3411.164836862961,3522.66404088274,3639.8556725481512,3763.133763647805,3892.927003571289,4029.702458698749,4173.969765405678,4326.285866798944,4487.260375182877,4657.561656414764,4837.9237492355705,5029.154252960412,5232.14334133612,5447.874089860236,5677.434339583963,5922.030363873389,6183.002657652052,6461.844233673511,6760.2218904118645,7080.001015106422,7423.274608374431,7792.3973701227005,8190.025878726982,8619.16613773078,9083.23007131418,9586.102940977684,10132.224157308034,10726.684607379988,11375.344457799236,12084.97649050273,12863.441472574465,13719.903976641106,14665.09962882495,15711.668212789427,16874.57175256134,18171.623140802843,19624.15981319587,21257.90948612848,23104.112706328684,25200.992377970106,27595.697324856184,30346.901209590505,33528.319082432376,37233.52641405797,41582.65405017458,46731.827531132905,52886.68883104754,60322.09975150958,69411.38272265853,80670.56607297751,94826.70482754818,112925.56782011809,136504.71598862327,167876.05440175824,210589.5700679826,270178.87550814607,355252.18629190105,478560.307797556,655560.5845798899,890960.0766567012,1135648.3899828095,1250091.1286377506,1135648.5389350115,890960.3745614183,655561.0314377496,478560.9036094988,355252.9310591847,270179.7692323337,210590.6127509561,167877.24604571276,136506.05659606747,112927.0573938728,94828.34337075106,80672.35358907796,69413.31921541966,60324.18522500821,52888.9232896744,46734.210979591975,41585.18649348388,37236.207857549336,33531.14953175147,30349.88067069681,27598.8258040231,25204.269881784952,23107.539241692743,21261.48506025704,19627.88443361832,18175.496815362523,16878.594489415795,15715.840020410382,14669.42051599834,13724.37395246709,12868.060546467656,12089.744672192051,11380.261757328044,10731.75103510613,10137.439723903935,9591.467657430334,9088.743948925265,8624.829188116715,8195.838113819003,7798.358802166903,7429.385249931858,7086.260879053124,6766.630989938982,6468.402582287343,6189.710269174148,5928.88725244059,5684.440519648522,5455.029576189883,5239.448149014146,5036.608397385743,4845.5272461229,4665.314521794594,4495.162625401626,4334.337518519044,4182.170835605667,4038.0529646733567,3901.4269629315513,3771.7831943211554,3648.654592778527,3531.6124692306844,3420.262792205728,3314.242881943995,3213.2184663379844],\"type\":\"scatter\",\"xaxis\":\"x\",\"yaxis\":\"y\"},{\"marker\":{\"color\":\"#FDC086\",\"line\":{\"width\":1.2},\"size\":9,\"symbol\":\"arrow-down\"},\"mode\":\"markers\",\"name\":\"peaks detected\",\"x\":[0.0],\"y\":[1312595.685069638],\"type\":\"scatter\",\"xaxis\":\"x\",\"yaxis\":\"y\"}],                        {\"template\":{\"data\":{\"histogram2dcontour\":[{\"type\":\"histogram2dcontour\",\"colorbar\":{\"outlinewidth\":0,\"ticks\":\"\"},\"colorscale\":[[0.0,\"#0d0887\"],[0.1111111111111111,\"#46039f\"],[0.2222222222222222,\"#7201a8\"],[0.3333333333333333,\"#9c179e\"],[0.4444444444444444,\"#bd3786\"],[0.5555555555555556,\"#d8576b\"],[0.6666666666666666,\"#ed7953\"],[0.7777777777777778,\"#fb9f3a\"],[0.8888888888888888,\"#fdca26\"],[1.0,\"#f0f921\"]]}],\"choropleth\":[{\"type\":\"choropleth\",\"colorbar\":{\"outlinewidth\":0,\"ticks\":\"\"}}],\"histogram2d\":[{\"type\":\"histogram2d\",\"colorbar\":{\"outlinewidth\":0,\"ticks\":\"\"},\"colorscale\":[[0.0,\"#0d0887\"],[0.1111111111111111,\"#46039f\"],[0.2222222222222222,\"#7201a8\"],[0.3333333333333333,\"#9c179e\"],[0.4444444444444444,\"#bd3786\"],[0.5555555555555556,\"#d8576b\"],[0.6666666666666666,\"#ed7953\"],[0.7777777777777778,\"#fb9f3a\"],[0.8888888888888888,\"#fdca26\"],[1.0,\"#f0f921\"]]}],\"heatmap\":[{\"type\":\"heatmap\",\"colorbar\":{\"outlinewidth\":0,\"ticks\":\"\"},\"colorscale\":[[0.0,\"#0d0887\"],[0.1111111111111111,\"#46039f\"],[0.2222222222222222,\"#7201a8\"],[0.3333333333333333,\"#9c179e\"],[0.4444444444444444,\"#bd3786\"],[0.5555555555555556,\"#d8576b\"],[0.6666666666666666,\"#ed7953\"],[0.7777777777777778,\"#fb9f3a\"],[0.8888888888888888,\"#fdca26\"],[1.0,\"#f0f921\"]]}],\"heatmapgl\":[{\"type\":\"heatmapgl\",\"colorbar\":{\"outlinewidth\":0,\"ticks\":\"\"},\"colorscale\":[[0.0,\"#0d0887\"],[0.1111111111111111,\"#46039f\"],[0.2222222222222222,\"#7201a8\"],[0.3333333333333333,\"#9c179e\"],[0.4444444444444444,\"#bd3786\"],[0.5555555555555556,\"#d8576b\"],[0.6666666666666666,\"#ed7953\"],[0.7777777777777778,\"#fb9f3a\"],[0.8888888888888888,\"#fdca26\"],[1.0,\"#f0f921\"]]}],\"contourcarpet\":[{\"type\":\"contourcarpet\",\"colorbar\":{\"outlinewidth\":0,\"ticks\":\"\"}}],\"contour\":[{\"type\":\"contour\",\"colorbar\":{\"outlinewidth\":0,\"ticks\":\"\"},\"colorscale\":[[0.0,\"#0d0887\"],[0.1111111111111111,\"#46039f\"],[0.2222222222222222,\"#7201a8\"],[0.3333333333333333,\"#9c179e\"],[0.4444444444444444,\"#bd3786\"],[0.5555555555555556,\"#d8576b\"],[0.6666666666666666,\"#ed7953\"],[0.7777777777777778,\"#fb9f3a\"],[0.8888888888888888,\"#fdca26\"],[1.0,\"#f0f921\"]]}],\"surface\":[{\"type\":\"surface\",\"colorbar\":{\"outlinewidth\":0,\"ticks\":\"\"},\"colorscale\":[[0.0,\"#0d0887\"],[0.1111111111111111,\"#46039f\"],[0.2222222222222222,\"#7201a8\"],[0.3333333333333333,\"#9c179e\"],[0.4444444444444444,\"#bd3786\"],[0.5555555555555556,\"#d8576b\"],[0.6666666666666666,\"#ed7953\"],[0.7777777777777778,\"#fb9f3a\"],[0.8888888888888888,\"#fdca26\"],[1.0,\"#f0f921\"]]}],\"mesh3d\":[{\"type\":\"mesh3d\",\"colorbar\":{\"outlinewidth\":0,\"ticks\":\"\"}}],\"scatter\":[{\"fillpattern\":{\"fillmode\":\"overlay\",\"size\":10,\"solidity\":0.2},\"type\":\"scatter\"}],\"parcoords\":[{\"type\":\"parcoords\",\"line\":{\"colorbar\":{\"outlinewidth\":0,\"ticks\":\"\"}}}],\"scatterpolargl\":[{\"type\":\"scatterpolargl\",\"marker\":{\"colorbar\":{\"outlinewidth\":0,\"ticks\":\"\"}}}],\"bar\":[{\"error_x\":{\"color\":\"#2a3f5f\"},\"error_y\":{\"color\":\"#2a3f5f\"},\"marker\":{\"line\":{\"color\":\"#E5ECF6\",\"width\":0.5},\"pattern\":{\"fillmode\":\"overlay\",\"size\":10,\"solidity\":0.2}},\"type\":\"bar\"}],\"scattergeo\":[{\"type\":\"scattergeo\",\"marker\":{\"colorbar\":{\"outlinewidth\":0,\"ticks\":\"\"}}}],\"scatterpolar\":[{\"type\":\"scatterpolar\",\"marker\":{\"colorbar\":{\"outlinewidth\":0,\"ticks\":\"\"}}}],\"histogram\":[{\"marker\":{\"pattern\":{\"fillmode\":\"overlay\",\"size\":10,\"solidity\":0.2}},\"type\":\"histogram\"}],\"scattergl\":[{\"type\":\"scattergl\",\"marker\":{\"colorbar\":{\"outlinewidth\":0,\"ticks\":\"\"}}}],\"scatter3d\":[{\"type\":\"scatter3d\",\"line\":{\"colorbar\":{\"outlinewidth\":0,\"ticks\":\"\"}},\"marker\":{\"colorbar\":{\"outlinewidth\":0,\"ticks\":\"\"}}}],\"scattermapbox\":[{\"type\":\"scattermapbox\",\"marker\":{\"colorbar\":{\"outlinewidth\":0,\"ticks\":\"\"}}}],\"scatterternary\":[{\"type\":\"scatterternary\",\"marker\":{\"colorbar\":{\"outlinewidth\":0,\"ticks\":\"\"}}}],\"scattercarpet\":[{\"type\":\"scattercarpet\",\"marker\":{\"colorbar\":{\"outlinewidth\":0,\"ticks\":\"\"}}}],\"carpet\":[{\"aaxis\":{\"endlinecolor\":\"#2a3f5f\",\"gridcolor\":\"white\",\"linecolor\":\"white\",\"minorgridcolor\":\"white\",\"startlinecolor\":\"#2a3f5f\"},\"baxis\":{\"endlinecolor\":\"#2a3f5f\",\"gridcolor\":\"white\",\"linecolor\":\"white\",\"minorgridcolor\":\"white\",\"startlinecolor\":\"#2a3f5f\"},\"type\":\"carpet\"}],\"table\":[{\"cells\":{\"fill\":{\"color\":\"#EBF0F8\"},\"line\":{\"color\":\"white\"}},\"header\":{\"fill\":{\"color\":\"#C8D4E3\"},\"line\":{\"color\":\"white\"}},\"type\":\"table\"}],\"barpolar\":[{\"marker\":{\"line\":{\"color\":\"#E5ECF6\",\"width\":0.5},\"pattern\":{\"fillmode\":\"overlay\",\"size\":10,\"solidity\":0.2}},\"type\":\"barpolar\"}],\"pie\":[{\"automargin\":true,\"type\":\"pie\"}]},\"layout\":{\"autotypenumbers\":\"strict\",\"colorway\":[\"#636efa\",\"#EF553B\",\"#00cc96\",\"#ab63fa\",\"#FFA15A\",\"#19d3f3\",\"#FF6692\",\"#B6E880\",\"#FF97FF\",\"#FECB52\"],\"font\":{\"color\":\"#2a3f5f\"},\"hovermode\":\"closest\",\"hoverlabel\":{\"align\":\"left\"},\"paper_bgcolor\":\"white\",\"plot_bgcolor\":\"#E5ECF6\",\"polar\":{\"bgcolor\":\"#E5ECF6\",\"angularaxis\":{\"gridcolor\":\"white\",\"linecolor\":\"white\",\"ticks\":\"\"},\"radialaxis\":{\"gridcolor\":\"white\",\"linecolor\":\"white\",\"ticks\":\"\"}},\"ternary\":{\"bgcolor\":\"#E5ECF6\",\"aaxis\":{\"gridcolor\":\"white\",\"linecolor\":\"white\",\"ticks\":\"\"},\"baxis\":{\"gridcolor\":\"white\",\"linecolor\":\"white\",\"ticks\":\"\"},\"caxis\":{\"gridcolor\":\"white\",\"linecolor\":\"white\",\"ticks\":\"\"}},\"coloraxis\":{\"colorbar\":{\"outlinewidth\":0,\"ticks\":\"\"}},\"colorscale\":{\"sequential\":[[0.0,\"#0d0887\"],[0.1111111111111111,\"#46039f\"],[0.2222222222222222,\"#7201a8\"],[0.3333333333333333,\"#9c179e\"],[0.4444444444444444,\"#bd3786\"],[0.5555555555555556,\"#d8576b\"],[0.6666666666666666,\"#ed7953\"],[0.7777777777777778,\"#fb9f3a\"],[0.8888888888888888,\"#fdca26\"],[1.0,\"#f0f921\"]],\"sequentialminus\":[[0.0,\"#0d0887\"],[0.1111111111111111,\"#46039f\"],[0.2222222222222222,\"#7201a8\"],[0.3333333333333333,\"#9c179e\"],[0.4444444444444444,\"#bd3786\"],[0.5555555555555556,\"#d8576b\"],[0.6666666666666666,\"#ed7953\"],[0.7777777777777778,\"#fb9f3a\"],[0.8888888888888888,\"#fdca26\"],[1.0,\"#f0f921\"]],\"diverging\":[[0,\"#8e0152\"],[0.1,\"#c51b7d\"],[0.2,\"#de77ae\"],[0.3,\"#f1b6da\"],[0.4,\"#fde0ef\"],[0.5,\"#f7f7f7\"],[0.6,\"#e6f5d0\"],[0.7,\"#b8e186\"],[0.8,\"#7fbc41\"],[0.9,\"#4d9221\"],[1,\"#276419\"]]},\"xaxis\":{\"gridcolor\":\"white\",\"linecolor\":\"white\",\"ticks\":\"\",\"title\":{\"standoff\":15},\"zerolinecolor\":\"white\",\"automargin\":true,\"zerolinewidth\":2},\"yaxis\":{\"gridcolor\":\"white\",\"linecolor\":\"white\",\"ticks\":\"\",\"title\":{\"standoff\":15},\"zerolinecolor\":\"white\",\"automargin\":true,\"zerolinewidth\":2},\"scene\":{\"xaxis\":{\"backgroundcolor\":\"#E5ECF6\",\"gridcolor\":\"white\",\"linecolor\":\"white\",\"showbackground\":true,\"ticks\":\"\",\"zerolinecolor\":\"white\",\"gridwidth\":2},\"yaxis\":{\"backgroundcolor\":\"#E5ECF6\",\"gridcolor\":\"white\",\"linecolor\":\"white\",\"showbackground\":true,\"ticks\":\"\",\"zerolinecolor\":\"white\",\"gridwidth\":2},\"zaxis\":{\"backgroundcolor\":\"#E5ECF6\",\"gridcolor\":\"white\",\"linecolor\":\"white\",\"showbackground\":true,\"ticks\":\"\",\"zerolinecolor\":\"white\",\"gridwidth\":2}},\"shapedefaults\":{\"line\":{\"color\":\"#2a3f5f\"}},\"annotationdefaults\":{\"arrowcolor\":\"#2a3f5f\",\"arrowhead\":0,\"arrowwidth\":1},\"geo\":{\"bgcolor\":\"white\",\"landcolor\":\"#E5ECF6\",\"subunitcolor\":\"white\",\"showland\":true,\"showlakes\":true,\"lakecolor\":\"white\"},\"title\":{\"x\":0.05},\"mapbox\":{\"style\":\"light\"}}},\"xaxis\":{\"anchor\":\"y\",\"domain\":[0.0,1.0],\"linecolor\":\"black\",\"mirror\":true,\"showline\":true,\"title\":{\"text\":\"chemical shift (ppm)\"},\"autorange\":false,\"ticks\":\"outside\",\"range\":[0.1999999999999999,-0.1999999999999999]},\"yaxis\":{\"anchor\":\"x\",\"domain\":[0.0,1.0],\"linecolor\":\"black\",\"mirror\":true,\"showline\":true,\"title\":{\"text\":\"intensity\"},\"exponentformat\":\"power\",\"showexponent\":\"last\"},\"plot_bgcolor\":\"white\",\"autosize\":false,\"width\":900,\"height\":400},                        {\"responsive\": true}                    ).then(function(){\n",
       "                            \n",
       "var gd = document.getElementById('f3c097ae-d960-4727-82e6-f9b7be83c907');\n",
       "var x = new MutationObserver(function (mutations, observer) {{\n",
       "        var display = window.getComputedStyle(gd).display;\n",
       "        if (!display || display === 'none') {{\n",
       "            console.log([gd, 'removed!']);\n",
       "            Plotly.purge(gd);\n",
       "            observer.disconnect();\n",
       "        }}\n",
       "}});\n",
       "\n",
       "// Listen for the removal of the full notebook cells\n",
       "var notebookContainer = gd.closest('#notebook-container');\n",
       "if (notebookContainer) {{\n",
       "    x.observe(notebookContainer, {childList: true});\n",
       "}}\n",
       "\n",
       "// Listen for the clearing of the current output cell\n",
       "var outputEl = gd.closest('.output');\n",
       "if (outputEl) {{\n",
       "    x.observe(outputEl, {childList: true});\n",
       "}}\n",
       "\n",
       "                        })                };                });            </script>        </div>"
      ]
     },
     "metadata": {},
     "output_type": "display_data"
    }
   ],
   "source": [
    "fig.update_layout(autosize=False, width=900, height=400)\n",
    "fig.show()"
   ]
  },
  {
   "cell_type": "markdown",
   "id": "f1e6ca05-915e-4646-a43f-187170fdceab",
   "metadata": {},
   "source": [
    "## 6. Spectrum simulation and fitting"
   ]
  },
  {
   "cell_type": "markdown",
   "id": "69193fc4-3503-49f5-b13e-e37028dc9486",
   "metadata": {},
   "source": [
    "### 6.1. Model construction"
   ]
  },
  {
   "cell_type": "markdown",
   "id": "26ec8bf7-313e-4e98-89db-8945209824af",
   "metadata": {},
   "source": [
    "To simulate or fit a spectrum, we need to provide a list of signals containing the type of signal (e.g. singlet or doublet) and the corresponding parameters (chemical shift, coupling constant, linewidth, intensity, etc). Signals must be provided as a dictionary."
   ]
  },
  {
   "cell_type": "code",
   "execution_count": 127,
   "id": "ebfb81b4-9aab-4d08-a7fe-35fc4b441a80",
   "metadata": {},
   "outputs": [],
   "source": [
    "\n",
    "\n",
    "signals = {\"singlet_TSP\": {\"model\":\"singlet\", \"par\": {\"x0\": {\"ini\":0.0, \"lb\":-0.05, \"ub\":0.05}}}}\n",
    "\n",
    "#signals = {\"singlet_TSP\": {\"model\":\"singlet\", \"par\": {\"x0\": {\"ini\":0.0, \"lb\":-0.05, \"ub\":0.05}}},\n",
    "#           \"doublet_TSP\": {\"model\":\"doublet\", \"par\": {\"x0\": {\"ini\":-0.01, \"lb\":-0.01, \"ub\":0.01}, \"J\": {\"ini\":0.147, \"lb\":0.14, \"ub\":0.15}, \"lw\": {\"ini\":0.001}}}}\n"
   ]
  },
  {
   "cell_type": "markdown",
   "id": "063bc75f-9ad7-4af8-9c67-9edd1174e44d",
   "metadata": {},
   "source": [
    "Then we can build a model of the spectrum with the `build_model()` method."
   ]
  },
  {
   "cell_type": "code",
   "execution_count": 128,
   "id": "65d2b952-0403-4c35-a277-549b4306d7fc",
   "metadata": {},
   "outputs": [
    {
     "name": "stdout",
     "output_type": "stream",
     "text": [
      "2023-01-10 11:43:09,225 | DEBUG : build Model for signal 'singlet_TSP'\n",
      "2023-01-10 11:43:09,229 | DEBUG : parameters\n",
      "     signal_id    model        par         ini     lb            ub\n",
      "0  singlet_TSP  singlet         x0        1.00  0.000  1.000000e+01\n",
      "1  singlet_TSP  singlet  intensity  1000000.00  1.000  1.000000e+15\n",
      "2  singlet_TSP  singlet         lw        0.01  0.001  3.000000e-02\n",
      "3  singlet_TSP  singlet         gl        0.50  0.000  1.000000e+00\n"
     ]
    }
   ],
   "source": [
    "sp.build_model(signals=signals, available_models=available_models)"
   ]
  },
  {
   "cell_type": "markdown",
   "id": "d882e8b9-c6a0-4e1b-b7ff-920e09890f2b",
   "metadata": {
    "tags": []
   },
   "source": [
    "Parameters can be accessed via the `params` attibute."
   ]
  },
  {
   "cell_type": "code",
   "execution_count": 129,
   "id": "24d34cef-5b9a-486c-a413-55c831949d92",
   "metadata": {},
   "outputs": [
    {
     "data": {
      "text/html": [
       "<div>\n",
       "<style scoped>\n",
       "    .dataframe tbody tr th:only-of-type {\n",
       "        vertical-align: middle;\n",
       "    }\n",
       "\n",
       "    .dataframe tbody tr th {\n",
       "        vertical-align: top;\n",
       "    }\n",
       "\n",
       "    .dataframe thead th {\n",
       "        text-align: right;\n",
       "    }\n",
       "</style>\n",
       "<table border=\"1\" class=\"dataframe\">\n",
       "  <thead>\n",
       "    <tr style=\"text-align: right;\">\n",
       "      <th></th>\n",
       "      <th>signal_id</th>\n",
       "      <th>model</th>\n",
       "      <th>par</th>\n",
       "      <th>ini</th>\n",
       "      <th>lb</th>\n",
       "      <th>ub</th>\n",
       "    </tr>\n",
       "  </thead>\n",
       "  <tbody>\n",
       "    <tr>\n",
       "      <th>0</th>\n",
       "      <td>singlet_TSP</td>\n",
       "      <td>singlet</td>\n",
       "      <td>x0</td>\n",
       "      <td>0.00</td>\n",
       "      <td>-0.050</td>\n",
       "      <td>5.000000e-02</td>\n",
       "    </tr>\n",
       "    <tr>\n",
       "      <th>1</th>\n",
       "      <td>singlet_TSP</td>\n",
       "      <td>singlet</td>\n",
       "      <td>intensity</td>\n",
       "      <td>1000000.00</td>\n",
       "      <td>1.000</td>\n",
       "      <td>1.000000e+15</td>\n",
       "    </tr>\n",
       "    <tr>\n",
       "      <th>2</th>\n",
       "      <td>singlet_TSP</td>\n",
       "      <td>singlet</td>\n",
       "      <td>lw</td>\n",
       "      <td>0.01</td>\n",
       "      <td>0.001</td>\n",
       "      <td>3.000000e-02</td>\n",
       "    </tr>\n",
       "    <tr>\n",
       "      <th>3</th>\n",
       "      <td>singlet_TSP</td>\n",
       "      <td>singlet</td>\n",
       "      <td>gl</td>\n",
       "      <td>0.50</td>\n",
       "      <td>0.000</td>\n",
       "      <td>1.000000e+00</td>\n",
       "    </tr>\n",
       "  </tbody>\n",
       "</table>\n",
       "</div>"
      ],
      "text/plain": [
       "     signal_id    model        par         ini     lb            ub\n",
       "0  singlet_TSP  singlet         x0        0.00 -0.050  5.000000e-02\n",
       "1  singlet_TSP  singlet  intensity  1000000.00  1.000  1.000000e+15\n",
       "2  singlet_TSP  singlet         lw        0.01  0.001  3.000000e-02\n",
       "3  singlet_TSP  singlet         gl        0.50  0.000  1.000000e+00"
      ]
     },
     "execution_count": 129,
     "metadata": {},
     "output_type": "execute_result"
    }
   ],
   "source": [
    "sp.params"
   ]
  },
  {
   "cell_type": "markdown",
   "id": "5d630cf7-c472-43fa-8e8a-51f6c5f58b1b",
   "metadata": {},
   "source": [
    "We can update parameters and offser using the update_params() method."
   ]
  },
  {
   "cell_type": "code",
   "execution_count": 130,
   "id": "9dcf13a9-825a-4b85-b7de-fd04a3da43a0",
   "metadata": {},
   "outputs": [],
   "source": [
    "sp.update_params({\"singlet_TSP\": {\"par\": {\"intensity\": {\"ini\":1e6, \"ub\":1e12}}}})"
   ]
  },
  {
   "cell_type": "markdown",
   "id": "68499973-f4f5-42eb-9b2b-b7b47f9ef5b8",
   "metadata": {},
   "source": [
    "Similarly, we can update the offset with the `update_offset()` method. If `offset=None`, the offset is removed. To set an offset, provide a dictionary (if empty, offset is initialized to default values)."
   ]
  },
  {
   "cell_type": "code",
   "execution_count": 131,
   "id": "88aea3ad-d456-456a-b93b-2a5e7029fbca",
   "metadata": {},
   "outputs": [
    {
     "name": "stdout",
     "output_type": "stream",
     "text": [
      "       signal_id    model        par         ini             lb            ub\n",
      "0    singlet_TSP  singlet         x0        0.00      -0.050000  5.000000e-02\n",
      "1    singlet_TSP  singlet  intensity  1000000.00       1.000000  1.000000e+12\n",
      "2    singlet_TSP  singlet         lw        0.01       0.001000  3.000000e-02\n",
      "3    singlet_TSP  singlet         gl        0.50       0.000000  1.000000e+00\n",
      "4  full_spectrum     None     offset        0.00 -250018.225728  2.500182e+05\n"
     ]
    }
   ],
   "source": [
    "sp.update_offset(offset={})\n",
    "print(sp.params)"
   ]
  },
  {
   "cell_type": "code",
   "execution_count": 132,
   "id": "70568ace-9bb9-4639-9da7-54af2f281a9f",
   "metadata": {},
   "outputs": [
    {
     "name": "stdout",
     "output_type": "stream",
     "text": [
      "     signal_id    model        par         ini     lb            ub\n",
      "0  singlet_TSP  singlet         x0        0.00 -0.050  5.000000e-02\n",
      "1  singlet_TSP  singlet  intensity  1000000.00  1.000  1.000000e+12\n",
      "2  singlet_TSP  singlet         lw        0.01  0.001  3.000000e-02\n",
      "3  singlet_TSP  singlet         gl        0.50  0.000  1.000000e+00\n"
     ]
    }
   ],
   "source": [
    "sp.update_offset(offset=None)\n",
    "print(sp.params)"
   ]
  },
  {
   "cell_type": "markdown",
   "id": "013c6892-fa96-46cf-b3fa-fd2b74b6f97d",
   "metadata": {},
   "source": [
    "### 6.2. Simulation"
   ]
  },
  {
   "cell_type": "markdown",
   "id": "380fa4d7-25e0-4940-b675-46002a357712",
   "metadata": {},
   "source": [
    "Simulate spectrum using the `simulate()` method which returns a list of simulated intensities. If `params` is not given as argument, initial parameters values are used."
   ]
  },
  {
   "cell_type": "code",
   "execution_count": 133,
   "id": "da1b9b01-8dce-4cfa-a47b-52b91b4c5b6e",
   "metadata": {},
   "outputs": [],
   "source": [
    "sim_spectrum = sp.simulate()"
   ]
  },
  {
   "cell_type": "code",
   "execution_count": 134,
   "id": "c3dd8036-8e2d-4429-a83b-86acd913978c",
   "metadata": {},
   "outputs": [
    {
     "data": {
      "text/plain": [
       "0      1246.882793\n",
       "1      1287.324797\n",
       "2      1329.764958\n",
       "3      1374.336984\n",
       "4      1421.185947\n",
       "          ...     \n",
       "122    1421.185947\n",
       "123    1374.336984\n",
       "124    1329.764958\n",
       "125    1287.324797\n",
       "126    1246.882793\n",
       "Name: ppm, Length: 127, dtype: float64"
      ]
     },
     "metadata": {},
     "output_type": "display_data"
    }
   ],
   "source": [
    "display(sim_spectrum)"
   ]
  },
  {
   "cell_type": "markdown",
   "id": "d5f8c61f-c83e-4d7c-8560-e8a21bec26d8",
   "metadata": {},
   "source": [
    "To view the spectrum simulated from initial values, just use the `plot()` method."
   ]
  },
  {
   "cell_type": "code",
   "execution_count": 135,
   "id": "4133de14-53a7-43da-b2ea-689d3263f8fe",
   "metadata": {},
   "outputs": [
    {
     "name": "stdout",
     "output_type": "stream",
     "text": [
      "2023-01-10 11:43:09,350 | DEBUG : create plot\n"
     ]
    },
    {
     "data": {
      "application/vnd.plotly.v1+json": {
       "config": {
        "plotlyServerURL": "https://plot.ly"
       },
       "data": [
        {
         "marker": {
          "color": "#386CB0"
         },
         "mode": "lines",
         "name": "exp. spectrum",
         "type": "scatter",
         "x": [
          -0.1999999999999999,
          -0.1968253968253968,
          -0.1936507936507936,
          -0.1904761904761904,
          -0.1873015873015873,
          -0.1841269841269841,
          -0.1809523809523809,
          -0.1777777777777778,
          -0.1746031746031746,
          -0.1714285714285713,
          -0.1682539682539682,
          -0.165079365079365,
          -0.1619047619047618,
          -0.1587301587301587,
          -0.1555555555555555,
          -0.1523809523809524,
          -0.1492063492063492,
          -0.146031746031746,
          -0.1428571428571429,
          -0.1396825396825396,
          -0.1365079365079364,
          -0.1333333333333333,
          -0.1301587301587301,
          -0.1269841269841269,
          -0.1238095238095238,
          -0.1206349206349206,
          -0.1174603174603174,
          -0.1142857142857143,
          -0.1111111111111111,
          -0.1079365079365078,
          -0.1047619047619047,
          -0.1015873015873015,
          -0.0984126984126984,
          -0.0952380952380952,
          -0.092063492063492,
          -0.0888888888888889,
          -0.0857142857142857,
          -0.0825396825396825,
          -0.0793650793650794,
          -0.0761904761904761,
          -0.0730158730158729,
          -0.0698412698412698,
          -0.0666666666666666,
          -0.0634920634920634,
          -0.0603174603174603,
          -0.0571428571428571,
          -0.053968253968254,
          -0.0507936507936508,
          -0.0476190476190476,
          -0.0444444444444444,
          -0.0412698412698412,
          -0.038095238095238,
          -0.0349206349206349,
          -0.0317460317460317,
          -0.0285714285714285,
          -0.0253968253968254,
          -0.0222222222222222,
          -0.019047619047619,
          -0.0158730158730159,
          -0.0126984126984126,
          -0.0095238095238094,
          -0.0063492063492063,
          -0.0031746031746031,
          0,
          0.0031746031746031,
          0.0063492063492063,
          0.0095238095238094,
          0.0126984126984126,
          0.0158730158730158,
          0.0190476190476189,
          0.0222222222222221,
          0.0253968253968253,
          0.0285714285714284,
          0.0317460317460318,
          0.034920634920635,
          0.0380952380952381,
          0.0412698412698413,
          0.0444444444444445,
          0.0476190476190476,
          0.0507936507936508,
          0.053968253968254,
          0.0571428571428571,
          0.0603174603174603,
          0.0634920634920634,
          0.0666666666666666,
          0.0698412698412698,
          0.0730158730158729,
          0.0761904761904761,
          0.0793650793650793,
          0.0825396825396824,
          0.0857142857142856,
          0.0888888888888888,
          0.0920634920634919,
          0.0952380952380953,
          0.0984126984126985,
          0.1015873015873016,
          0.1047619047619048,
          0.107936507936508,
          0.1111111111111111,
          0.1142857142857143,
          0.1174603174603174,
          0.1206349206349206,
          0.1238095238095238,
          0.1269841269841269,
          0.1301587301587301,
          0.1333333333333333,
          0.1365079365079364,
          0.1396825396825396,
          0.1428571428571428,
          0.1460317460317459,
          0.1492063492063491,
          0.1523809523809522,
          0.1555555555555554,
          0.1587301587301588,
          0.161904761904762,
          0.1650793650793651,
          0.1682539682539683,
          0.1714285714285714,
          0.1746031746031746,
          0.1777777777777778,
          0.1809523809523809,
          0.1841269841269841,
          0.1873015873015873,
          0.1904761904761904,
          0.1936507936507936,
          0.1968253968253968,
          0.1999999999999999
         ],
         "xaxis": "x",
         "y": [
          3203.8213991064235,
          3304.9953804123325,
          3411.164836862961,
          3522.66404088274,
          3639.8556725481512,
          3763.133763647805,
          3892.927003571289,
          4029.702458698749,
          4173.969765405678,
          4326.285866798944,
          4487.260375182877,
          4657.561656414764,
          4837.9237492355705,
          5029.154252960412,
          5232.14334133612,
          5447.874089860236,
          5677.434339583963,
          5922.030363873389,
          6183.002657652052,
          6461.844233673511,
          6760.2218904118645,
          7080.001015106422,
          7423.274608374431,
          7792.3973701227005,
          8190.025878726982,
          8619.16613773078,
          9083.23007131418,
          9586.102940977684,
          10132.224157308034,
          10726.684607379988,
          11375.344457799236,
          12084.97649050273,
          12863.441472574465,
          13719.903976641106,
          14665.09962882495,
          15711.668212789427,
          16874.57175256134,
          18171.623140802843,
          19624.15981319587,
          21257.90948612848,
          23104.112706328684,
          25200.992377970106,
          27595.697324856184,
          30346.901209590505,
          33528.319082432376,
          37233.52641405797,
          41582.65405017458,
          46731.827531132905,
          52886.68883104754,
          60322.09975150958,
          69411.38272265853,
          80670.56607297751,
          94826.70482754818,
          112925.56782011809,
          136504.71598862327,
          167876.05440175824,
          210589.5700679826,
          270178.87550814607,
          355252.18629190105,
          478560.307797556,
          655560.5845798899,
          890960.0766567012,
          1135648.3899828095,
          1250091.1286377506,
          1135648.5389350115,
          890960.3745614183,
          655561.0314377496,
          478560.9036094988,
          355252.9310591847,
          270179.7692323337,
          210590.6127509561,
          167877.24604571276,
          136506.05659606747,
          112927.0573938728,
          94828.34337075106,
          80672.35358907796,
          69413.31921541966,
          60324.18522500821,
          52888.9232896744,
          46734.210979591975,
          41585.18649348388,
          37236.207857549336,
          33531.14953175147,
          30349.88067069681,
          27598.8258040231,
          25204.269881784952,
          23107.539241692743,
          21261.48506025704,
          19627.88443361832,
          18175.496815362523,
          16878.594489415795,
          15715.840020410382,
          14669.42051599834,
          13724.37395246709,
          12868.060546467656,
          12089.744672192051,
          11380.261757328044,
          10731.75103510613,
          10137.439723903935,
          9591.467657430334,
          9088.743948925265,
          8624.829188116715,
          8195.838113819003,
          7798.358802166903,
          7429.385249931858,
          7086.260879053124,
          6766.630989938982,
          6468.402582287343,
          6189.710269174148,
          5928.88725244059,
          5684.440519648522,
          5455.029576189883,
          5239.448149014146,
          5036.608397385743,
          4845.5272461229,
          4665.314521794594,
          4495.162625401626,
          4334.337518519044,
          4182.170835605667,
          4038.0529646733567,
          3901.4269629315513,
          3771.7831943211554,
          3648.654592778527,
          3531.6124692306844,
          3420.262792205728,
          3314.242881943995,
          3213.2184663379844
         ],
         "yaxis": "y"
        },
        {
         "marker": {
          "color": "#7FC97F"
         },
         "mode": "lines",
         "name": "initial values",
         "type": "scatter",
         "x": [
          -0.1999999999999999,
          -0.1968253968253968,
          -0.1936507936507936,
          -0.1904761904761904,
          -0.1873015873015873,
          -0.1841269841269841,
          -0.1809523809523809,
          -0.1777777777777778,
          -0.1746031746031746,
          -0.1714285714285713,
          -0.1682539682539682,
          -0.165079365079365,
          -0.1619047619047618,
          -0.1587301587301587,
          -0.1555555555555555,
          -0.1523809523809524,
          -0.1492063492063492,
          -0.146031746031746,
          -0.1428571428571429,
          -0.1396825396825396,
          -0.1365079365079364,
          -0.1333333333333333,
          -0.1301587301587301,
          -0.1269841269841269,
          -0.1238095238095238,
          -0.1206349206349206,
          -0.1174603174603174,
          -0.1142857142857143,
          -0.1111111111111111,
          -0.1079365079365078,
          -0.1047619047619047,
          -0.1015873015873015,
          -0.0984126984126984,
          -0.0952380952380952,
          -0.092063492063492,
          -0.0888888888888889,
          -0.0857142857142857,
          -0.0825396825396825,
          -0.0793650793650794,
          -0.0761904761904761,
          -0.0730158730158729,
          -0.0698412698412698,
          -0.0666666666666666,
          -0.0634920634920634,
          -0.0603174603174603,
          -0.0571428571428571,
          -0.053968253968254,
          -0.0507936507936508,
          -0.0476190476190476,
          -0.0444444444444444,
          -0.0412698412698412,
          -0.038095238095238,
          -0.0349206349206349,
          -0.0317460317460317,
          -0.0285714285714285,
          -0.0253968253968254,
          -0.0222222222222222,
          -0.019047619047619,
          -0.0158730158730159,
          -0.0126984126984126,
          -0.0095238095238094,
          -0.0063492063492063,
          -0.0031746031746031,
          0,
          0.0031746031746031,
          0.0063492063492063,
          0.0095238095238094,
          0.0126984126984126,
          0.0158730158730158,
          0.0190476190476189,
          0.0222222222222221,
          0.0253968253968253,
          0.0285714285714284,
          0.0317460317460318,
          0.034920634920635,
          0.0380952380952381,
          0.0412698412698413,
          0.0444444444444445,
          0.0476190476190476,
          0.0507936507936508,
          0.053968253968254,
          0.0571428571428571,
          0.0603174603174603,
          0.0634920634920634,
          0.0666666666666666,
          0.0698412698412698,
          0.0730158730158729,
          0.0761904761904761,
          0.0793650793650793,
          0.0825396825396824,
          0.0857142857142856,
          0.0888888888888888,
          0.0920634920634919,
          0.0952380952380953,
          0.0984126984126985,
          0.1015873015873016,
          0.1047619047619048,
          0.107936507936508,
          0.1111111111111111,
          0.1142857142857143,
          0.1174603174603174,
          0.1206349206349206,
          0.1238095238095238,
          0.1269841269841269,
          0.1301587301587301,
          0.1333333333333333,
          0.1365079365079364,
          0.1396825396825396,
          0.1428571428571428,
          0.1460317460317459,
          0.1492063492063491,
          0.1523809523809522,
          0.1555555555555554,
          0.1587301587301588,
          0.161904761904762,
          0.1650793650793651,
          0.1682539682539683,
          0.1714285714285714,
          0.1746031746031746,
          0.1777777777777778,
          0.1809523809523809,
          0.1841269841269841,
          0.1873015873015873,
          0.1904761904761904,
          0.1936507936507936,
          0.1968253968253968,
          0.1999999999999999
         ],
         "xaxis": "x",
         "y": [
          1246.8827930174575,
          1287.324797008762,
          1329.7649575942685,
          1374.336983688709,
          1421.1859472675203,
          1470.4694609908795,
          1522.3590005592353,
          1577.0413924691397,
          1634.7204912151797,
          1695.6190739843616,
          1759.9809856425645,
          1828.0735724767399,
          1900.1904499271836,
          1976.6546576637334,
          2057.8222651288056,
          2144.0865024649697,
          2235.88250603615,
          2333.6927851321025,
          2438.053537665438,
          2549.5619686806676,
          2668.8847975103895,
          2796.768178993165,
          2934.04931331862,
          3081.6700803920735,
          3240.6931115062985,
          3412.3208080210625,
          3597.917939550631,
          3799.038610637308,
          4017.458585457792,
          4255.214218783849,
          4514.64957719949,
          4798.473773421129,
          5109.831114223844,
          5452.387428599693,
          5830.43696693883,
          6249.03564264774,
          6714.168265278217,
          7232.959991836624,
          7813.945796544717,
          8467.416765993275,
          9205.86911979737,
          10044.592028746432,
          11002.445099456654,
          12102.898380451275,
          13375.4418605414,
          14857.529980199348,
          16597.348100995736,
          18658.00055377957,
          21124.623364872434,
          24118.484669223726,
          27828.605288180002,
          32585.00962700688,
          39019.07380769631,
          48374.013770952784,
          63005.64363341541,
          86992.22344266638,
          126528.57851084958,
          189530.88582600962,
          283925.178447144,
          414652.85000211746,
          579883.3659658594,
          765074.042211631,
          929651.9426363404,
          1000000,
          929651.9426363404,
          765074.042211631,
          579883.3659658594,
          414652.85000211746,
          283925.17844714754,
          189530.88582601206,
          126528.57851085108,
          86992.22344266735,
          63005.643633416,
          48374.01377095243,
          39019.07380769608,
          32585.009627006708,
          27828.60528817988,
          24118.484669223617,
          21124.623364872434,
          18658.00055377957,
          16597.348100995736,
          14857.529980199348,
          13375.4418605414,
          12102.898380451275,
          11002.445099456654,
          10044.592028746432,
          9205.86911979737,
          8467.416765993275,
          7813.945796544736,
          7232.959991836642,
          6714.168265278231,
          6249.035642647758,
          5830.436966938843,
          5452.38742859968,
          5109.831114223836,
          4798.47377342112,
          4514.649577199481,
          4255.2142187838335,
          4017.458585457792,
          3799.038610637308,
          3597.917939550631,
          3412.3208080210625,
          3240.6931115062985,
          3081.6700803920735,
          2934.04931331862,
          2796.768178993165,
          2668.8847975103895,
          2549.5619686806676,
          2438.0535376654416,
          2333.6927851321057,
          2235.882506036154,
          2144.086502464975,
          2057.822265128809,
          1976.6546576637309,
          1900.1904499271786,
          1828.0735724767376,
          1759.9809856425627,
          1695.6190739843596,
          1634.7204912151797,
          1577.0413924691397,
          1522.3590005592353,
          1470.4694609908795,
          1421.1859472675203,
          1374.336983688709,
          1329.7649575942685,
          1287.324797008762,
          1246.8827930174575
         ],
         "yaxis": "y"
        }
       ],
       "layout": {
        "autosize": false,
        "height": 700,
        "plot_bgcolor": "white",
        "template": {
         "data": {
          "bar": [
           {
            "error_x": {
             "color": "#2a3f5f"
            },
            "error_y": {
             "color": "#2a3f5f"
            },
            "marker": {
             "line": {
              "color": "#E5ECF6",
              "width": 0.5
             },
             "pattern": {
              "fillmode": "overlay",
              "size": 10,
              "solidity": 0.2
             }
            },
            "type": "bar"
           }
          ],
          "barpolar": [
           {
            "marker": {
             "line": {
              "color": "#E5ECF6",
              "width": 0.5
             },
             "pattern": {
              "fillmode": "overlay",
              "size": 10,
              "solidity": 0.2
             }
            },
            "type": "barpolar"
           }
          ],
          "carpet": [
           {
            "aaxis": {
             "endlinecolor": "#2a3f5f",
             "gridcolor": "white",
             "linecolor": "white",
             "minorgridcolor": "white",
             "startlinecolor": "#2a3f5f"
            },
            "baxis": {
             "endlinecolor": "#2a3f5f",
             "gridcolor": "white",
             "linecolor": "white",
             "minorgridcolor": "white",
             "startlinecolor": "#2a3f5f"
            },
            "type": "carpet"
           }
          ],
          "choropleth": [
           {
            "colorbar": {
             "outlinewidth": 0,
             "ticks": ""
            },
            "type": "choropleth"
           }
          ],
          "contour": [
           {
            "colorbar": {
             "outlinewidth": 0,
             "ticks": ""
            },
            "colorscale": [
             [
              0,
              "#0d0887"
             ],
             [
              0.1111111111111111,
              "#46039f"
             ],
             [
              0.2222222222222222,
              "#7201a8"
             ],
             [
              0.3333333333333333,
              "#9c179e"
             ],
             [
              0.4444444444444444,
              "#bd3786"
             ],
             [
              0.5555555555555556,
              "#d8576b"
             ],
             [
              0.6666666666666666,
              "#ed7953"
             ],
             [
              0.7777777777777778,
              "#fb9f3a"
             ],
             [
              0.8888888888888888,
              "#fdca26"
             ],
             [
              1,
              "#f0f921"
             ]
            ],
            "type": "contour"
           }
          ],
          "contourcarpet": [
           {
            "colorbar": {
             "outlinewidth": 0,
             "ticks": ""
            },
            "type": "contourcarpet"
           }
          ],
          "heatmap": [
           {
            "colorbar": {
             "outlinewidth": 0,
             "ticks": ""
            },
            "colorscale": [
             [
              0,
              "#0d0887"
             ],
             [
              0.1111111111111111,
              "#46039f"
             ],
             [
              0.2222222222222222,
              "#7201a8"
             ],
             [
              0.3333333333333333,
              "#9c179e"
             ],
             [
              0.4444444444444444,
              "#bd3786"
             ],
             [
              0.5555555555555556,
              "#d8576b"
             ],
             [
              0.6666666666666666,
              "#ed7953"
             ],
             [
              0.7777777777777778,
              "#fb9f3a"
             ],
             [
              0.8888888888888888,
              "#fdca26"
             ],
             [
              1,
              "#f0f921"
             ]
            ],
            "type": "heatmap"
           }
          ],
          "heatmapgl": [
           {
            "colorbar": {
             "outlinewidth": 0,
             "ticks": ""
            },
            "colorscale": [
             [
              0,
              "#0d0887"
             ],
             [
              0.1111111111111111,
              "#46039f"
             ],
             [
              0.2222222222222222,
              "#7201a8"
             ],
             [
              0.3333333333333333,
              "#9c179e"
             ],
             [
              0.4444444444444444,
              "#bd3786"
             ],
             [
              0.5555555555555556,
              "#d8576b"
             ],
             [
              0.6666666666666666,
              "#ed7953"
             ],
             [
              0.7777777777777778,
              "#fb9f3a"
             ],
             [
              0.8888888888888888,
              "#fdca26"
             ],
             [
              1,
              "#f0f921"
             ]
            ],
            "type": "heatmapgl"
           }
          ],
          "histogram": [
           {
            "marker": {
             "pattern": {
              "fillmode": "overlay",
              "size": 10,
              "solidity": 0.2
             }
            },
            "type": "histogram"
           }
          ],
          "histogram2d": [
           {
            "colorbar": {
             "outlinewidth": 0,
             "ticks": ""
            },
            "colorscale": [
             [
              0,
              "#0d0887"
             ],
             [
              0.1111111111111111,
              "#46039f"
             ],
             [
              0.2222222222222222,
              "#7201a8"
             ],
             [
              0.3333333333333333,
              "#9c179e"
             ],
             [
              0.4444444444444444,
              "#bd3786"
             ],
             [
              0.5555555555555556,
              "#d8576b"
             ],
             [
              0.6666666666666666,
              "#ed7953"
             ],
             [
              0.7777777777777778,
              "#fb9f3a"
             ],
             [
              0.8888888888888888,
              "#fdca26"
             ],
             [
              1,
              "#f0f921"
             ]
            ],
            "type": "histogram2d"
           }
          ],
          "histogram2dcontour": [
           {
            "colorbar": {
             "outlinewidth": 0,
             "ticks": ""
            },
            "colorscale": [
             [
              0,
              "#0d0887"
             ],
             [
              0.1111111111111111,
              "#46039f"
             ],
             [
              0.2222222222222222,
              "#7201a8"
             ],
             [
              0.3333333333333333,
              "#9c179e"
             ],
             [
              0.4444444444444444,
              "#bd3786"
             ],
             [
              0.5555555555555556,
              "#d8576b"
             ],
             [
              0.6666666666666666,
              "#ed7953"
             ],
             [
              0.7777777777777778,
              "#fb9f3a"
             ],
             [
              0.8888888888888888,
              "#fdca26"
             ],
             [
              1,
              "#f0f921"
             ]
            ],
            "type": "histogram2dcontour"
           }
          ],
          "mesh3d": [
           {
            "colorbar": {
             "outlinewidth": 0,
             "ticks": ""
            },
            "type": "mesh3d"
           }
          ],
          "parcoords": [
           {
            "line": {
             "colorbar": {
              "outlinewidth": 0,
              "ticks": ""
             }
            },
            "type": "parcoords"
           }
          ],
          "pie": [
           {
            "automargin": true,
            "type": "pie"
           }
          ],
          "scatter": [
           {
            "fillpattern": {
             "fillmode": "overlay",
             "size": 10,
             "solidity": 0.2
            },
            "type": "scatter"
           }
          ],
          "scatter3d": [
           {
            "line": {
             "colorbar": {
              "outlinewidth": 0,
              "ticks": ""
             }
            },
            "marker": {
             "colorbar": {
              "outlinewidth": 0,
              "ticks": ""
             }
            },
            "type": "scatter3d"
           }
          ],
          "scattercarpet": [
           {
            "marker": {
             "colorbar": {
              "outlinewidth": 0,
              "ticks": ""
             }
            },
            "type": "scattercarpet"
           }
          ],
          "scattergeo": [
           {
            "marker": {
             "colorbar": {
              "outlinewidth": 0,
              "ticks": ""
             }
            },
            "type": "scattergeo"
           }
          ],
          "scattergl": [
           {
            "marker": {
             "colorbar": {
              "outlinewidth": 0,
              "ticks": ""
             }
            },
            "type": "scattergl"
           }
          ],
          "scattermapbox": [
           {
            "marker": {
             "colorbar": {
              "outlinewidth": 0,
              "ticks": ""
             }
            },
            "type": "scattermapbox"
           }
          ],
          "scatterpolar": [
           {
            "marker": {
             "colorbar": {
              "outlinewidth": 0,
              "ticks": ""
             }
            },
            "type": "scatterpolar"
           }
          ],
          "scatterpolargl": [
           {
            "marker": {
             "colorbar": {
              "outlinewidth": 0,
              "ticks": ""
             }
            },
            "type": "scatterpolargl"
           }
          ],
          "scatterternary": [
           {
            "marker": {
             "colorbar": {
              "outlinewidth": 0,
              "ticks": ""
             }
            },
            "type": "scatterternary"
           }
          ],
          "surface": [
           {
            "colorbar": {
             "outlinewidth": 0,
             "ticks": ""
            },
            "colorscale": [
             [
              0,
              "#0d0887"
             ],
             [
              0.1111111111111111,
              "#46039f"
             ],
             [
              0.2222222222222222,
              "#7201a8"
             ],
             [
              0.3333333333333333,
              "#9c179e"
             ],
             [
              0.4444444444444444,
              "#bd3786"
             ],
             [
              0.5555555555555556,
              "#d8576b"
             ],
             [
              0.6666666666666666,
              "#ed7953"
             ],
             [
              0.7777777777777778,
              "#fb9f3a"
             ],
             [
              0.8888888888888888,
              "#fdca26"
             ],
             [
              1,
              "#f0f921"
             ]
            ],
            "type": "surface"
           }
          ],
          "table": [
           {
            "cells": {
             "fill": {
              "color": "#EBF0F8"
             },
             "line": {
              "color": "white"
             }
            },
            "header": {
             "fill": {
              "color": "#C8D4E3"
             },
             "line": {
              "color": "white"
             }
            },
            "type": "table"
           }
          ]
         },
         "layout": {
          "annotationdefaults": {
           "arrowcolor": "#2a3f5f",
           "arrowhead": 0,
           "arrowwidth": 1
          },
          "autotypenumbers": "strict",
          "coloraxis": {
           "colorbar": {
            "outlinewidth": 0,
            "ticks": ""
           }
          },
          "colorscale": {
           "diverging": [
            [
             0,
             "#8e0152"
            ],
            [
             0.1,
             "#c51b7d"
            ],
            [
             0.2,
             "#de77ae"
            ],
            [
             0.3,
             "#f1b6da"
            ],
            [
             0.4,
             "#fde0ef"
            ],
            [
             0.5,
             "#f7f7f7"
            ],
            [
             0.6,
             "#e6f5d0"
            ],
            [
             0.7,
             "#b8e186"
            ],
            [
             0.8,
             "#7fbc41"
            ],
            [
             0.9,
             "#4d9221"
            ],
            [
             1,
             "#276419"
            ]
           ],
           "sequential": [
            [
             0,
             "#0d0887"
            ],
            [
             0.1111111111111111,
             "#46039f"
            ],
            [
             0.2222222222222222,
             "#7201a8"
            ],
            [
             0.3333333333333333,
             "#9c179e"
            ],
            [
             0.4444444444444444,
             "#bd3786"
            ],
            [
             0.5555555555555556,
             "#d8576b"
            ],
            [
             0.6666666666666666,
             "#ed7953"
            ],
            [
             0.7777777777777778,
             "#fb9f3a"
            ],
            [
             0.8888888888888888,
             "#fdca26"
            ],
            [
             1,
             "#f0f921"
            ]
           ],
           "sequentialminus": [
            [
             0,
             "#0d0887"
            ],
            [
             0.1111111111111111,
             "#46039f"
            ],
            [
             0.2222222222222222,
             "#7201a8"
            ],
            [
             0.3333333333333333,
             "#9c179e"
            ],
            [
             0.4444444444444444,
             "#bd3786"
            ],
            [
             0.5555555555555556,
             "#d8576b"
            ],
            [
             0.6666666666666666,
             "#ed7953"
            ],
            [
             0.7777777777777778,
             "#fb9f3a"
            ],
            [
             0.8888888888888888,
             "#fdca26"
            ],
            [
             1,
             "#f0f921"
            ]
           ]
          },
          "colorway": [
           "#636efa",
           "#EF553B",
           "#00cc96",
           "#ab63fa",
           "#FFA15A",
           "#19d3f3",
           "#FF6692",
           "#B6E880",
           "#FF97FF",
           "#FECB52"
          ],
          "font": {
           "color": "#2a3f5f"
          },
          "geo": {
           "bgcolor": "white",
           "lakecolor": "white",
           "landcolor": "#E5ECF6",
           "showlakes": true,
           "showland": true,
           "subunitcolor": "white"
          },
          "hoverlabel": {
           "align": "left"
          },
          "hovermode": "closest",
          "mapbox": {
           "style": "light"
          },
          "paper_bgcolor": "white",
          "plot_bgcolor": "#E5ECF6",
          "polar": {
           "angularaxis": {
            "gridcolor": "white",
            "linecolor": "white",
            "ticks": ""
           },
           "bgcolor": "#E5ECF6",
           "radialaxis": {
            "gridcolor": "white",
            "linecolor": "white",
            "ticks": ""
           }
          },
          "scene": {
           "xaxis": {
            "backgroundcolor": "#E5ECF6",
            "gridcolor": "white",
            "gridwidth": 2,
            "linecolor": "white",
            "showbackground": true,
            "ticks": "",
            "zerolinecolor": "white"
           },
           "yaxis": {
            "backgroundcolor": "#E5ECF6",
            "gridcolor": "white",
            "gridwidth": 2,
            "linecolor": "white",
            "showbackground": true,
            "ticks": "",
            "zerolinecolor": "white"
           },
           "zaxis": {
            "backgroundcolor": "#E5ECF6",
            "gridcolor": "white",
            "gridwidth": 2,
            "linecolor": "white",
            "showbackground": true,
            "ticks": "",
            "zerolinecolor": "white"
           }
          },
          "shapedefaults": {
           "line": {
            "color": "#2a3f5f"
           }
          },
          "ternary": {
           "aaxis": {
            "gridcolor": "white",
            "linecolor": "white",
            "ticks": ""
           },
           "baxis": {
            "gridcolor": "white",
            "linecolor": "white",
            "ticks": ""
           },
           "bgcolor": "#E5ECF6",
           "caxis": {
            "gridcolor": "white",
            "linecolor": "white",
            "ticks": ""
           }
          },
          "title": {
           "x": 0.05
          },
          "xaxis": {
           "automargin": true,
           "gridcolor": "white",
           "linecolor": "white",
           "ticks": "",
           "title": {
            "standoff": 15
           },
           "zerolinecolor": "white",
           "zerolinewidth": 2
          },
          "yaxis": {
           "automargin": true,
           "gridcolor": "white",
           "linecolor": "white",
           "ticks": "",
           "title": {
            "standoff": 15
           },
           "zerolinecolor": "white",
           "zerolinewidth": 2
          }
         }
        },
        "width": 900,
        "xaxis": {
         "anchor": "y",
         "autorange": false,
         "domain": [
          0,
          1
         ],
         "linecolor": "black",
         "mirror": true,
         "range": [
          0.1999999999999999,
          -0.1999999999999999
         ],
         "showline": true,
         "ticks": "outside",
         "title": {
          "text": "chemical shift (ppm)"
         },
         "type": "linear"
        },
        "yaxis": {
         "anchor": "x",
         "autorange": true,
         "domain": [
          0,
          1
         ],
         "exponentformat": "power",
         "linecolor": "black",
         "mirror": true,
         "range": [
          -68133.3530872455,
          1319471.3645180135
         ],
         "showexponent": "last",
         "showline": true,
         "title": {
          "text": "intensity"
         },
         "type": "linear"
        }
       }
      },
      "image/png": "[encoded data removed]",
      "text/html": [
       "<div>                            <div id=\"ec4a6df6-cc37-45a4-8ade-562064f902a7\" class=\"plotly-graph-div\" style=\"height:700px; width:900px;\"></div>            <script type=\"text/javascript\">                require([\"plotly\"], function(Plotly) {                    window.PLOTLYENV=window.PLOTLYENV || {};                                    if (document.getElementById(\"ec4a6df6-cc37-45a4-8ade-562064f902a7\")) {                    Plotly.newPlot(                        \"ec4a6df6-cc37-45a4-8ade-562064f902a7\",                        [{\"marker\":{\"color\":\"#386CB0\"},\"mode\":\"lines\",\"name\":\"exp. spectrum\",\"x\":[-0.1999999999999999,-0.1968253968253968,-0.1936507936507936,-0.1904761904761904,-0.1873015873015873,-0.1841269841269841,-0.1809523809523809,-0.1777777777777778,-0.1746031746031746,-0.1714285714285713,-0.1682539682539682,-0.165079365079365,-0.1619047619047618,-0.1587301587301587,-0.1555555555555555,-0.1523809523809524,-0.1492063492063492,-0.146031746031746,-0.1428571428571429,-0.1396825396825396,-0.1365079365079364,-0.1333333333333333,-0.1301587301587301,-0.1269841269841269,-0.1238095238095238,-0.1206349206349206,-0.1174603174603174,-0.1142857142857143,-0.1111111111111111,-0.1079365079365078,-0.1047619047619047,-0.1015873015873015,-0.0984126984126984,-0.0952380952380952,-0.092063492063492,-0.0888888888888889,-0.0857142857142857,-0.0825396825396825,-0.0793650793650794,-0.0761904761904761,-0.0730158730158729,-0.0698412698412698,-0.0666666666666666,-0.0634920634920634,-0.0603174603174603,-0.0571428571428571,-0.053968253968254,-0.0507936507936508,-0.0476190476190476,-0.0444444444444444,-0.0412698412698412,-0.038095238095238,-0.0349206349206349,-0.0317460317460317,-0.0285714285714285,-0.0253968253968254,-0.0222222222222222,-0.019047619047619,-0.0158730158730159,-0.0126984126984126,-0.0095238095238094,-0.0063492063492063,-0.0031746031746031,0.0,0.0031746031746031,0.0063492063492063,0.0095238095238094,0.0126984126984126,0.0158730158730158,0.0190476190476189,0.0222222222222221,0.0253968253968253,0.0285714285714284,0.0317460317460318,0.034920634920635,0.0380952380952381,0.0412698412698413,0.0444444444444445,0.0476190476190476,0.0507936507936508,0.053968253968254,0.0571428571428571,0.0603174603174603,0.0634920634920634,0.0666666666666666,0.0698412698412698,0.0730158730158729,0.0761904761904761,0.0793650793650793,0.0825396825396824,0.0857142857142856,0.0888888888888888,0.0920634920634919,0.0952380952380953,0.0984126984126985,0.1015873015873016,0.1047619047619048,0.107936507936508,0.1111111111111111,0.1142857142857143,0.1174603174603174,0.1206349206349206,0.1238095238095238,0.1269841269841269,0.1301587301587301,0.1333333333333333,0.1365079365079364,0.1396825396825396,0.1428571428571428,0.1460317460317459,0.1492063492063491,0.1523809523809522,0.1555555555555554,0.1587301587301588,0.161904761904762,0.1650793650793651,0.1682539682539683,0.1714285714285714,0.1746031746031746,0.1777777777777778,0.1809523809523809,0.1841269841269841,0.1873015873015873,0.1904761904761904,0.1936507936507936,0.1968253968253968,0.1999999999999999],\"y\":[3203.8213991064235,3304.9953804123325,3411.164836862961,3522.66404088274,3639.8556725481512,3763.133763647805,3892.927003571289,4029.702458698749,4173.969765405678,4326.285866798944,4487.260375182877,4657.561656414764,4837.9237492355705,5029.154252960412,5232.14334133612,5447.874089860236,5677.434339583963,5922.030363873389,6183.002657652052,6461.844233673511,6760.2218904118645,7080.001015106422,7423.274608374431,7792.3973701227005,8190.025878726982,8619.16613773078,9083.23007131418,9586.102940977684,10132.224157308034,10726.684607379988,11375.344457799236,12084.97649050273,12863.441472574465,13719.903976641106,14665.09962882495,15711.668212789427,16874.57175256134,18171.623140802843,19624.15981319587,21257.90948612848,23104.112706328684,25200.992377970106,27595.697324856184,30346.901209590505,33528.319082432376,37233.52641405797,41582.65405017458,46731.827531132905,52886.68883104754,60322.09975150958,69411.38272265853,80670.56607297751,94826.70482754818,112925.56782011809,136504.71598862327,167876.05440175824,210589.5700679826,270178.87550814607,355252.18629190105,478560.307797556,655560.5845798899,890960.0766567012,1135648.3899828095,1250091.1286377506,1135648.5389350115,890960.3745614183,655561.0314377496,478560.9036094988,355252.9310591847,270179.7692323337,210590.6127509561,167877.24604571276,136506.05659606747,112927.0573938728,94828.34337075106,80672.35358907796,69413.31921541966,60324.18522500821,52888.9232896744,46734.210979591975,41585.18649348388,37236.207857549336,33531.14953175147,30349.88067069681,27598.8258040231,25204.269881784952,23107.539241692743,21261.48506025704,19627.88443361832,18175.496815362523,16878.594489415795,15715.840020410382,14669.42051599834,13724.37395246709,12868.060546467656,12089.744672192051,11380.261757328044,10731.75103510613,10137.439723903935,9591.467657430334,9088.743948925265,8624.829188116715,8195.838113819003,7798.358802166903,7429.385249931858,7086.260879053124,6766.630989938982,6468.402582287343,6189.710269174148,5928.88725244059,5684.440519648522,5455.029576189883,5239.448149014146,5036.608397385743,4845.5272461229,4665.314521794594,4495.162625401626,4334.337518519044,4182.170835605667,4038.0529646733567,3901.4269629315513,3771.7831943211554,3648.654592778527,3531.6124692306844,3420.262792205728,3314.242881943995,3213.2184663379844],\"type\":\"scatter\",\"xaxis\":\"x\",\"yaxis\":\"y\"},{\"marker\":{\"color\":\"#7FC97F\"},\"mode\":\"lines\",\"name\":\"initial values\",\"x\":[-0.1999999999999999,-0.1968253968253968,-0.1936507936507936,-0.1904761904761904,-0.1873015873015873,-0.1841269841269841,-0.1809523809523809,-0.1777777777777778,-0.1746031746031746,-0.1714285714285713,-0.1682539682539682,-0.165079365079365,-0.1619047619047618,-0.1587301587301587,-0.1555555555555555,-0.1523809523809524,-0.1492063492063492,-0.146031746031746,-0.1428571428571429,-0.1396825396825396,-0.1365079365079364,-0.1333333333333333,-0.1301587301587301,-0.1269841269841269,-0.1238095238095238,-0.1206349206349206,-0.1174603174603174,-0.1142857142857143,-0.1111111111111111,-0.1079365079365078,-0.1047619047619047,-0.1015873015873015,-0.0984126984126984,-0.0952380952380952,-0.092063492063492,-0.0888888888888889,-0.0857142857142857,-0.0825396825396825,-0.0793650793650794,-0.0761904761904761,-0.0730158730158729,-0.0698412698412698,-0.0666666666666666,-0.0634920634920634,-0.0603174603174603,-0.0571428571428571,-0.053968253968254,-0.0507936507936508,-0.0476190476190476,-0.0444444444444444,-0.0412698412698412,-0.038095238095238,-0.0349206349206349,-0.0317460317460317,-0.0285714285714285,-0.0253968253968254,-0.0222222222222222,-0.019047619047619,-0.0158730158730159,-0.0126984126984126,-0.0095238095238094,-0.0063492063492063,-0.0031746031746031,0.0,0.0031746031746031,0.0063492063492063,0.0095238095238094,0.0126984126984126,0.0158730158730158,0.0190476190476189,0.0222222222222221,0.0253968253968253,0.0285714285714284,0.0317460317460318,0.034920634920635,0.0380952380952381,0.0412698412698413,0.0444444444444445,0.0476190476190476,0.0507936507936508,0.053968253968254,0.0571428571428571,0.0603174603174603,0.0634920634920634,0.0666666666666666,0.0698412698412698,0.0730158730158729,0.0761904761904761,0.0793650793650793,0.0825396825396824,0.0857142857142856,0.0888888888888888,0.0920634920634919,0.0952380952380953,0.0984126984126985,0.1015873015873016,0.1047619047619048,0.107936507936508,0.1111111111111111,0.1142857142857143,0.1174603174603174,0.1206349206349206,0.1238095238095238,0.1269841269841269,0.1301587301587301,0.1333333333333333,0.1365079365079364,0.1396825396825396,0.1428571428571428,0.1460317460317459,0.1492063492063491,0.1523809523809522,0.1555555555555554,0.1587301587301588,0.161904761904762,0.1650793650793651,0.1682539682539683,0.1714285714285714,0.1746031746031746,0.1777777777777778,0.1809523809523809,0.1841269841269841,0.1873015873015873,0.1904761904761904,0.1936507936507936,0.1968253968253968,0.1999999999999999],\"y\":[1246.8827930174575,1287.324797008762,1329.7649575942685,1374.336983688709,1421.1859472675203,1470.4694609908795,1522.3590005592353,1577.0413924691397,1634.7204912151797,1695.6190739843616,1759.9809856425645,1828.0735724767399,1900.1904499271836,1976.6546576637334,2057.8222651288056,2144.0865024649697,2235.88250603615,2333.6927851321025,2438.053537665438,2549.5619686806676,2668.8847975103895,2796.768178993165,2934.04931331862,3081.6700803920735,3240.6931115062985,3412.3208080210625,3597.917939550631,3799.038610637308,4017.458585457792,4255.214218783849,4514.64957719949,4798.473773421129,5109.831114223844,5452.387428599693,5830.43696693883,6249.03564264774,6714.168265278217,7232.959991836624,7813.945796544717,8467.416765993275,9205.86911979737,10044.592028746432,11002.445099456654,12102.898380451275,13375.4418605414,14857.529980199348,16597.348100995736,18658.00055377957,21124.623364872434,24118.484669223726,27828.605288180002,32585.00962700688,39019.07380769631,48374.013770952784,63005.64363341541,86992.22344266638,126528.57851084958,189530.88582600962,283925.178447144,414652.85000211746,579883.3659658594,765074.042211631,929651.9426363404,1000000.0,929651.9426363404,765074.042211631,579883.3659658594,414652.85000211746,283925.17844714754,189530.88582601206,126528.57851085108,86992.22344266735,63005.643633416,48374.01377095243,39019.07380769608,32585.009627006708,27828.60528817988,24118.484669223617,21124.623364872434,18658.00055377957,16597.348100995736,14857.529980199348,13375.4418605414,12102.898380451275,11002.445099456654,10044.592028746432,9205.86911979737,8467.416765993275,7813.945796544736,7232.959991836642,6714.168265278231,6249.035642647758,5830.436966938843,5452.38742859968,5109.831114223836,4798.47377342112,4514.649577199481,4255.2142187838335,4017.458585457792,3799.038610637308,3597.917939550631,3412.3208080210625,3240.6931115062985,3081.6700803920735,2934.04931331862,2796.768178993165,2668.8847975103895,2549.5619686806676,2438.0535376654416,2333.6927851321057,2235.882506036154,2144.086502464975,2057.822265128809,1976.6546576637309,1900.1904499271786,1828.0735724767376,1759.9809856425627,1695.6190739843596,1634.7204912151797,1577.0413924691397,1522.3590005592353,1470.4694609908795,1421.1859472675203,1374.336983688709,1329.7649575942685,1287.324797008762,1246.8827930174575],\"type\":\"scatter\",\"xaxis\":\"x\",\"yaxis\":\"y\"}],                        {\"template\":{\"data\":{\"histogram2dcontour\":[{\"type\":\"histogram2dcontour\",\"colorbar\":{\"outlinewidth\":0,\"ticks\":\"\"},\"colorscale\":[[0.0,\"#0d0887\"],[0.1111111111111111,\"#46039f\"],[0.2222222222222222,\"#7201a8\"],[0.3333333333333333,\"#9c179e\"],[0.4444444444444444,\"#bd3786\"],[0.5555555555555556,\"#d8576b\"],[0.6666666666666666,\"#ed7953\"],[0.7777777777777778,\"#fb9f3a\"],[0.8888888888888888,\"#fdca26\"],[1.0,\"#f0f921\"]]}],\"choropleth\":[{\"type\":\"choropleth\",\"colorbar\":{\"outlinewidth\":0,\"ticks\":\"\"}}],\"histogram2d\":[{\"type\":\"histogram2d\",\"colorbar\":{\"outlinewidth\":0,\"ticks\":\"\"},\"colorscale\":[[0.0,\"#0d0887\"],[0.1111111111111111,\"#46039f\"],[0.2222222222222222,\"#7201a8\"],[0.3333333333333333,\"#9c179e\"],[0.4444444444444444,\"#bd3786\"],[0.5555555555555556,\"#d8576b\"],[0.6666666666666666,\"#ed7953\"],[0.7777777777777778,\"#fb9f3a\"],[0.8888888888888888,\"#fdca26\"],[1.0,\"#f0f921\"]]}],\"heatmap\":[{\"type\":\"heatmap\",\"colorbar\":{\"outlinewidth\":0,\"ticks\":\"\"},\"colorscale\":[[0.0,\"#0d0887\"],[0.1111111111111111,\"#46039f\"],[0.2222222222222222,\"#7201a8\"],[0.3333333333333333,\"#9c179e\"],[0.4444444444444444,\"#bd3786\"],[0.5555555555555556,\"#d8576b\"],[0.6666666666666666,\"#ed7953\"],[0.7777777777777778,\"#fb9f3a\"],[0.8888888888888888,\"#fdca26\"],[1.0,\"#f0f921\"]]}],\"heatmapgl\":[{\"type\":\"heatmapgl\",\"colorbar\":{\"outlinewidth\":0,\"ticks\":\"\"},\"colorscale\":[[0.0,\"#0d0887\"],[0.1111111111111111,\"#46039f\"],[0.2222222222222222,\"#7201a8\"],[0.3333333333333333,\"#9c179e\"],[0.4444444444444444,\"#bd3786\"],[0.5555555555555556,\"#d8576b\"],[0.6666666666666666,\"#ed7953\"],[0.7777777777777778,\"#fb9f3a\"],[0.8888888888888888,\"#fdca26\"],[1.0,\"#f0f921\"]]}],\"contourcarpet\":[{\"type\":\"contourcarpet\",\"colorbar\":{\"outlinewidth\":0,\"ticks\":\"\"}}],\"contour\":[{\"type\":\"contour\",\"colorbar\":{\"outlinewidth\":0,\"ticks\":\"\"},\"colorscale\":[[0.0,\"#0d0887\"],[0.1111111111111111,\"#46039f\"],[0.2222222222222222,\"#7201a8\"],[0.3333333333333333,\"#9c179e\"],[0.4444444444444444,\"#bd3786\"],[0.5555555555555556,\"#d8576b\"],[0.6666666666666666,\"#ed7953\"],[0.7777777777777778,\"#fb9f3a\"],[0.8888888888888888,\"#fdca26\"],[1.0,\"#f0f921\"]]}],\"surface\":[{\"type\":\"surface\",\"colorbar\":{\"outlinewidth\":0,\"ticks\":\"\"},\"colorscale\":[[0.0,\"#0d0887\"],[0.1111111111111111,\"#46039f\"],[0.2222222222222222,\"#7201a8\"],[0.3333333333333333,\"#9c179e\"],[0.4444444444444444,\"#bd3786\"],[0.5555555555555556,\"#d8576b\"],[0.6666666666666666,\"#ed7953\"],[0.7777777777777778,\"#fb9f3a\"],[0.8888888888888888,\"#fdca26\"],[1.0,\"#f0f921\"]]}],\"mesh3d\":[{\"type\":\"mesh3d\",\"colorbar\":{\"outlinewidth\":0,\"ticks\":\"\"}}],\"scatter\":[{\"fillpattern\":{\"fillmode\":\"overlay\",\"size\":10,\"solidity\":0.2},\"type\":\"scatter\"}],\"parcoords\":[{\"type\":\"parcoords\",\"line\":{\"colorbar\":{\"outlinewidth\":0,\"ticks\":\"\"}}}],\"scatterpolargl\":[{\"type\":\"scatterpolargl\",\"marker\":{\"colorbar\":{\"outlinewidth\":0,\"ticks\":\"\"}}}],\"bar\":[{\"error_x\":{\"color\":\"#2a3f5f\"},\"error_y\":{\"color\":\"#2a3f5f\"},\"marker\":{\"line\":{\"color\":\"#E5ECF6\",\"width\":0.5},\"pattern\":{\"fillmode\":\"overlay\",\"size\":10,\"solidity\":0.2}},\"type\":\"bar\"}],\"scattergeo\":[{\"type\":\"scattergeo\",\"marker\":{\"colorbar\":{\"outlinewidth\":0,\"ticks\":\"\"}}}],\"scatterpolar\":[{\"type\":\"scatterpolar\",\"marker\":{\"colorbar\":{\"outlinewidth\":0,\"ticks\":\"\"}}}],\"histogram\":[{\"marker\":{\"pattern\":{\"fillmode\":\"overlay\",\"size\":10,\"solidity\":0.2}},\"type\":\"histogram\"}],\"scattergl\":[{\"type\":\"scattergl\",\"marker\":{\"colorbar\":{\"outlinewidth\":0,\"ticks\":\"\"}}}],\"scatter3d\":[{\"type\":\"scatter3d\",\"line\":{\"colorbar\":{\"outlinewidth\":0,\"ticks\":\"\"}},\"marker\":{\"colorbar\":{\"outlinewidth\":0,\"ticks\":\"\"}}}],\"scattermapbox\":[{\"type\":\"scattermapbox\",\"marker\":{\"colorbar\":{\"outlinewidth\":0,\"ticks\":\"\"}}}],\"scatterternary\":[{\"type\":\"scatterternary\",\"marker\":{\"colorbar\":{\"outlinewidth\":0,\"ticks\":\"\"}}}],\"scattercarpet\":[{\"type\":\"scattercarpet\",\"marker\":{\"colorbar\":{\"outlinewidth\":0,\"ticks\":\"\"}}}],\"carpet\":[{\"aaxis\":{\"endlinecolor\":\"#2a3f5f\",\"gridcolor\":\"white\",\"linecolor\":\"white\",\"minorgridcolor\":\"white\",\"startlinecolor\":\"#2a3f5f\"},\"baxis\":{\"endlinecolor\":\"#2a3f5f\",\"gridcolor\":\"white\",\"linecolor\":\"white\",\"minorgridcolor\":\"white\",\"startlinecolor\":\"#2a3f5f\"},\"type\":\"carpet\"}],\"table\":[{\"cells\":{\"fill\":{\"color\":\"#EBF0F8\"},\"line\":{\"color\":\"white\"}},\"header\":{\"fill\":{\"color\":\"#C8D4E3\"},\"line\":{\"color\":\"white\"}},\"type\":\"table\"}],\"barpolar\":[{\"marker\":{\"line\":{\"color\":\"#E5ECF6\",\"width\":0.5},\"pattern\":{\"fillmode\":\"overlay\",\"size\":10,\"solidity\":0.2}},\"type\":\"barpolar\"}],\"pie\":[{\"automargin\":true,\"type\":\"pie\"}]},\"layout\":{\"autotypenumbers\":\"strict\",\"colorway\":[\"#636efa\",\"#EF553B\",\"#00cc96\",\"#ab63fa\",\"#FFA15A\",\"#19d3f3\",\"#FF6692\",\"#B6E880\",\"#FF97FF\",\"#FECB52\"],\"font\":{\"color\":\"#2a3f5f\"},\"hovermode\":\"closest\",\"hoverlabel\":{\"align\":\"left\"},\"paper_bgcolor\":\"white\",\"plot_bgcolor\":\"#E5ECF6\",\"polar\":{\"bgcolor\":\"#E5ECF6\",\"angularaxis\":{\"gridcolor\":\"white\",\"linecolor\":\"white\",\"ticks\":\"\"},\"radialaxis\":{\"gridcolor\":\"white\",\"linecolor\":\"white\",\"ticks\":\"\"}},\"ternary\":{\"bgcolor\":\"#E5ECF6\",\"aaxis\":{\"gridcolor\":\"white\",\"linecolor\":\"white\",\"ticks\":\"\"},\"baxis\":{\"gridcolor\":\"white\",\"linecolor\":\"white\",\"ticks\":\"\"},\"caxis\":{\"gridcolor\":\"white\",\"linecolor\":\"white\",\"ticks\":\"\"}},\"coloraxis\":{\"colorbar\":{\"outlinewidth\":0,\"ticks\":\"\"}},\"colorscale\":{\"sequential\":[[0.0,\"#0d0887\"],[0.1111111111111111,\"#46039f\"],[0.2222222222222222,\"#7201a8\"],[0.3333333333333333,\"#9c179e\"],[0.4444444444444444,\"#bd3786\"],[0.5555555555555556,\"#d8576b\"],[0.6666666666666666,\"#ed7953\"],[0.7777777777777778,\"#fb9f3a\"],[0.8888888888888888,\"#fdca26\"],[1.0,\"#f0f921\"]],\"sequentialminus\":[[0.0,\"#0d0887\"],[0.1111111111111111,\"#46039f\"],[0.2222222222222222,\"#7201a8\"],[0.3333333333333333,\"#9c179e\"],[0.4444444444444444,\"#bd3786\"],[0.5555555555555556,\"#d8576b\"],[0.6666666666666666,\"#ed7953\"],[0.7777777777777778,\"#fb9f3a\"],[0.8888888888888888,\"#fdca26\"],[1.0,\"#f0f921\"]],\"diverging\":[[0,\"#8e0152\"],[0.1,\"#c51b7d\"],[0.2,\"#de77ae\"],[0.3,\"#f1b6da\"],[0.4,\"#fde0ef\"],[0.5,\"#f7f7f7\"],[0.6,\"#e6f5d0\"],[0.7,\"#b8e186\"],[0.8,\"#7fbc41\"],[0.9,\"#4d9221\"],[1,\"#276419\"]]},\"xaxis\":{\"gridcolor\":\"white\",\"linecolor\":\"white\",\"ticks\":\"\",\"title\":{\"standoff\":15},\"zerolinecolor\":\"white\",\"automargin\":true,\"zerolinewidth\":2},\"yaxis\":{\"gridcolor\":\"white\",\"linecolor\":\"white\",\"ticks\":\"\",\"title\":{\"standoff\":15},\"zerolinecolor\":\"white\",\"automargin\":true,\"zerolinewidth\":2},\"scene\":{\"xaxis\":{\"backgroundcolor\":\"#E5ECF6\",\"gridcolor\":\"white\",\"linecolor\":\"white\",\"showbackground\":true,\"ticks\":\"\",\"zerolinecolor\":\"white\",\"gridwidth\":2},\"yaxis\":{\"backgroundcolor\":\"#E5ECF6\",\"gridcolor\":\"white\",\"linecolor\":\"white\",\"showbackground\":true,\"ticks\":\"\",\"zerolinecolor\":\"white\",\"gridwidth\":2},\"zaxis\":{\"backgroundcolor\":\"#E5ECF6\",\"gridcolor\":\"white\",\"linecolor\":\"white\",\"showbackground\":true,\"ticks\":\"\",\"zerolinecolor\":\"white\",\"gridwidth\":2}},\"shapedefaults\":{\"line\":{\"color\":\"#2a3f5f\"}},\"annotationdefaults\":{\"arrowcolor\":\"#2a3f5f\",\"arrowhead\":0,\"arrowwidth\":1},\"geo\":{\"bgcolor\":\"white\",\"landcolor\":\"#E5ECF6\",\"subunitcolor\":\"white\",\"showland\":true,\"showlakes\":true,\"lakecolor\":\"white\"},\"title\":{\"x\":0.05},\"mapbox\":{\"style\":\"light\"}}},\"xaxis\":{\"anchor\":\"y\",\"domain\":[0.0,1.0],\"linecolor\":\"black\",\"mirror\":true,\"showline\":true,\"title\":{\"text\":\"chemical shift (ppm)\"},\"autorange\":false,\"ticks\":\"outside\",\"range\":[0.1999999999999999,-0.1999999999999999]},\"yaxis\":{\"anchor\":\"x\",\"domain\":[0.0,1.0],\"linecolor\":\"black\",\"mirror\":true,\"showline\":true,\"title\":{\"text\":\"intensity\"},\"exponentformat\":\"power\",\"showexponent\":\"last\"},\"plot_bgcolor\":\"white\",\"autosize\":false,\"width\":900,\"height\":700},                        {\"responsive\": true}                    ).then(function(){\n",
       "                            \n",
       "var gd = document.getElementById('ec4a6df6-cc37-45a4-8ade-562064f902a7');\n",
       "var x = new MutationObserver(function (mutations, observer) {{\n",
       "        var display = window.getComputedStyle(gd).display;\n",
       "        if (!display || display === 'none') {{\n",
       "            console.log([gd, 'removed!']);\n",
       "            Plotly.purge(gd);\n",
       "            observer.disconnect();\n",
       "        }}\n",
       "}});\n",
       "\n",
       "// Listen for the removal of the full notebook cells\n",
       "var notebookContainer = gd.closest('#notebook-container');\n",
       "if (notebookContainer) {{\n",
       "    x.observe(notebookContainer, {childList: true});\n",
       "}}\n",
       "\n",
       "// Listen for the clearing of the current output cell\n",
       "var outputEl = gd.closest('.output');\n",
       "if (outputEl) {{\n",
       "    x.observe(outputEl, {childList: true});\n",
       "}}\n",
       "\n",
       "                        })                };                });            </script>        </div>"
      ]
     },
     "metadata": {},
     "output_type": "display_data"
    }
   ],
   "source": [
    "fig = sp.plot(ini=True)\n",
    "fig.update_layout(autosize=False, width=900, height=700)\n",
    "fig.show()"
   ]
  },
  {
   "cell_type": "markdown",
   "id": "3c34b3a6-0ae3-4012-9f3d-6126beac584a",
   "metadata": {},
   "source": [
    "### 6.3. Fitting"
   ]
  },
  {
   "cell_type": "markdown",
   "id": "20b2e1da-1b88-4b4f-8589-0456718c5178",
   "metadata": {},
   "source": [
    "To fit experimental spectrum, use the `fit()` method."
   ]
  },
  {
   "cell_type": "code",
   "execution_count": 136,
   "id": "0447e993-4eb1-4fe2-8043-a6a54528b89a",
   "metadata": {},
   "outputs": [
    {
     "name": "stdout",
     "output_type": "stream",
     "text": [
      "2023-01-10 11:43:09,394 | DEBUG : fit spectrum\n",
      "2023-01-10 11:43:09,936 | DEBUG : parameters\n",
      "     signal_id    model        par         ini     lb            ub  \\\n",
      "0  singlet_TSP  singlet         x0        0.00 -0.050  5.000000e-02   \n",
      "1  singlet_TSP  singlet  intensity  1000000.00  1.000  1.000000e+12   \n",
      "2  singlet_TSP  singlet         lw        0.01  0.001  3.000000e-02   \n",
      "3  singlet_TSP  singlet         gl        0.50  0.000  1.000000e+00   \n",
      "\n",
      "            opt      opt_sd     integral  \n",
      "0  2.167009e-09    0.000002  39278.96044  \n",
      "1  1.250012e+06  126.987515  39278.96044  \n",
      "2  1.000263e-02    0.000008  39278.96044  \n",
      "3  1.000000e+00    0.001138  39278.96044  \n"
     ]
    }
   ],
   "source": [
    "sp.fit()"
   ]
  },
  {
   "cell_type": "markdown",
   "id": "29c08e51-f75f-4891-b219-84ffd0efbe4c",
   "metadata": {},
   "source": [
    "Estimated parameters, standard deviations and integrals are now in the params attributes (columns `opt`, `opt_sd` and `integral`, respectively)."
   ]
  },
  {
   "cell_type": "code",
   "execution_count": 137,
   "id": "ee09ffff-ec54-499c-9ad8-43e1624dcd18",
   "metadata": {},
   "outputs": [
    {
     "data": {
      "text/html": [
       "<div>\n",
       "<style scoped>\n",
       "    .dataframe tbody tr th:only-of-type {\n",
       "        vertical-align: middle;\n",
       "    }\n",
       "\n",
       "    .dataframe tbody tr th {\n",
       "        vertical-align: top;\n",
       "    }\n",
       "\n",
       "    .dataframe thead th {\n",
       "        text-align: right;\n",
       "    }\n",
       "</style>\n",
       "<table border=\"1\" class=\"dataframe\">\n",
       "  <thead>\n",
       "    <tr style=\"text-align: right;\">\n",
       "      <th></th>\n",
       "      <th>signal_id</th>\n",
       "      <th>model</th>\n",
       "      <th>par</th>\n",
       "      <th>ini</th>\n",
       "      <th>lb</th>\n",
       "      <th>ub</th>\n",
       "      <th>opt</th>\n",
       "      <th>opt_sd</th>\n",
       "      <th>integral</th>\n",
       "    </tr>\n",
       "  </thead>\n",
       "  <tbody>\n",
       "    <tr>\n",
       "      <th>0</th>\n",
       "      <td>singlet_TSP</td>\n",
       "      <td>singlet</td>\n",
       "      <td>x0</td>\n",
       "      <td>0.00</td>\n",
       "      <td>-0.050</td>\n",
       "      <td>5.000000e-02</td>\n",
       "      <td>2.167009e-09</td>\n",
       "      <td>0.000002</td>\n",
       "      <td>39278.96044</td>\n",
       "    </tr>\n",
       "    <tr>\n",
       "      <th>1</th>\n",
       "      <td>singlet_TSP</td>\n",
       "      <td>singlet</td>\n",
       "      <td>intensity</td>\n",
       "      <td>1000000.00</td>\n",
       "      <td>1.000</td>\n",
       "      <td>1.000000e+12</td>\n",
       "      <td>1.250012e+06</td>\n",
       "      <td>126.987515</td>\n",
       "      <td>39278.96044</td>\n",
       "    </tr>\n",
       "    <tr>\n",
       "      <th>2</th>\n",
       "      <td>singlet_TSP</td>\n",
       "      <td>singlet</td>\n",
       "      <td>lw</td>\n",
       "      <td>0.01</td>\n",
       "      <td>0.001</td>\n",
       "      <td>3.000000e-02</td>\n",
       "      <td>1.000263e-02</td>\n",
       "      <td>0.000008</td>\n",
       "      <td>39278.96044</td>\n",
       "    </tr>\n",
       "    <tr>\n",
       "      <th>3</th>\n",
       "      <td>singlet_TSP</td>\n",
       "      <td>singlet</td>\n",
       "      <td>gl</td>\n",
       "      <td>0.50</td>\n",
       "      <td>0.000</td>\n",
       "      <td>1.000000e+00</td>\n",
       "      <td>1.000000e+00</td>\n",
       "      <td>0.001138</td>\n",
       "      <td>39278.96044</td>\n",
       "    </tr>\n",
       "  </tbody>\n",
       "</table>\n",
       "</div>"
      ],
      "text/plain": [
       "     signal_id    model        par         ini     lb            ub  \\\n",
       "0  singlet_TSP  singlet         x0        0.00 -0.050  5.000000e-02   \n",
       "1  singlet_TSP  singlet  intensity  1000000.00  1.000  1.000000e+12   \n",
       "2  singlet_TSP  singlet         lw        0.01  0.001  3.000000e-02   \n",
       "3  singlet_TSP  singlet         gl        0.50  0.000  1.000000e+00   \n",
       "\n",
       "            opt      opt_sd     integral  \n",
       "0  2.167009e-09    0.000002  39278.96044  \n",
       "1  1.250012e+06  126.987515  39278.96044  \n",
       "2  1.000263e-02    0.000008  39278.96044  \n",
       "3  1.000000e+00    0.001138  39278.96044  "
      ]
     },
     "execution_count": 137,
     "metadata": {},
     "output_type": "execute_result"
    }
   ],
   "source": [
    "sp.params"
   ]
  },
  {
   "cell_type": "markdown",
   "id": "3a046205-1472-4bf7-91c9-3acab22b0bf2",
   "metadata": {},
   "source": [
    "Fitting results can be viewed using the plot method with fit=True."
   ]
  },
  {
   "cell_type": "code",
   "execution_count": 138,
   "id": "98c5753d-a386-4afc-93fc-c39e9ab000af",
   "metadata": {},
   "outputs": [
    {
     "name": "stdout",
     "output_type": "stream",
     "text": [
      "2023-01-10 11:43:09,970 | DEBUG : create plot\n"
     ]
    },
    {
     "data": {
      "application/vnd.plotly.v1+json": {
       "config": {
        "plotlyServerURL": "https://plot.ly"
       },
       "data": [
        {
         "marker": {
          "color": "#386CB0"
         },
         "mode": "markers",
         "name": "exp. spectrum",
         "type": "scatter",
         "x": [
          -0.1999999999999999,
          -0.1968253968253968,
          -0.1936507936507936,
          -0.1904761904761904,
          -0.1873015873015873,
          -0.1841269841269841,
          -0.1809523809523809,
          -0.1777777777777778,
          -0.1746031746031746,
          -0.1714285714285713,
          -0.1682539682539682,
          -0.165079365079365,
          -0.1619047619047618,
          -0.1587301587301587,
          -0.1555555555555555,
          -0.1523809523809524,
          -0.1492063492063492,
          -0.146031746031746,
          -0.1428571428571429,
          -0.1396825396825396,
          -0.1365079365079364,
          -0.1333333333333333,
          -0.1301587301587301,
          -0.1269841269841269,
          -0.1238095238095238,
          -0.1206349206349206,
          -0.1174603174603174,
          -0.1142857142857143,
          -0.1111111111111111,
          -0.1079365079365078,
          -0.1047619047619047,
          -0.1015873015873015,
          -0.0984126984126984,
          -0.0952380952380952,
          -0.092063492063492,
          -0.0888888888888889,
          -0.0857142857142857,
          -0.0825396825396825,
          -0.0793650793650794,
          -0.0761904761904761,
          -0.0730158730158729,
          -0.0698412698412698,
          -0.0666666666666666,
          -0.0634920634920634,
          -0.0603174603174603,
          -0.0571428571428571,
          -0.053968253968254,
          -0.0507936507936508,
          -0.0476190476190476,
          -0.0444444444444444,
          -0.0412698412698412,
          -0.038095238095238,
          -0.0349206349206349,
          -0.0317460317460317,
          -0.0285714285714285,
          -0.0253968253968254,
          -0.0222222222222222,
          -0.019047619047619,
          -0.0158730158730159,
          -0.0126984126984126,
          -0.0095238095238094,
          -0.0063492063492063,
          -0.0031746031746031,
          0,
          0.0031746031746031,
          0.0063492063492063,
          0.0095238095238094,
          0.0126984126984126,
          0.0158730158730158,
          0.0190476190476189,
          0.0222222222222221,
          0.0253968253968253,
          0.0285714285714284,
          0.0317460317460318,
          0.034920634920635,
          0.0380952380952381,
          0.0412698412698413,
          0.0444444444444445,
          0.0476190476190476,
          0.0507936507936508,
          0.053968253968254,
          0.0571428571428571,
          0.0603174603174603,
          0.0634920634920634,
          0.0666666666666666,
          0.0698412698412698,
          0.0730158730158729,
          0.0761904761904761,
          0.0793650793650793,
          0.0825396825396824,
          0.0857142857142856,
          0.0888888888888888,
          0.0920634920634919,
          0.0952380952380953,
          0.0984126984126985,
          0.1015873015873016,
          0.1047619047619048,
          0.107936507936508,
          0.1111111111111111,
          0.1142857142857143,
          0.1174603174603174,
          0.1206349206349206,
          0.1238095238095238,
          0.1269841269841269,
          0.1301587301587301,
          0.1333333333333333,
          0.1365079365079364,
          0.1396825396825396,
          0.1428571428571428,
          0.1460317460317459,
          0.1492063492063491,
          0.1523809523809522,
          0.1555555555555554,
          0.1587301587301588,
          0.161904761904762,
          0.1650793650793651,
          0.1682539682539683,
          0.1714285714285714,
          0.1746031746031746,
          0.1777777777777778,
          0.1809523809523809,
          0.1841269841269841,
          0.1873015873015873,
          0.1904761904761904,
          0.1936507936507936,
          0.1968253968253968,
          0.1999999999999999
         ],
         "xaxis": "x",
         "y": [
          3203.8213991064235,
          3304.9953804123325,
          3411.164836862961,
          3522.66404088274,
          3639.8556725481512,
          3763.133763647805,
          3892.927003571289,
          4029.702458698749,
          4173.969765405678,
          4326.285866798944,
          4487.260375182877,
          4657.561656414764,
          4837.9237492355705,
          5029.154252960412,
          5232.14334133612,
          5447.874089860236,
          5677.434339583963,
          5922.030363873389,
          6183.002657652052,
          6461.844233673511,
          6760.2218904118645,
          7080.001015106422,
          7423.274608374431,
          7792.3973701227005,
          8190.025878726982,
          8619.16613773078,
          9083.23007131418,
          9586.102940977684,
          10132.224157308034,
          10726.684607379988,
          11375.344457799236,
          12084.97649050273,
          12863.441472574465,
          13719.903976641106,
          14665.09962882495,
          15711.668212789427,
          16874.57175256134,
          18171.623140802843,
          19624.15981319587,
          21257.90948612848,
          23104.112706328684,
          25200.992377970106,
          27595.697324856184,
          30346.901209590505,
          33528.319082432376,
          37233.52641405797,
          41582.65405017458,
          46731.827531132905,
          52886.68883104754,
          60322.09975150958,
          69411.38272265853,
          80670.56607297751,
          94826.70482754818,
          112925.56782011809,
          136504.71598862327,
          167876.05440175824,
          210589.5700679826,
          270178.87550814607,
          355252.18629190105,
          478560.307797556,
          655560.5845798899,
          890960.0766567012,
          1135648.3899828095,
          1250091.1286377506,
          1135648.5389350115,
          890960.3745614183,
          655561.0314377496,
          478560.9036094988,
          355252.9310591847,
          270179.7692323337,
          210590.6127509561,
          167877.24604571276,
          136506.05659606747,
          112927.0573938728,
          94828.34337075106,
          80672.35358907796,
          69413.31921541966,
          60324.18522500821,
          52888.9232896744,
          46734.210979591975,
          41585.18649348388,
          37236.207857549336,
          33531.14953175147,
          30349.88067069681,
          27598.8258040231,
          25204.269881784952,
          23107.539241692743,
          21261.48506025704,
          19627.88443361832,
          18175.496815362523,
          16878.594489415795,
          15715.840020410382,
          14669.42051599834,
          13724.37395246709,
          12868.060546467656,
          12089.744672192051,
          11380.261757328044,
          10731.75103510613,
          10137.439723903935,
          9591.467657430334,
          9088.743948925265,
          8624.829188116715,
          8195.838113819003,
          7798.358802166903,
          7429.385249931858,
          7086.260879053124,
          6766.630989938982,
          6468.402582287343,
          6189.710269174148,
          5928.88725244059,
          5684.440519648522,
          5455.029576189883,
          5239.448149014146,
          5036.608397385743,
          4845.5272461229,
          4665.314521794594,
          4495.162625401626,
          4334.337518519044,
          4182.170835605667,
          4038.0529646733567,
          3901.4269629315513,
          3771.7831943211554,
          3648.654592778527,
          3531.6124692306844,
          3420.262792205728,
          3314.242881943995,
          3213.2184663379844
         ],
         "yaxis": "y"
        },
        {
         "marker": {
          "color": "#7FC97F"
         },
         "mode": "lines",
         "name": "initial values",
         "type": "scatter",
         "x": [
          -0.1999999999999999,
          -0.1968253968253968,
          -0.1936507936507936,
          -0.1904761904761904,
          -0.1873015873015873,
          -0.1841269841269841,
          -0.1809523809523809,
          -0.1777777777777778,
          -0.1746031746031746,
          -0.1714285714285713,
          -0.1682539682539682,
          -0.165079365079365,
          -0.1619047619047618,
          -0.1587301587301587,
          -0.1555555555555555,
          -0.1523809523809524,
          -0.1492063492063492,
          -0.146031746031746,
          -0.1428571428571429,
          -0.1396825396825396,
          -0.1365079365079364,
          -0.1333333333333333,
          -0.1301587301587301,
          -0.1269841269841269,
          -0.1238095238095238,
          -0.1206349206349206,
          -0.1174603174603174,
          -0.1142857142857143,
          -0.1111111111111111,
          -0.1079365079365078,
          -0.1047619047619047,
          -0.1015873015873015,
          -0.0984126984126984,
          -0.0952380952380952,
          -0.092063492063492,
          -0.0888888888888889,
          -0.0857142857142857,
          -0.0825396825396825,
          -0.0793650793650794,
          -0.0761904761904761,
          -0.0730158730158729,
          -0.0698412698412698,
          -0.0666666666666666,
          -0.0634920634920634,
          -0.0603174603174603,
          -0.0571428571428571,
          -0.053968253968254,
          -0.0507936507936508,
          -0.0476190476190476,
          -0.0444444444444444,
          -0.0412698412698412,
          -0.038095238095238,
          -0.0349206349206349,
          -0.0317460317460317,
          -0.0285714285714285,
          -0.0253968253968254,
          -0.0222222222222222,
          -0.019047619047619,
          -0.0158730158730159,
          -0.0126984126984126,
          -0.0095238095238094,
          -0.0063492063492063,
          -0.0031746031746031,
          0,
          0.0031746031746031,
          0.0063492063492063,
          0.0095238095238094,
          0.0126984126984126,
          0.0158730158730158,
          0.0190476190476189,
          0.0222222222222221,
          0.0253968253968253,
          0.0285714285714284,
          0.0317460317460318,
          0.034920634920635,
          0.0380952380952381,
          0.0412698412698413,
          0.0444444444444445,
          0.0476190476190476,
          0.0507936507936508,
          0.053968253968254,
          0.0571428571428571,
          0.0603174603174603,
          0.0634920634920634,
          0.0666666666666666,
          0.0698412698412698,
          0.0730158730158729,
          0.0761904761904761,
          0.0793650793650793,
          0.0825396825396824,
          0.0857142857142856,
          0.0888888888888888,
          0.0920634920634919,
          0.0952380952380953,
          0.0984126984126985,
          0.1015873015873016,
          0.1047619047619048,
          0.107936507936508,
          0.1111111111111111,
          0.1142857142857143,
          0.1174603174603174,
          0.1206349206349206,
          0.1238095238095238,
          0.1269841269841269,
          0.1301587301587301,
          0.1333333333333333,
          0.1365079365079364,
          0.1396825396825396,
          0.1428571428571428,
          0.1460317460317459,
          0.1492063492063491,
          0.1523809523809522,
          0.1555555555555554,
          0.1587301587301588,
          0.161904761904762,
          0.1650793650793651,
          0.1682539682539683,
          0.1714285714285714,
          0.1746031746031746,
          0.1777777777777778,
          0.1809523809523809,
          0.1841269841269841,
          0.1873015873015873,
          0.1904761904761904,
          0.1936507936507936,
          0.1968253968253968,
          0.1999999999999999
         ],
         "xaxis": "x",
         "y": [
          1246.8827930174575,
          1287.324797008762,
          1329.7649575942685,
          1374.336983688709,
          1421.1859472675203,
          1470.4694609908795,
          1522.3590005592353,
          1577.0413924691397,
          1634.7204912151797,
          1695.6190739843616,
          1759.9809856425645,
          1828.0735724767399,
          1900.1904499271836,
          1976.6546576637334,
          2057.8222651288056,
          2144.0865024649697,
          2235.88250603615,
          2333.6927851321025,
          2438.053537665438,
          2549.5619686806676,
          2668.8847975103895,
          2796.768178993165,
          2934.04931331862,
          3081.6700803920735,
          3240.6931115062985,
          3412.3208080210625,
          3597.917939550631,
          3799.038610637308,
          4017.458585457792,
          4255.214218783849,
          4514.64957719949,
          4798.473773421129,
          5109.831114223844,
          5452.387428599693,
          5830.43696693883,
          6249.03564264774,
          6714.168265278217,
          7232.959991836624,
          7813.945796544717,
          8467.416765993275,
          9205.86911979737,
          10044.592028746432,
          11002.445099456654,
          12102.898380451275,
          13375.4418605414,
          14857.529980199348,
          16597.348100995736,
          18658.00055377957,
          21124.623364872434,
          24118.484669223726,
          27828.605288180002,
          32585.00962700688,
          39019.07380769631,
          48374.013770952784,
          63005.64363341541,
          86992.22344266638,
          126528.57851084958,
          189530.88582600962,
          283925.178447144,
          414652.85000211746,
          579883.3659658594,
          765074.042211631,
          929651.9426363404,
          1000000,
          929651.9426363404,
          765074.042211631,
          579883.3659658594,
          414652.85000211746,
          283925.17844714754,
          189530.88582601206,
          126528.57851085108,
          86992.22344266735,
          63005.643633416,
          48374.01377095243,
          39019.07380769608,
          32585.009627006708,
          27828.60528817988,
          24118.484669223617,
          21124.623364872434,
          18658.00055377957,
          16597.348100995736,
          14857.529980199348,
          13375.4418605414,
          12102.898380451275,
          11002.445099456654,
          10044.592028746432,
          9205.86911979737,
          8467.416765993275,
          7813.945796544736,
          7232.959991836642,
          6714.168265278231,
          6249.035642647758,
          5830.436966938843,
          5452.38742859968,
          5109.831114223836,
          4798.47377342112,
          4514.649577199481,
          4255.2142187838335,
          4017.458585457792,
          3799.038610637308,
          3597.917939550631,
          3412.3208080210625,
          3240.6931115062985,
          3081.6700803920735,
          2934.04931331862,
          2796.768178993165,
          2668.8847975103895,
          2549.5619686806676,
          2438.0535376654416,
          2333.6927851321057,
          2235.882506036154,
          2144.086502464975,
          2057.822265128809,
          1976.6546576637309,
          1900.1904499271786,
          1828.0735724767376,
          1759.9809856425627,
          1695.6190739843596,
          1634.7204912151797,
          1577.0413924691397,
          1522.3590005592353,
          1470.4694609908795,
          1421.1859472675203,
          1374.336983688709,
          1329.7649575942685,
          1287.324797008762,
          1246.8827930174575
         ],
         "yaxis": "y"
        },
        {
         "marker": {
          "color": "#EF553B"
         },
         "mode": "lines",
         "name": "best fit",
         "type": "scatter",
         "x": [
          -0.1999999999999999,
          -0.1968253968253968,
          -0.1936507936507936,
          -0.1904761904761904,
          -0.1873015873015873,
          -0.1841269841269841,
          -0.1809523809523809,
          -0.1777777777777778,
          -0.1746031746031746,
          -0.1714285714285713,
          -0.1682539682539682,
          -0.165079365079365,
          -0.1619047619047618,
          -0.1587301587301587,
          -0.1555555555555555,
          -0.1523809523809524,
          -0.1492063492063492,
          -0.146031746031746,
          -0.1428571428571429,
          -0.1396825396825396,
          -0.1365079365079364,
          -0.1333333333333333,
          -0.1301587301587301,
          -0.1269841269841269,
          -0.1238095238095238,
          -0.1206349206349206,
          -0.1174603174603174,
          -0.1142857142857143,
          -0.1111111111111111,
          -0.1079365079365078,
          -0.1047619047619047,
          -0.1015873015873015,
          -0.0984126984126984,
          -0.0952380952380952,
          -0.092063492063492,
          -0.0888888888888889,
          -0.0857142857142857,
          -0.0825396825396825,
          -0.0793650793650794,
          -0.0761904761904761,
          -0.0730158730158729,
          -0.0698412698412698,
          -0.0666666666666666,
          -0.0634920634920634,
          -0.0603174603174603,
          -0.0571428571428571,
          -0.053968253968254,
          -0.0507936507936508,
          -0.0476190476190476,
          -0.0444444444444444,
          -0.0412698412698412,
          -0.038095238095238,
          -0.0349206349206349,
          -0.0317460317460317,
          -0.0285714285714285,
          -0.0253968253968254,
          -0.0222222222222222,
          -0.019047619047619,
          -0.0158730158730159,
          -0.0126984126984126,
          -0.0095238095238094,
          -0.0063492063492063,
          -0.0031746031746031,
          0,
          0.0031746031746031,
          0.0063492063492063,
          0.0095238095238094,
          0.0126984126984126,
          0.0158730158730158,
          0.0190476190476189,
          0.0222222222222221,
          0.0253968253968253,
          0.0285714285714284,
          0.0317460317460318,
          0.034920634920635,
          0.0380952380952381,
          0.0412698412698413,
          0.0444444444444445,
          0.0476190476190476,
          0.0507936507936508,
          0.053968253968254,
          0.0571428571428571,
          0.0603174603174603,
          0.0634920634920634,
          0.0666666666666666,
          0.0698412698412698,
          0.0730158730158729,
          0.0761904761904761,
          0.0793650793650793,
          0.0825396825396824,
          0.0857142857142856,
          0.0888888888888888,
          0.0920634920634919,
          0.0952380952380953,
          0.0984126984126985,
          0.1015873015873016,
          0.1047619047619048,
          0.107936507936508,
          0.1111111111111111,
          0.1142857142857143,
          0.1174603174603174,
          0.1206349206349206,
          0.1238095238095238,
          0.1269841269841269,
          0.1301587301587301,
          0.1333333333333333,
          0.1365079365079364,
          0.1396825396825396,
          0.1428571428571428,
          0.1460317460317459,
          0.1492063492063491,
          0.1523809523809522,
          0.1555555555555554,
          0.1587301587301588,
          0.161904761904762,
          0.1650793650793651,
          0.1682539682539683,
          0.1714285714285714,
          0.1746031746031746,
          0.1777777777777778,
          0.1809523809523809,
          0.1841269841269841,
          0.1873015873015873,
          0.1904761904761904,
          0.1936507936507936,
          0.1968253968253968,
          0.1999999999999999
         ],
         "xaxis": "x",
         "y": [
          3118.8750203839936,
          3220.033993978628,
          3326.191015963475,
          3437.6805356151426,
          3554.865424819432,
          3678.1399236711322,
          3807.9329480902875,
          3944.7118111534996,
          4088.986418285595,
          4241.314006463523,
          4402.304509473386,
          4572.626645428982,
          4753.014839695236,
          4944.277116669057,
          5147.304118304927,
          5363.079436774398,
          5592.6914843948225,
          5837.34716743574,
          6098.387683486679,
          6377.3068271277,
          6675.772268722616,
          6995.650370151741,
          7339.035224238581,
          7708.282758016106,
          8106.05093230956,
          8535.34731251164,
          8999.585592571442,
          9502.653045599061,
          10048.991376145723,
          10643.694096208703,
          11292.624386851576,
          12002.558504945131,
          12781.361239333395,
          13638.201836898077,
          14583.821380545007,
          15630.866054208,
          16794.305426140578,
          18091.9613284878,
          19545.181848837045,
          21179.707471061447,
          23026.79414125005,
          25124.683461167588,
          27520.547117453505,
          30273.08693836792,
          33456.05294804669,
          37163.06440866875,
          41514.3074800211,
          46665.97820936185,
          52823.80928435719,
          60262.78030678099,
          69356.36803601554,
          80620.80451404366,
          94783.4149371562,
          112890.32606200778,
          136479.56680708655,
          167863.63001323966,
          210593.16275929395,
          270202.2714903837,
          355298.6968492353,
          478629.52315348556,
          655640.0254750886,
          891012.2589806063,
          1135622.8248070548,
          1250011.9788859345,
          1135623.1085568268,
          891012.6083337951,
          655640.3092144236,
          478629.72477010486,
          355298.8357244044,
          270202.3678725303,
          210593.23106451676,
          167863.67961196706,
          136479.60369168798,
          112890.35410218406,
          94783.4366804165,
          80620.82167505076,
          69356.38179490242,
          60262.79149326539,
          52823.818493473416,
          46665.9858757003,
          41514.313926339775,
          37163.069878359755,
          33456.057627232105,
          30273.090971204805,
          27520.55061691052,
          25124.68651672971,
          23026.79682450556,
          21179.709839806892,
          19545.18395013038,
          18091.963200944967,
          16794.307101681727,
          15630.867559398104,
          14583.822737632687,
          13638.203064627594,
          12781.362353584638,
          12002.559519241464,
          11292.625312766144,
          10643.694943691493,
          10048.992153788622,
          9502.653760851696,
          8999.586251918337,
          8535.347921618106,
          8106.051496142549,
          7708.283280944808,
          7339.035710118572,
          6995.650822395622,
          6675.772690359598,
          6377.30722085408,
          6098.388051708734,
          5837.3475123062835,
          5592.691807844563,
          5363.079740538834,
          5147.304403947515,
          4944.277385601261,
          4753.01509319392,
          4572.626884651481,
          4402.304735470674,
          4241.3142201917135,
          4088.986620616039,
          3944.712002881612,
          3807.933129943363,
          3678.1400963152137,
          3554.8655888653952,
          3437.680691624084,
          3326.1911644514944,
          3220.0341354210914,
          3118.875155219323
         ],
         "yaxis": "y"
        },
        {
         "marker": {
          "color": "#AB63FA"
         },
         "mode": "lines",
         "name": "residuum",
         "type": "scatter",
         "x": [
          -0.1999999999999999,
          -0.1968253968253968,
          -0.1936507936507936,
          -0.1904761904761904,
          -0.1873015873015873,
          -0.1841269841269841,
          -0.1809523809523809,
          -0.1777777777777778,
          -0.1746031746031746,
          -0.1714285714285713,
          -0.1682539682539682,
          -0.165079365079365,
          -0.1619047619047618,
          -0.1587301587301587,
          -0.1555555555555555,
          -0.1523809523809524,
          -0.1492063492063492,
          -0.146031746031746,
          -0.1428571428571429,
          -0.1396825396825396,
          -0.1365079365079364,
          -0.1333333333333333,
          -0.1301587301587301,
          -0.1269841269841269,
          -0.1238095238095238,
          -0.1206349206349206,
          -0.1174603174603174,
          -0.1142857142857143,
          -0.1111111111111111,
          -0.1079365079365078,
          -0.1047619047619047,
          -0.1015873015873015,
          -0.0984126984126984,
          -0.0952380952380952,
          -0.092063492063492,
          -0.0888888888888889,
          -0.0857142857142857,
          -0.0825396825396825,
          -0.0793650793650794,
          -0.0761904761904761,
          -0.0730158730158729,
          -0.0698412698412698,
          -0.0666666666666666,
          -0.0634920634920634,
          -0.0603174603174603,
          -0.0571428571428571,
          -0.053968253968254,
          -0.0507936507936508,
          -0.0476190476190476,
          -0.0444444444444444,
          -0.0412698412698412,
          -0.038095238095238,
          -0.0349206349206349,
          -0.0317460317460317,
          -0.0285714285714285,
          -0.0253968253968254,
          -0.0222222222222222,
          -0.019047619047619,
          -0.0158730158730159,
          -0.0126984126984126,
          -0.0095238095238094,
          -0.0063492063492063,
          -0.0031746031746031,
          0,
          0.0031746031746031,
          0.0063492063492063,
          0.0095238095238094,
          0.0126984126984126,
          0.0158730158730158,
          0.0190476190476189,
          0.0222222222222221,
          0.0253968253968253,
          0.0285714285714284,
          0.0317460317460318,
          0.034920634920635,
          0.0380952380952381,
          0.0412698412698413,
          0.0444444444444445,
          0.0476190476190476,
          0.0507936507936508,
          0.053968253968254,
          0.0571428571428571,
          0.0603174603174603,
          0.0634920634920634,
          0.0666666666666666,
          0.0698412698412698,
          0.0730158730158729,
          0.0761904761904761,
          0.0793650793650793,
          0.0825396825396824,
          0.0857142857142856,
          0.0888888888888888,
          0.0920634920634919,
          0.0952380952380953,
          0.0984126984126985,
          0.1015873015873016,
          0.1047619047619048,
          0.107936507936508,
          0.1111111111111111,
          0.1142857142857143,
          0.1174603174603174,
          0.1206349206349206,
          0.1238095238095238,
          0.1269841269841269,
          0.1301587301587301,
          0.1333333333333333,
          0.1365079365079364,
          0.1396825396825396,
          0.1428571428571428,
          0.1460317460317459,
          0.1492063492063491,
          0.1523809523809522,
          0.1555555555555554,
          0.1587301587301588,
          0.161904761904762,
          0.1650793650793651,
          0.1682539682539683,
          0.1714285714285714,
          0.1746031746031746,
          0.1777777777777778,
          0.1809523809523809,
          0.1841269841269841,
          0.1873015873015873,
          0.1904761904761904,
          0.1936507936507936,
          0.1968253968253968,
          0.1999999999999999
         ],
         "xaxis": "x2",
         "y": [
          -84.94637872242993,
          -84.96138643370432,
          -84.97382089948587,
          -84.9835052675976,
          -84.99024772871917,
          -84.99383997667292,
          -84.9940554810014,
          -84.99064754524943,
          -84.98334712008318,
          -84.9718603354213,
          -84.95586570949126,
          -84.93501098578236,
          -84.90890954033421,
          -84.87713629135487,
          -84.83922303119289,
          -84.79465308583804,
          -84.74285518914076,
          -84.68319643764971,
          -84.6149741653735,
          -84.53740654581088,
          -84.44962168924849,
          -84.35064495468032,
          -84.23938413585074,
          -84.1146121065949,
          -83.97494641742196,
          -83.8188252191394,
          -83.64447874273719,
          -83.44989537862239,
          -83.23278116231086,
          -82.9905111712851,
          -82.72007094766013,
          -82.41798555759851,
          -82.08023324106944,
          -81.70213974302897,
          -81.278248279943,
          -80.80215858142765,
          -80.2663264207622,
          -79.66181231504379,
          -78.97796435882628,
          -78.20201506703233,
          -77.31856507863267,
          -76.30891680251807,
          -75.15020740267937,
          -73.81427122258538,
          -72.26613438568893,
          -70.46200538921403,
          -68.3465701534733,
          -65.84932177105657,
          -62.87954669035389,
          -59.319444728593226,
          -55.01468664298591,
          -49.76155893385294,
          -43.289890391984954,
          -35.24175811030727,
          -25.14918153671897,
          -12.424388518586056,
          3.592691311350791,
          23.39598223764915,
          46.510557334229816,
          69.21535592956934,
          79.44089519872796,
          52.18232390517369,
          -25.56517575471662,
          -79.14975181617774,
          -25.43037818465382,
          52.233772376785055,
          79.27777667401824,
          68.8211606060504,
          45.904665219655726,
          22.598640196607448,
          2.618313560669776,
          -13.566433745698305,
          -26.452904379490064,
          -36.70329168874014,
          -44.90669033455197,
          -51.53191402720404,
          -56.937420517235296,
          -61.39373174282082,
          -65.1047962009834,
          -68.22510389167292,
          -70.87256714410614,
          -73.13797918958153,
          -75.09190451936593,
          -76.78969949200473,
          -78.27518711258017,
          -79.5833650552413,
          -80.74241718718258,
          -81.77522045014848,
          -82.7004834879408,
          -83.53361441755624,
          -84.28738773406803,
          -84.97246101227756,
          -85.59777836565263,
          -86.17088783949475,
          -86.69819288301733,
          -87.18515295058751,
          -87.63644456190013,
          -88.0560914146372,
          -88.44757011531328,
          -88.81389657863838,
          -89.15769700692726,
          -89.48126649860933,
          -89.78661767645463,
          -90.07552122209472,
          -90.34953981328636,
          -90.61005665750235,
          -90.85829957938404,
          -91.09536143326295,
          -91.32221746541472,
          -91.53974013430616,
          -91.74871180395894,
          -91.9498356510494,
          -92.1437450666308,
          -92.33101178448214,
          -92.51215292897996,
          -92.68763714311262,
          -92.8578899309523,
          -93.02329832733085,
          -93.18421498962789,
          -93.34096179174458,
          -93.49383298818839,
          -93.64309800594174,
          -93.78900391313164,
          -93.93177760660046,
          -94.07162775423376,
          -94.20874652290377,
          -94.3433111186614
         ],
         "yaxis": "y2"
        }
       ],
       "layout": {
        "autosize": false,
        "height": 700,
        "plot_bgcolor": "white",
        "shapes": [
         {
          "line": {
           "color": "black",
           "dash": "dash",
           "width": 1
          },
          "type": "line",
          "x0": -0.1999999999999999,
          "x1": 0.1999999999999999,
          "xref": "x2",
          "y0": 0,
          "y1": 0,
          "yref": "y2"
         }
        ],
        "template": {
         "data": {
          "bar": [
           {
            "error_x": {
             "color": "#2a3f5f"
            },
            "error_y": {
             "color": "#2a3f5f"
            },
            "marker": {
             "line": {
              "color": "#E5ECF6",
              "width": 0.5
             },
             "pattern": {
              "fillmode": "overlay",
              "size": 10,
              "solidity": 0.2
             }
            },
            "type": "bar"
           }
          ],
          "barpolar": [
           {
            "marker": {
             "line": {
              "color": "#E5ECF6",
              "width": 0.5
             },
             "pattern": {
              "fillmode": "overlay",
              "size": 10,
              "solidity": 0.2
             }
            },
            "type": "barpolar"
           }
          ],
          "carpet": [
           {
            "aaxis": {
             "endlinecolor": "#2a3f5f",
             "gridcolor": "white",
             "linecolor": "white",
             "minorgridcolor": "white",
             "startlinecolor": "#2a3f5f"
            },
            "baxis": {
             "endlinecolor": "#2a3f5f",
             "gridcolor": "white",
             "linecolor": "white",
             "minorgridcolor": "white",
             "startlinecolor": "#2a3f5f"
            },
            "type": "carpet"
           }
          ],
          "choropleth": [
           {
            "colorbar": {
             "outlinewidth": 0,
             "ticks": ""
            },
            "type": "choropleth"
           }
          ],
          "contour": [
           {
            "colorbar": {
             "outlinewidth": 0,
             "ticks": ""
            },
            "colorscale": [
             [
              0,
              "#0d0887"
             ],
             [
              0.1111111111111111,
              "#46039f"
             ],
             [
              0.2222222222222222,
              "#7201a8"
             ],
             [
              0.3333333333333333,
              "#9c179e"
             ],
             [
              0.4444444444444444,
              "#bd3786"
             ],
             [
              0.5555555555555556,
              "#d8576b"
             ],
             [
              0.6666666666666666,
              "#ed7953"
             ],
             [
              0.7777777777777778,
              "#fb9f3a"
             ],
             [
              0.8888888888888888,
              "#fdca26"
             ],
             [
              1,
              "#f0f921"
             ]
            ],
            "type": "contour"
           }
          ],
          "contourcarpet": [
           {
            "colorbar": {
             "outlinewidth": 0,
             "ticks": ""
            },
            "type": "contourcarpet"
           }
          ],
          "heatmap": [
           {
            "colorbar": {
             "outlinewidth": 0,
             "ticks": ""
            },
            "colorscale": [
             [
              0,
              "#0d0887"
             ],
             [
              0.1111111111111111,
              "#46039f"
             ],
             [
              0.2222222222222222,
              "#7201a8"
             ],
             [
              0.3333333333333333,
              "#9c179e"
             ],
             [
              0.4444444444444444,
              "#bd3786"
             ],
             [
              0.5555555555555556,
              "#d8576b"
             ],
             [
              0.6666666666666666,
              "#ed7953"
             ],
             [
              0.7777777777777778,
              "#fb9f3a"
             ],
             [
              0.8888888888888888,
              "#fdca26"
             ],
             [
              1,
              "#f0f921"
             ]
            ],
            "type": "heatmap"
           }
          ],
          "heatmapgl": [
           {
            "colorbar": {
             "outlinewidth": 0,
             "ticks": ""
            },
            "colorscale": [
             [
              0,
              "#0d0887"
             ],
             [
              0.1111111111111111,
              "#46039f"
             ],
             [
              0.2222222222222222,
              "#7201a8"
             ],
             [
              0.3333333333333333,
              "#9c179e"
             ],
             [
              0.4444444444444444,
              "#bd3786"
             ],
             [
              0.5555555555555556,
              "#d8576b"
             ],
             [
              0.6666666666666666,
              "#ed7953"
             ],
             [
              0.7777777777777778,
              "#fb9f3a"
             ],
             [
              0.8888888888888888,
              "#fdca26"
             ],
             [
              1,
              "#f0f921"
             ]
            ],
            "type": "heatmapgl"
           }
          ],
          "histogram": [
           {
            "marker": {
             "pattern": {
              "fillmode": "overlay",
              "size": 10,
              "solidity": 0.2
             }
            },
            "type": "histogram"
           }
          ],
          "histogram2d": [
           {
            "colorbar": {
             "outlinewidth": 0,
             "ticks": ""
            },
            "colorscale": [
             [
              0,
              "#0d0887"
             ],
             [
              0.1111111111111111,
              "#46039f"
             ],
             [
              0.2222222222222222,
              "#7201a8"
             ],
             [
              0.3333333333333333,
              "#9c179e"
             ],
             [
              0.4444444444444444,
              "#bd3786"
             ],
             [
              0.5555555555555556,
              "#d8576b"
             ],
             [
              0.6666666666666666,
              "#ed7953"
             ],
             [
              0.7777777777777778,
              "#fb9f3a"
             ],
             [
              0.8888888888888888,
              "#fdca26"
             ],
             [
              1,
              "#f0f921"
             ]
            ],
            "type": "histogram2d"
           }
          ],
          "histogram2dcontour": [
           {
            "colorbar": {
             "outlinewidth": 0,
             "ticks": ""
            },
            "colorscale": [
             [
              0,
              "#0d0887"
             ],
             [
              0.1111111111111111,
              "#46039f"
             ],
             [
              0.2222222222222222,
              "#7201a8"
             ],
             [
              0.3333333333333333,
              "#9c179e"
             ],
             [
              0.4444444444444444,
              "#bd3786"
             ],
             [
              0.5555555555555556,
              "#d8576b"
             ],
             [
              0.6666666666666666,
              "#ed7953"
             ],
             [
              0.7777777777777778,
              "#fb9f3a"
             ],
             [
              0.8888888888888888,
              "#fdca26"
             ],
             [
              1,
              "#f0f921"
             ]
            ],
            "type": "histogram2dcontour"
           }
          ],
          "mesh3d": [
           {
            "colorbar": {
             "outlinewidth": 0,
             "ticks": ""
            },
            "type": "mesh3d"
           }
          ],
          "parcoords": [
           {
            "line": {
             "colorbar": {
              "outlinewidth": 0,
              "ticks": ""
             }
            },
            "type": "parcoords"
           }
          ],
          "pie": [
           {
            "automargin": true,
            "type": "pie"
           }
          ],
          "scatter": [
           {
            "fillpattern": {
             "fillmode": "overlay",
             "size": 10,
             "solidity": 0.2
            },
            "type": "scatter"
           }
          ],
          "scatter3d": [
           {
            "line": {
             "colorbar": {
              "outlinewidth": 0,
              "ticks": ""
             }
            },
            "marker": {
             "colorbar": {
              "outlinewidth": 0,
              "ticks": ""
             }
            },
            "type": "scatter3d"
           }
          ],
          "scattercarpet": [
           {
            "marker": {
             "colorbar": {
              "outlinewidth": 0,
              "ticks": ""
             }
            },
            "type": "scattercarpet"
           }
          ],
          "scattergeo": [
           {
            "marker": {
             "colorbar": {
              "outlinewidth": 0,
              "ticks": ""
             }
            },
            "type": "scattergeo"
           }
          ],
          "scattergl": [
           {
            "marker": {
             "colorbar": {
              "outlinewidth": 0,
              "ticks": ""
             }
            },
            "type": "scattergl"
           }
          ],
          "scattermapbox": [
           {
            "marker": {
             "colorbar": {
              "outlinewidth": 0,
              "ticks": ""
             }
            },
            "type": "scattermapbox"
           }
          ],
          "scatterpolar": [
           {
            "marker": {
             "colorbar": {
              "outlinewidth": 0,
              "ticks": ""
             }
            },
            "type": "scatterpolar"
           }
          ],
          "scatterpolargl": [
           {
            "marker": {
             "colorbar": {
              "outlinewidth": 0,
              "ticks": ""
             }
            },
            "type": "scatterpolargl"
           }
          ],
          "scatterternary": [
           {
            "marker": {
             "colorbar": {
              "outlinewidth": 0,
              "ticks": ""
             }
            },
            "type": "scatterternary"
           }
          ],
          "surface": [
           {
            "colorbar": {
             "outlinewidth": 0,
             "ticks": ""
            },
            "colorscale": [
             [
              0,
              "#0d0887"
             ],
             [
              0.1111111111111111,
              "#46039f"
             ],
             [
              0.2222222222222222,
              "#7201a8"
             ],
             [
              0.3333333333333333,
              "#9c179e"
             ],
             [
              0.4444444444444444,
              "#bd3786"
             ],
             [
              0.5555555555555556,
              "#d8576b"
             ],
             [
              0.6666666666666666,
              "#ed7953"
             ],
             [
              0.7777777777777778,
              "#fb9f3a"
             ],
             [
              0.8888888888888888,
              "#fdca26"
             ],
             [
              1,
              "#f0f921"
             ]
            ],
            "type": "surface"
           }
          ],
          "table": [
           {
            "cells": {
             "fill": {
              "color": "#EBF0F8"
             },
             "line": {
              "color": "white"
             }
            },
            "header": {
             "fill": {
              "color": "#C8D4E3"
             },
             "line": {
              "color": "white"
             }
            },
            "type": "table"
           }
          ]
         },
         "layout": {
          "annotationdefaults": {
           "arrowcolor": "#2a3f5f",
           "arrowhead": 0,
           "arrowwidth": 1
          },
          "autotypenumbers": "strict",
          "coloraxis": {
           "colorbar": {
            "outlinewidth": 0,
            "ticks": ""
           }
          },
          "colorscale": {
           "diverging": [
            [
             0,
             "#8e0152"
            ],
            [
             0.1,
             "#c51b7d"
            ],
            [
             0.2,
             "#de77ae"
            ],
            [
             0.3,
             "#f1b6da"
            ],
            [
             0.4,
             "#fde0ef"
            ],
            [
             0.5,
             "#f7f7f7"
            ],
            [
             0.6,
             "#e6f5d0"
            ],
            [
             0.7,
             "#b8e186"
            ],
            [
             0.8,
             "#7fbc41"
            ],
            [
             0.9,
             "#4d9221"
            ],
            [
             1,
             "#276419"
            ]
           ],
           "sequential": [
            [
             0,
             "#0d0887"
            ],
            [
             0.1111111111111111,
             "#46039f"
            ],
            [
             0.2222222222222222,
             "#7201a8"
            ],
            [
             0.3333333333333333,
             "#9c179e"
            ],
            [
             0.4444444444444444,
             "#bd3786"
            ],
            [
             0.5555555555555556,
             "#d8576b"
            ],
            [
             0.6666666666666666,
             "#ed7953"
            ],
            [
             0.7777777777777778,
             "#fb9f3a"
            ],
            [
             0.8888888888888888,
             "#fdca26"
            ],
            [
             1,
             "#f0f921"
            ]
           ],
           "sequentialminus": [
            [
             0,
             "#0d0887"
            ],
            [
             0.1111111111111111,
             "#46039f"
            ],
            [
             0.2222222222222222,
             "#7201a8"
            ],
            [
             0.3333333333333333,
             "#9c179e"
            ],
            [
             0.4444444444444444,
             "#bd3786"
            ],
            [
             0.5555555555555556,
             "#d8576b"
            ],
            [
             0.6666666666666666,
             "#ed7953"
            ],
            [
             0.7777777777777778,
             "#fb9f3a"
            ],
            [
             0.8888888888888888,
             "#fdca26"
            ],
            [
             1,
             "#f0f921"
            ]
           ]
          },
          "colorway": [
           "#636efa",
           "#EF553B",
           "#00cc96",
           "#ab63fa",
           "#FFA15A",
           "#19d3f3",
           "#FF6692",
           "#B6E880",
           "#FF97FF",
           "#FECB52"
          ],
          "font": {
           "color": "#2a3f5f"
          },
          "geo": {
           "bgcolor": "white",
           "lakecolor": "white",
           "landcolor": "#E5ECF6",
           "showlakes": true,
           "showland": true,
           "subunitcolor": "white"
          },
          "hoverlabel": {
           "align": "left"
          },
          "hovermode": "closest",
          "mapbox": {
           "style": "light"
          },
          "paper_bgcolor": "white",
          "plot_bgcolor": "#E5ECF6",
          "polar": {
           "angularaxis": {
            "gridcolor": "white",
            "linecolor": "white",
            "ticks": ""
           },
           "bgcolor": "#E5ECF6",
           "radialaxis": {
            "gridcolor": "white",
            "linecolor": "white",
            "ticks": ""
           }
          },
          "scene": {
           "xaxis": {
            "backgroundcolor": "#E5ECF6",
            "gridcolor": "white",
            "gridwidth": 2,
            "linecolor": "white",
            "showbackground": true,
            "ticks": "",
            "zerolinecolor": "white"
           },
           "yaxis": {
            "backgroundcolor": "#E5ECF6",
            "gridcolor": "white",
            "gridwidth": 2,
            "linecolor": "white",
            "showbackground": true,
            "ticks": "",
            "zerolinecolor": "white"
           },
           "zaxis": {
            "backgroundcolor": "#E5ECF6",
            "gridcolor": "white",
            "gridwidth": 2,
            "linecolor": "white",
            "showbackground": true,
            "ticks": "",
            "zerolinecolor": "white"
           }
          },
          "shapedefaults": {
           "line": {
            "color": "#2a3f5f"
           }
          },
          "ternary": {
           "aaxis": {
            "gridcolor": "white",
            "linecolor": "white",
            "ticks": ""
           },
           "baxis": {
            "gridcolor": "white",
            "linecolor": "white",
            "ticks": ""
           },
           "bgcolor": "#E5ECF6",
           "caxis": {
            "gridcolor": "white",
            "linecolor": "white",
            "ticks": ""
           }
          },
          "title": {
           "x": 0.05
          },
          "xaxis": {
           "automargin": true,
           "gridcolor": "white",
           "linecolor": "white",
           "ticks": "",
           "title": {
            "standoff": 15
           },
           "zerolinecolor": "white",
           "zerolinewidth": 2
          },
          "yaxis": {
           "automargin": true,
           "gridcolor": "white",
           "linecolor": "white",
           "ticks": "",
           "title": {
            "standoff": 15
           },
           "zerolinecolor": "white",
           "zerolinewidth": 2
          }
         }
        },
        "width": 900,
        "xaxis": {
         "anchor": "y",
         "autorange": false,
         "domain": [
          0,
          1
         ],
         "linecolor": "black",
         "matches": "x2",
         "mirror": true,
         "range": [
          0.1999999999999999,
          -0.1999999999999999
         ],
         "showline": true,
         "showticklabels": false,
         "ticks": "outside",
         "type": "linear"
        },
        "xaxis2": {
         "anchor": "y2",
         "autorange": false,
         "domain": [
          0,
          1
         ],
         "linecolor": "black",
         "mirror": true,
         "range": [
          0.1999999999999999,
          -0.1999999999999999
         ],
         "showline": true,
         "ticks": "outside",
         "title": {
          "text": "chemical shift (ppm)"
         },
         "type": "linear"
        },
        "yaxis": {
         "anchor": "x",
         "autorange": true,
         "domain": [
          0.405,
          1
         ],
         "exponentformat": "power",
         "linecolor": "black",
         "mirror": true,
         "range": [
          -85241.60982737255,
          1338536.5598642295
         ],
         "showexponent": "last",
         "showline": true,
         "title": {
          "text": "intensity"
         },
         "type": "linear"
        },
        "yaxis2": {
         "anchor": "x2",
         "autorange": true,
         "domain": [
          0,
          0.255
         ],
         "exponentformat": "power",
         "linecolor": "black",
         "mirror": true,
         "range": [
          -103.99798924740526,
          89.09557332747181
         ],
         "showexponent": "last",
         "showline": true,
         "title": {
          "text": "residuum"
         },
         "type": "linear"
        }
       }
      },
      "image/png": "[encoded data removed]",
      "text/html": [
       "<div>                            <div id=\"fa19ed20-4e29-4d71-b281-45988866a1b9\" class=\"plotly-graph-div\" style=\"height:700px; width:900px;\"></div>            <script type=\"text/javascript\">                require([\"plotly\"], function(Plotly) {                    window.PLOTLYENV=window.PLOTLYENV || {};                                    if (document.getElementById(\"fa19ed20-4e29-4d71-b281-45988866a1b9\")) {                    Plotly.newPlot(                        \"fa19ed20-4e29-4d71-b281-45988866a1b9\",                        [{\"marker\":{\"color\":\"#386CB0\"},\"mode\":\"markers\",\"name\":\"exp. spectrum\",\"x\":[-0.1999999999999999,-0.1968253968253968,-0.1936507936507936,-0.1904761904761904,-0.1873015873015873,-0.1841269841269841,-0.1809523809523809,-0.1777777777777778,-0.1746031746031746,-0.1714285714285713,-0.1682539682539682,-0.165079365079365,-0.1619047619047618,-0.1587301587301587,-0.1555555555555555,-0.1523809523809524,-0.1492063492063492,-0.146031746031746,-0.1428571428571429,-0.1396825396825396,-0.1365079365079364,-0.1333333333333333,-0.1301587301587301,-0.1269841269841269,-0.1238095238095238,-0.1206349206349206,-0.1174603174603174,-0.1142857142857143,-0.1111111111111111,-0.1079365079365078,-0.1047619047619047,-0.1015873015873015,-0.0984126984126984,-0.0952380952380952,-0.092063492063492,-0.0888888888888889,-0.0857142857142857,-0.0825396825396825,-0.0793650793650794,-0.0761904761904761,-0.0730158730158729,-0.0698412698412698,-0.0666666666666666,-0.0634920634920634,-0.0603174603174603,-0.0571428571428571,-0.053968253968254,-0.0507936507936508,-0.0476190476190476,-0.0444444444444444,-0.0412698412698412,-0.038095238095238,-0.0349206349206349,-0.0317460317460317,-0.0285714285714285,-0.0253968253968254,-0.0222222222222222,-0.019047619047619,-0.0158730158730159,-0.0126984126984126,-0.0095238095238094,-0.0063492063492063,-0.0031746031746031,0.0,0.0031746031746031,0.0063492063492063,0.0095238095238094,0.0126984126984126,0.0158730158730158,0.0190476190476189,0.0222222222222221,0.0253968253968253,0.0285714285714284,0.0317460317460318,0.034920634920635,0.0380952380952381,0.0412698412698413,0.0444444444444445,0.0476190476190476,0.0507936507936508,0.053968253968254,0.0571428571428571,0.0603174603174603,0.0634920634920634,0.0666666666666666,0.0698412698412698,0.0730158730158729,0.0761904761904761,0.0793650793650793,0.0825396825396824,0.0857142857142856,0.0888888888888888,0.0920634920634919,0.0952380952380953,0.0984126984126985,0.1015873015873016,0.1047619047619048,0.107936507936508,0.1111111111111111,0.1142857142857143,0.1174603174603174,0.1206349206349206,0.1238095238095238,0.1269841269841269,0.1301587301587301,0.1333333333333333,0.1365079365079364,0.1396825396825396,0.1428571428571428,0.1460317460317459,0.1492063492063491,0.1523809523809522,0.1555555555555554,0.1587301587301588,0.161904761904762,0.1650793650793651,0.1682539682539683,0.1714285714285714,0.1746031746031746,0.1777777777777778,0.1809523809523809,0.1841269841269841,0.1873015873015873,0.1904761904761904,0.1936507936507936,0.1968253968253968,0.1999999999999999],\"y\":[3203.8213991064235,3304.9953804123325,3411.164836862961,3522.66404088274,3639.8556725481512,3763.133763647805,3892.927003571289,4029.702458698749,4173.969765405678,4326.285866798944,4487.260375182877,4657.561656414764,4837.9237492355705,5029.154252960412,5232.14334133612,5447.874089860236,5677.434339583963,5922.030363873389,6183.002657652052,6461.844233673511,6760.2218904118645,7080.001015106422,7423.274608374431,7792.3973701227005,8190.025878726982,8619.16613773078,9083.23007131418,9586.102940977684,10132.224157308034,10726.684607379988,11375.344457799236,12084.97649050273,12863.441472574465,13719.903976641106,14665.09962882495,15711.668212789427,16874.57175256134,18171.623140802843,19624.15981319587,21257.90948612848,23104.112706328684,25200.992377970106,27595.697324856184,30346.901209590505,33528.319082432376,37233.52641405797,41582.65405017458,46731.827531132905,52886.68883104754,60322.09975150958,69411.38272265853,80670.56607297751,94826.70482754818,112925.56782011809,136504.71598862327,167876.05440175824,210589.5700679826,270178.87550814607,355252.18629190105,478560.307797556,655560.5845798899,890960.0766567012,1135648.3899828095,1250091.1286377506,1135648.5389350115,890960.3745614183,655561.0314377496,478560.9036094988,355252.9310591847,270179.7692323337,210590.6127509561,167877.24604571276,136506.05659606747,112927.0573938728,94828.34337075106,80672.35358907796,69413.31921541966,60324.18522500821,52888.9232896744,46734.210979591975,41585.18649348388,37236.207857549336,33531.14953175147,30349.88067069681,27598.8258040231,25204.269881784952,23107.539241692743,21261.48506025704,19627.88443361832,18175.496815362523,16878.594489415795,15715.840020410382,14669.42051599834,13724.37395246709,12868.060546467656,12089.744672192051,11380.261757328044,10731.75103510613,10137.439723903935,9591.467657430334,9088.743948925265,8624.829188116715,8195.838113819003,7798.358802166903,7429.385249931858,7086.260879053124,6766.630989938982,6468.402582287343,6189.710269174148,5928.88725244059,5684.440519648522,5455.029576189883,5239.448149014146,5036.608397385743,4845.5272461229,4665.314521794594,4495.162625401626,4334.337518519044,4182.170835605667,4038.0529646733567,3901.4269629315513,3771.7831943211554,3648.654592778527,3531.6124692306844,3420.262792205728,3314.242881943995,3213.2184663379844],\"type\":\"scatter\",\"xaxis\":\"x\",\"yaxis\":\"y\"},{\"marker\":{\"color\":\"#7FC97F\"},\"mode\":\"lines\",\"name\":\"initial values\",\"x\":[-0.1999999999999999,-0.1968253968253968,-0.1936507936507936,-0.1904761904761904,-0.1873015873015873,-0.1841269841269841,-0.1809523809523809,-0.1777777777777778,-0.1746031746031746,-0.1714285714285713,-0.1682539682539682,-0.165079365079365,-0.1619047619047618,-0.1587301587301587,-0.1555555555555555,-0.1523809523809524,-0.1492063492063492,-0.146031746031746,-0.1428571428571429,-0.1396825396825396,-0.1365079365079364,-0.1333333333333333,-0.1301587301587301,-0.1269841269841269,-0.1238095238095238,-0.1206349206349206,-0.1174603174603174,-0.1142857142857143,-0.1111111111111111,-0.1079365079365078,-0.1047619047619047,-0.1015873015873015,-0.0984126984126984,-0.0952380952380952,-0.092063492063492,-0.0888888888888889,-0.0857142857142857,-0.0825396825396825,-0.0793650793650794,-0.0761904761904761,-0.0730158730158729,-0.0698412698412698,-0.0666666666666666,-0.0634920634920634,-0.0603174603174603,-0.0571428571428571,-0.053968253968254,-0.0507936507936508,-0.0476190476190476,-0.0444444444444444,-0.0412698412698412,-0.038095238095238,-0.0349206349206349,-0.0317460317460317,-0.0285714285714285,-0.0253968253968254,-0.0222222222222222,-0.019047619047619,-0.0158730158730159,-0.0126984126984126,-0.0095238095238094,-0.0063492063492063,-0.0031746031746031,0.0,0.0031746031746031,0.0063492063492063,0.0095238095238094,0.0126984126984126,0.0158730158730158,0.0190476190476189,0.0222222222222221,0.0253968253968253,0.0285714285714284,0.0317460317460318,0.034920634920635,0.0380952380952381,0.0412698412698413,0.0444444444444445,0.0476190476190476,0.0507936507936508,0.053968253968254,0.0571428571428571,0.0603174603174603,0.0634920634920634,0.0666666666666666,0.0698412698412698,0.0730158730158729,0.0761904761904761,0.0793650793650793,0.0825396825396824,0.0857142857142856,0.0888888888888888,0.0920634920634919,0.0952380952380953,0.0984126984126985,0.1015873015873016,0.1047619047619048,0.107936507936508,0.1111111111111111,0.1142857142857143,0.1174603174603174,0.1206349206349206,0.1238095238095238,0.1269841269841269,0.1301587301587301,0.1333333333333333,0.1365079365079364,0.1396825396825396,0.1428571428571428,0.1460317460317459,0.1492063492063491,0.1523809523809522,0.1555555555555554,0.1587301587301588,0.161904761904762,0.1650793650793651,0.1682539682539683,0.1714285714285714,0.1746031746031746,0.1777777777777778,0.1809523809523809,0.1841269841269841,0.1873015873015873,0.1904761904761904,0.1936507936507936,0.1968253968253968,0.1999999999999999],\"y\":[1246.8827930174575,1287.324797008762,1329.7649575942685,1374.336983688709,1421.1859472675203,1470.4694609908795,1522.3590005592353,1577.0413924691397,1634.7204912151797,1695.6190739843616,1759.9809856425645,1828.0735724767399,1900.1904499271836,1976.6546576637334,2057.8222651288056,2144.0865024649697,2235.88250603615,2333.6927851321025,2438.053537665438,2549.5619686806676,2668.8847975103895,2796.768178993165,2934.04931331862,3081.6700803920735,3240.6931115062985,3412.3208080210625,3597.917939550631,3799.038610637308,4017.458585457792,4255.214218783849,4514.64957719949,4798.473773421129,5109.831114223844,5452.387428599693,5830.43696693883,6249.03564264774,6714.168265278217,7232.959991836624,7813.945796544717,8467.416765993275,9205.86911979737,10044.592028746432,11002.445099456654,12102.898380451275,13375.4418605414,14857.529980199348,16597.348100995736,18658.00055377957,21124.623364872434,24118.484669223726,27828.605288180002,32585.00962700688,39019.07380769631,48374.013770952784,63005.64363341541,86992.22344266638,126528.57851084958,189530.88582600962,283925.178447144,414652.85000211746,579883.3659658594,765074.042211631,929651.9426363404,1000000.0,929651.9426363404,765074.042211631,579883.3659658594,414652.85000211746,283925.17844714754,189530.88582601206,126528.57851085108,86992.22344266735,63005.643633416,48374.01377095243,39019.07380769608,32585.009627006708,27828.60528817988,24118.484669223617,21124.623364872434,18658.00055377957,16597.348100995736,14857.529980199348,13375.4418605414,12102.898380451275,11002.445099456654,10044.592028746432,9205.86911979737,8467.416765993275,7813.945796544736,7232.959991836642,6714.168265278231,6249.035642647758,5830.436966938843,5452.38742859968,5109.831114223836,4798.47377342112,4514.649577199481,4255.2142187838335,4017.458585457792,3799.038610637308,3597.917939550631,3412.3208080210625,3240.6931115062985,3081.6700803920735,2934.04931331862,2796.768178993165,2668.8847975103895,2549.5619686806676,2438.0535376654416,2333.6927851321057,2235.882506036154,2144.086502464975,2057.822265128809,1976.6546576637309,1900.1904499271786,1828.0735724767376,1759.9809856425627,1695.6190739843596,1634.7204912151797,1577.0413924691397,1522.3590005592353,1470.4694609908795,1421.1859472675203,1374.336983688709,1329.7649575942685,1287.324797008762,1246.8827930174575],\"type\":\"scatter\",\"xaxis\":\"x\",\"yaxis\":\"y\"},{\"marker\":{\"color\":\"#EF553B\"},\"mode\":\"lines\",\"name\":\"best fit\",\"x\":[-0.1999999999999999,-0.1968253968253968,-0.1936507936507936,-0.1904761904761904,-0.1873015873015873,-0.1841269841269841,-0.1809523809523809,-0.1777777777777778,-0.1746031746031746,-0.1714285714285713,-0.1682539682539682,-0.165079365079365,-0.1619047619047618,-0.1587301587301587,-0.1555555555555555,-0.1523809523809524,-0.1492063492063492,-0.146031746031746,-0.1428571428571429,-0.1396825396825396,-0.1365079365079364,-0.1333333333333333,-0.1301587301587301,-0.1269841269841269,-0.1238095238095238,-0.1206349206349206,-0.1174603174603174,-0.1142857142857143,-0.1111111111111111,-0.1079365079365078,-0.1047619047619047,-0.1015873015873015,-0.0984126984126984,-0.0952380952380952,-0.092063492063492,-0.0888888888888889,-0.0857142857142857,-0.0825396825396825,-0.0793650793650794,-0.0761904761904761,-0.0730158730158729,-0.0698412698412698,-0.0666666666666666,-0.0634920634920634,-0.0603174603174603,-0.0571428571428571,-0.053968253968254,-0.0507936507936508,-0.0476190476190476,-0.0444444444444444,-0.0412698412698412,-0.038095238095238,-0.0349206349206349,-0.0317460317460317,-0.0285714285714285,-0.0253968253968254,-0.0222222222222222,-0.019047619047619,-0.0158730158730159,-0.0126984126984126,-0.0095238095238094,-0.0063492063492063,-0.0031746031746031,0.0,0.0031746031746031,0.0063492063492063,0.0095238095238094,0.0126984126984126,0.0158730158730158,0.0190476190476189,0.0222222222222221,0.0253968253968253,0.0285714285714284,0.0317460317460318,0.034920634920635,0.0380952380952381,0.0412698412698413,0.0444444444444445,0.0476190476190476,0.0507936507936508,0.053968253968254,0.0571428571428571,0.0603174603174603,0.0634920634920634,0.0666666666666666,0.0698412698412698,0.0730158730158729,0.0761904761904761,0.0793650793650793,0.0825396825396824,0.0857142857142856,0.0888888888888888,0.0920634920634919,0.0952380952380953,0.0984126984126985,0.1015873015873016,0.1047619047619048,0.107936507936508,0.1111111111111111,0.1142857142857143,0.1174603174603174,0.1206349206349206,0.1238095238095238,0.1269841269841269,0.1301587301587301,0.1333333333333333,0.1365079365079364,0.1396825396825396,0.1428571428571428,0.1460317460317459,0.1492063492063491,0.1523809523809522,0.1555555555555554,0.1587301587301588,0.161904761904762,0.1650793650793651,0.1682539682539683,0.1714285714285714,0.1746031746031746,0.1777777777777778,0.1809523809523809,0.1841269841269841,0.1873015873015873,0.1904761904761904,0.1936507936507936,0.1968253968253968,0.1999999999999999],\"y\":[3118.8750203839936,3220.033993978628,3326.191015963475,3437.6805356151426,3554.865424819432,3678.1399236711322,3807.9329480902875,3944.7118111534996,4088.986418285595,4241.314006463523,4402.304509473386,4572.626645428982,4753.014839695236,4944.277116669057,5147.304118304927,5363.079436774398,5592.6914843948225,5837.34716743574,6098.387683486679,6377.3068271277,6675.772268722616,6995.650370151741,7339.035224238581,7708.282758016106,8106.05093230956,8535.34731251164,8999.585592571442,9502.653045599061,10048.991376145723,10643.694096208703,11292.624386851576,12002.558504945131,12781.361239333395,13638.201836898077,14583.821380545007,15630.866054208,16794.305426140578,18091.9613284878,19545.181848837045,21179.707471061447,23026.79414125005,25124.683461167588,27520.547117453505,30273.08693836792,33456.05294804669,37163.06440866875,41514.3074800211,46665.97820936185,52823.80928435719,60262.78030678099,69356.36803601554,80620.80451404366,94783.4149371562,112890.32606200778,136479.56680708655,167863.63001323966,210593.16275929395,270202.2714903837,355298.6968492353,478629.52315348556,655640.0254750886,891012.2589806063,1135622.8248070548,1250011.9788859345,1135623.1085568268,891012.6083337951,655640.3092144236,478629.72477010486,355298.8357244044,270202.3678725303,210593.23106451676,167863.67961196706,136479.60369168798,112890.35410218406,94783.4366804165,80620.82167505076,69356.38179490242,60262.79149326539,52823.818493473416,46665.9858757003,41514.313926339775,37163.069878359755,33456.057627232105,30273.090971204805,27520.55061691052,25124.68651672971,23026.79682450556,21179.709839806892,19545.18395013038,18091.963200944967,16794.307101681727,15630.867559398104,14583.822737632687,13638.203064627594,12781.362353584638,12002.559519241464,11292.625312766144,10643.694943691493,10048.992153788622,9502.653760851696,8999.586251918337,8535.347921618106,8106.051496142549,7708.283280944808,7339.035710118572,6995.650822395622,6675.772690359598,6377.30722085408,6098.388051708734,5837.3475123062835,5592.691807844563,5363.079740538834,5147.304403947515,4944.277385601261,4753.01509319392,4572.626884651481,4402.304735470674,4241.3142201917135,4088.986620616039,3944.712002881612,3807.933129943363,3678.1400963152137,3554.8655888653952,3437.680691624084,3326.1911644514944,3220.0341354210914,3118.875155219323],\"type\":\"scatter\",\"xaxis\":\"x\",\"yaxis\":\"y\"},{\"marker\":{\"color\":\"#AB63FA\"},\"mode\":\"lines\",\"name\":\"residuum\",\"x\":[-0.1999999999999999,-0.1968253968253968,-0.1936507936507936,-0.1904761904761904,-0.1873015873015873,-0.1841269841269841,-0.1809523809523809,-0.1777777777777778,-0.1746031746031746,-0.1714285714285713,-0.1682539682539682,-0.165079365079365,-0.1619047619047618,-0.1587301587301587,-0.1555555555555555,-0.1523809523809524,-0.1492063492063492,-0.146031746031746,-0.1428571428571429,-0.1396825396825396,-0.1365079365079364,-0.1333333333333333,-0.1301587301587301,-0.1269841269841269,-0.1238095238095238,-0.1206349206349206,-0.1174603174603174,-0.1142857142857143,-0.1111111111111111,-0.1079365079365078,-0.1047619047619047,-0.1015873015873015,-0.0984126984126984,-0.0952380952380952,-0.092063492063492,-0.0888888888888889,-0.0857142857142857,-0.0825396825396825,-0.0793650793650794,-0.0761904761904761,-0.0730158730158729,-0.0698412698412698,-0.0666666666666666,-0.0634920634920634,-0.0603174603174603,-0.0571428571428571,-0.053968253968254,-0.0507936507936508,-0.0476190476190476,-0.0444444444444444,-0.0412698412698412,-0.038095238095238,-0.0349206349206349,-0.0317460317460317,-0.0285714285714285,-0.0253968253968254,-0.0222222222222222,-0.019047619047619,-0.0158730158730159,-0.0126984126984126,-0.0095238095238094,-0.0063492063492063,-0.0031746031746031,0.0,0.0031746031746031,0.0063492063492063,0.0095238095238094,0.0126984126984126,0.0158730158730158,0.0190476190476189,0.0222222222222221,0.0253968253968253,0.0285714285714284,0.0317460317460318,0.034920634920635,0.0380952380952381,0.0412698412698413,0.0444444444444445,0.0476190476190476,0.0507936507936508,0.053968253968254,0.0571428571428571,0.0603174603174603,0.0634920634920634,0.0666666666666666,0.0698412698412698,0.0730158730158729,0.0761904761904761,0.0793650793650793,0.0825396825396824,0.0857142857142856,0.0888888888888888,0.0920634920634919,0.0952380952380953,0.0984126984126985,0.1015873015873016,0.1047619047619048,0.107936507936508,0.1111111111111111,0.1142857142857143,0.1174603174603174,0.1206349206349206,0.1238095238095238,0.1269841269841269,0.1301587301587301,0.1333333333333333,0.1365079365079364,0.1396825396825396,0.1428571428571428,0.1460317460317459,0.1492063492063491,0.1523809523809522,0.1555555555555554,0.1587301587301588,0.161904761904762,0.1650793650793651,0.1682539682539683,0.1714285714285714,0.1746031746031746,0.1777777777777778,0.1809523809523809,0.1841269841269841,0.1873015873015873,0.1904761904761904,0.1936507936507936,0.1968253968253968,0.1999999999999999],\"y\":[-84.94637872242993,-84.96138643370432,-84.97382089948587,-84.9835052675976,-84.99024772871917,-84.99383997667292,-84.9940554810014,-84.99064754524943,-84.98334712008318,-84.9718603354213,-84.95586570949126,-84.93501098578236,-84.90890954033421,-84.87713629135487,-84.83922303119289,-84.79465308583804,-84.74285518914076,-84.68319643764971,-84.6149741653735,-84.53740654581088,-84.44962168924849,-84.35064495468032,-84.23938413585074,-84.1146121065949,-83.97494641742196,-83.8188252191394,-83.64447874273719,-83.44989537862239,-83.23278116231086,-82.9905111712851,-82.72007094766013,-82.41798555759851,-82.08023324106944,-81.70213974302897,-81.278248279943,-80.80215858142765,-80.2663264207622,-79.66181231504379,-78.97796435882628,-78.20201506703233,-77.31856507863267,-76.30891680251807,-75.15020740267937,-73.81427122258538,-72.26613438568893,-70.46200538921403,-68.3465701534733,-65.84932177105657,-62.87954669035389,-59.319444728593226,-55.01468664298591,-49.76155893385294,-43.289890391984954,-35.24175811030727,-25.14918153671897,-12.424388518586056,3.592691311350791,23.39598223764915,46.510557334229816,69.21535592956934,79.44089519872796,52.18232390517369,-25.56517575471662,-79.14975181617774,-25.43037818465382,52.233772376785055,79.27777667401824,68.8211606060504,45.904665219655726,22.598640196607448,2.618313560669776,-13.566433745698305,-26.452904379490064,-36.70329168874014,-44.90669033455197,-51.53191402720404,-56.937420517235296,-61.39373174282082,-65.1047962009834,-68.22510389167292,-70.87256714410614,-73.13797918958153,-75.09190451936593,-76.78969949200473,-78.27518711258017,-79.5833650552413,-80.74241718718258,-81.77522045014848,-82.7004834879408,-83.53361441755624,-84.28738773406803,-84.97246101227756,-85.59777836565263,-86.17088783949475,-86.69819288301733,-87.18515295058751,-87.63644456190013,-88.0560914146372,-88.44757011531328,-88.81389657863838,-89.15769700692726,-89.48126649860933,-89.78661767645463,-90.07552122209472,-90.34953981328636,-90.61005665750235,-90.85829957938404,-91.09536143326295,-91.32221746541472,-91.53974013430616,-91.74871180395894,-91.9498356510494,-92.1437450666308,-92.33101178448214,-92.51215292897996,-92.68763714311262,-92.8578899309523,-93.02329832733085,-93.18421498962789,-93.34096179174458,-93.49383298818839,-93.64309800594174,-93.78900391313164,-93.93177760660046,-94.07162775423376,-94.20874652290377,-94.3433111186614],\"type\":\"scatter\",\"xaxis\":\"x2\",\"yaxis\":\"y2\"}],                        {\"template\":{\"data\":{\"histogram2dcontour\":[{\"type\":\"histogram2dcontour\",\"colorbar\":{\"outlinewidth\":0,\"ticks\":\"\"},\"colorscale\":[[0.0,\"#0d0887\"],[0.1111111111111111,\"#46039f\"],[0.2222222222222222,\"#7201a8\"],[0.3333333333333333,\"#9c179e\"],[0.4444444444444444,\"#bd3786\"],[0.5555555555555556,\"#d8576b\"],[0.6666666666666666,\"#ed7953\"],[0.7777777777777778,\"#fb9f3a\"],[0.8888888888888888,\"#fdca26\"],[1.0,\"#f0f921\"]]}],\"choropleth\":[{\"type\":\"choropleth\",\"colorbar\":{\"outlinewidth\":0,\"ticks\":\"\"}}],\"histogram2d\":[{\"type\":\"histogram2d\",\"colorbar\":{\"outlinewidth\":0,\"ticks\":\"\"},\"colorscale\":[[0.0,\"#0d0887\"],[0.1111111111111111,\"#46039f\"],[0.2222222222222222,\"#7201a8\"],[0.3333333333333333,\"#9c179e\"],[0.4444444444444444,\"#bd3786\"],[0.5555555555555556,\"#d8576b\"],[0.6666666666666666,\"#ed7953\"],[0.7777777777777778,\"#fb9f3a\"],[0.8888888888888888,\"#fdca26\"],[1.0,\"#f0f921\"]]}],\"heatmap\":[{\"type\":\"heatmap\",\"colorbar\":{\"outlinewidth\":0,\"ticks\":\"\"},\"colorscale\":[[0.0,\"#0d0887\"],[0.1111111111111111,\"#46039f\"],[0.2222222222222222,\"#7201a8\"],[0.3333333333333333,\"#9c179e\"],[0.4444444444444444,\"#bd3786\"],[0.5555555555555556,\"#d8576b\"],[0.6666666666666666,\"#ed7953\"],[0.7777777777777778,\"#fb9f3a\"],[0.8888888888888888,\"#fdca26\"],[1.0,\"#f0f921\"]]}],\"heatmapgl\":[{\"type\":\"heatmapgl\",\"colorbar\":{\"outlinewidth\":0,\"ticks\":\"\"},\"colorscale\":[[0.0,\"#0d0887\"],[0.1111111111111111,\"#46039f\"],[0.2222222222222222,\"#7201a8\"],[0.3333333333333333,\"#9c179e\"],[0.4444444444444444,\"#bd3786\"],[0.5555555555555556,\"#d8576b\"],[0.6666666666666666,\"#ed7953\"],[0.7777777777777778,\"#fb9f3a\"],[0.8888888888888888,\"#fdca26\"],[1.0,\"#f0f921\"]]}],\"contourcarpet\":[{\"type\":\"contourcarpet\",\"colorbar\":{\"outlinewidth\":0,\"ticks\":\"\"}}],\"contour\":[{\"type\":\"contour\",\"colorbar\":{\"outlinewidth\":0,\"ticks\":\"\"},\"colorscale\":[[0.0,\"#0d0887\"],[0.1111111111111111,\"#46039f\"],[0.2222222222222222,\"#7201a8\"],[0.3333333333333333,\"#9c179e\"],[0.4444444444444444,\"#bd3786\"],[0.5555555555555556,\"#d8576b\"],[0.6666666666666666,\"#ed7953\"],[0.7777777777777778,\"#fb9f3a\"],[0.8888888888888888,\"#fdca26\"],[1.0,\"#f0f921\"]]}],\"surface\":[{\"type\":\"surface\",\"colorbar\":{\"outlinewidth\":0,\"ticks\":\"\"},\"colorscale\":[[0.0,\"#0d0887\"],[0.1111111111111111,\"#46039f\"],[0.2222222222222222,\"#7201a8\"],[0.3333333333333333,\"#9c179e\"],[0.4444444444444444,\"#bd3786\"],[0.5555555555555556,\"#d8576b\"],[0.6666666666666666,\"#ed7953\"],[0.7777777777777778,\"#fb9f3a\"],[0.8888888888888888,\"#fdca26\"],[1.0,\"#f0f921\"]]}],\"mesh3d\":[{\"type\":\"mesh3d\",\"colorbar\":{\"outlinewidth\":0,\"ticks\":\"\"}}],\"scatter\":[{\"fillpattern\":{\"fillmode\":\"overlay\",\"size\":10,\"solidity\":0.2},\"type\":\"scatter\"}],\"parcoords\":[{\"type\":\"parcoords\",\"line\":{\"colorbar\":{\"outlinewidth\":0,\"ticks\":\"\"}}}],\"scatterpolargl\":[{\"type\":\"scatterpolargl\",\"marker\":{\"colorbar\":{\"outlinewidth\":0,\"ticks\":\"\"}}}],\"bar\":[{\"error_x\":{\"color\":\"#2a3f5f\"},\"error_y\":{\"color\":\"#2a3f5f\"},\"marker\":{\"line\":{\"color\":\"#E5ECF6\",\"width\":0.5},\"pattern\":{\"fillmode\":\"overlay\",\"size\":10,\"solidity\":0.2}},\"type\":\"bar\"}],\"scattergeo\":[{\"type\":\"scattergeo\",\"marker\":{\"colorbar\":{\"outlinewidth\":0,\"ticks\":\"\"}}}],\"scatterpolar\":[{\"type\":\"scatterpolar\",\"marker\":{\"colorbar\":{\"outlinewidth\":0,\"ticks\":\"\"}}}],\"histogram\":[{\"marker\":{\"pattern\":{\"fillmode\":\"overlay\",\"size\":10,\"solidity\":0.2}},\"type\":\"histogram\"}],\"scattergl\":[{\"type\":\"scattergl\",\"marker\":{\"colorbar\":{\"outlinewidth\":0,\"ticks\":\"\"}}}],\"scatter3d\":[{\"type\":\"scatter3d\",\"line\":{\"colorbar\":{\"outlinewidth\":0,\"ticks\":\"\"}},\"marker\":{\"colorbar\":{\"outlinewidth\":0,\"ticks\":\"\"}}}],\"scattermapbox\":[{\"type\":\"scattermapbox\",\"marker\":{\"colorbar\":{\"outlinewidth\":0,\"ticks\":\"\"}}}],\"scatterternary\":[{\"type\":\"scatterternary\",\"marker\":{\"colorbar\":{\"outlinewidth\":0,\"ticks\":\"\"}}}],\"scattercarpet\":[{\"type\":\"scattercarpet\",\"marker\":{\"colorbar\":{\"outlinewidth\":0,\"ticks\":\"\"}}}],\"carpet\":[{\"aaxis\":{\"endlinecolor\":\"#2a3f5f\",\"gridcolor\":\"white\",\"linecolor\":\"white\",\"minorgridcolor\":\"white\",\"startlinecolor\":\"#2a3f5f\"},\"baxis\":{\"endlinecolor\":\"#2a3f5f\",\"gridcolor\":\"white\",\"linecolor\":\"white\",\"minorgridcolor\":\"white\",\"startlinecolor\":\"#2a3f5f\"},\"type\":\"carpet\"}],\"table\":[{\"cells\":{\"fill\":{\"color\":\"#EBF0F8\"},\"line\":{\"color\":\"white\"}},\"header\":{\"fill\":{\"color\":\"#C8D4E3\"},\"line\":{\"color\":\"white\"}},\"type\":\"table\"}],\"barpolar\":[{\"marker\":{\"line\":{\"color\":\"#E5ECF6\",\"width\":0.5},\"pattern\":{\"fillmode\":\"overlay\",\"size\":10,\"solidity\":0.2}},\"type\":\"barpolar\"}],\"pie\":[{\"automargin\":true,\"type\":\"pie\"}]},\"layout\":{\"autotypenumbers\":\"strict\",\"colorway\":[\"#636efa\",\"#EF553B\",\"#00cc96\",\"#ab63fa\",\"#FFA15A\",\"#19d3f3\",\"#FF6692\",\"#B6E880\",\"#FF97FF\",\"#FECB52\"],\"font\":{\"color\":\"#2a3f5f\"},\"hovermode\":\"closest\",\"hoverlabel\":{\"align\":\"left\"},\"paper_bgcolor\":\"white\",\"plot_bgcolor\":\"#E5ECF6\",\"polar\":{\"bgcolor\":\"#E5ECF6\",\"angularaxis\":{\"gridcolor\":\"white\",\"linecolor\":\"white\",\"ticks\":\"\"},\"radialaxis\":{\"gridcolor\":\"white\",\"linecolor\":\"white\",\"ticks\":\"\"}},\"ternary\":{\"bgcolor\":\"#E5ECF6\",\"aaxis\":{\"gridcolor\":\"white\",\"linecolor\":\"white\",\"ticks\":\"\"},\"baxis\":{\"gridcolor\":\"white\",\"linecolor\":\"white\",\"ticks\":\"\"},\"caxis\":{\"gridcolor\":\"white\",\"linecolor\":\"white\",\"ticks\":\"\"}},\"coloraxis\":{\"colorbar\":{\"outlinewidth\":0,\"ticks\":\"\"}},\"colorscale\":{\"sequential\":[[0.0,\"#0d0887\"],[0.1111111111111111,\"#46039f\"],[0.2222222222222222,\"#7201a8\"],[0.3333333333333333,\"#9c179e\"],[0.4444444444444444,\"#bd3786\"],[0.5555555555555556,\"#d8576b\"],[0.6666666666666666,\"#ed7953\"],[0.7777777777777778,\"#fb9f3a\"],[0.8888888888888888,\"#fdca26\"],[1.0,\"#f0f921\"]],\"sequentialminus\":[[0.0,\"#0d0887\"],[0.1111111111111111,\"#46039f\"],[0.2222222222222222,\"#7201a8\"],[0.3333333333333333,\"#9c179e\"],[0.4444444444444444,\"#bd3786\"],[0.5555555555555556,\"#d8576b\"],[0.6666666666666666,\"#ed7953\"],[0.7777777777777778,\"#fb9f3a\"],[0.8888888888888888,\"#fdca26\"],[1.0,\"#f0f921\"]],\"diverging\":[[0,\"#8e0152\"],[0.1,\"#c51b7d\"],[0.2,\"#de77ae\"],[0.3,\"#f1b6da\"],[0.4,\"#fde0ef\"],[0.5,\"#f7f7f7\"],[0.6,\"#e6f5d0\"],[0.7,\"#b8e186\"],[0.8,\"#7fbc41\"],[0.9,\"#4d9221\"],[1,\"#276419\"]]},\"xaxis\":{\"gridcolor\":\"white\",\"linecolor\":\"white\",\"ticks\":\"\",\"title\":{\"standoff\":15},\"zerolinecolor\":\"white\",\"automargin\":true,\"zerolinewidth\":2},\"yaxis\":{\"gridcolor\":\"white\",\"linecolor\":\"white\",\"ticks\":\"\",\"title\":{\"standoff\":15},\"zerolinecolor\":\"white\",\"automargin\":true,\"zerolinewidth\":2},\"scene\":{\"xaxis\":{\"backgroundcolor\":\"#E5ECF6\",\"gridcolor\":\"white\",\"linecolor\":\"white\",\"showbackground\":true,\"ticks\":\"\",\"zerolinecolor\":\"white\",\"gridwidth\":2},\"yaxis\":{\"backgroundcolor\":\"#E5ECF6\",\"gridcolor\":\"white\",\"linecolor\":\"white\",\"showbackground\":true,\"ticks\":\"\",\"zerolinecolor\":\"white\",\"gridwidth\":2},\"zaxis\":{\"backgroundcolor\":\"#E5ECF6\",\"gridcolor\":\"white\",\"linecolor\":\"white\",\"showbackground\":true,\"ticks\":\"\",\"zerolinecolor\":\"white\",\"gridwidth\":2}},\"shapedefaults\":{\"line\":{\"color\":\"#2a3f5f\"}},\"annotationdefaults\":{\"arrowcolor\":\"#2a3f5f\",\"arrowhead\":0,\"arrowwidth\":1},\"geo\":{\"bgcolor\":\"white\",\"landcolor\":\"#E5ECF6\",\"subunitcolor\":\"white\",\"showland\":true,\"showlakes\":true,\"lakecolor\":\"white\"},\"title\":{\"x\":0.05},\"mapbox\":{\"style\":\"light\"}}},\"xaxis\":{\"anchor\":\"y\",\"domain\":[0.0,1.0],\"matches\":\"x2\",\"showticklabels\":false,\"linecolor\":\"black\",\"mirror\":true,\"showline\":true,\"autorange\":false,\"ticks\":\"outside\",\"range\":[0.1999999999999999,-0.1999999999999999]},\"yaxis\":{\"anchor\":\"x\",\"domain\":[0.405,1.0],\"linecolor\":\"black\",\"mirror\":true,\"showline\":true,\"title\":{\"text\":\"intensity\"},\"exponentformat\":\"power\",\"showexponent\":\"last\"},\"xaxis2\":{\"anchor\":\"y2\",\"domain\":[0.0,1.0],\"linecolor\":\"black\",\"mirror\":true,\"showline\":true,\"title\":{\"text\":\"chemical shift (ppm)\"},\"autorange\":false,\"ticks\":\"outside\",\"range\":[0.1999999999999999,-0.1999999999999999]},\"yaxis2\":{\"anchor\":\"x2\",\"domain\":[0.0,0.255],\"linecolor\":\"black\",\"mirror\":true,\"showline\":true,\"title\":{\"text\":\"residuum\"},\"exponentformat\":\"power\",\"showexponent\":\"last\"},\"plot_bgcolor\":\"white\",\"shapes\":[{\"line\":{\"color\":\"black\",\"dash\":\"dash\",\"width\":1.0},\"type\":\"line\",\"x0\":-0.1999999999999999,\"x1\":0.1999999999999999,\"xref\":\"x2\",\"y0\":0,\"y1\":0,\"yref\":\"y2\"}],\"autosize\":false,\"width\":900,\"height\":700},                        {\"responsive\": true}                    ).then(function(){\n",
       "                            \n",
       "var gd = document.getElementById('fa19ed20-4e29-4d71-b281-45988866a1b9');\n",
       "var x = new MutationObserver(function (mutations, observer) {{\n",
       "        var display = window.getComputedStyle(gd).display;\n",
       "        if (!display || display === 'none') {{\n",
       "            console.log([gd, 'removed!']);\n",
       "            Plotly.purge(gd);\n",
       "            observer.disconnect();\n",
       "        }}\n",
       "}});\n",
       "\n",
       "// Listen for the removal of the full notebook cells\n",
       "var notebookContainer = gd.closest('#notebook-container');\n",
       "if (notebookContainer) {{\n",
       "    x.observe(notebookContainer, {childList: true});\n",
       "}}\n",
       "\n",
       "// Listen for the clearing of the current output cell\n",
       "var outputEl = gd.closest('.output');\n",
       "if (outputEl) {{\n",
       "    x.observe(outputEl, {childList: true});\n",
       "}}\n",
       "\n",
       "                        })                };                });            </script>        </div>"
      ]
     },
     "metadata": {},
     "output_type": "display_data"
    }
   ],
   "source": [
    "fig = sp.plot(ini=True, fit=True)\n",
    "fig.update_layout(autosize=False, width=900, height=700)\n",
    "fig.show()"
   ]
  }
 ],
 "metadata": {
  "kernelspec": {
   "display_name": "Python 3 (ipykernel)",
   "language": "python",
   "name": "python3"
  },
  "language_info": {
   "codemirror_mode": {
    "name": "ipython",
    "version": 3
   },
   "file_extension": ".py",
   "mimetype": "text/x-python",
   "name": "python",
   "nbconvert_exporter": "python",
   "pygments_lexer": "ipython3",
   "version": "3.9.13"
  }
 },
 "nbformat": 4,
 "nbformat_minor": 5
}
